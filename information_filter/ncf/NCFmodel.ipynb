{
 "cells": [
  {
   "cell_type": "code",
   "execution_count": 4,
   "metadata": {},
   "outputs": [],
   "source": [
    "from __future__ import print_function\n",
    "import torch\n",
    "import numpy as np"
   ]
  },
  {
   "cell_type": "markdown",
   "metadata": {},
   "source": [
    "# data"
   ]
  },
  {
   "cell_type": "code",
   "execution_count": 81,
   "metadata": {},
   "outputs": [],
   "source": [
    "a = torch.tensor(np.random.randn(2,3),dtype=torch.float32)"
   ]
  },
  {
   "cell_type": "code",
   "execution_count": 82,
   "metadata": {},
   "outputs": [
    {
     "name": "stdout",
     "output_type": "stream",
     "text": [
      "tensor([[ 0.4367,  1.8829,  0.3889],\n",
      "        [-0.3218, -0.1899, -0.0228]])\n"
     ]
    }
   ],
   "source": [
    "print(a)"
   ]
  },
  {
   "cell_type": "code",
   "execution_count": 83,
   "metadata": {},
   "outputs": [],
   "source": [
    "b = torch.tensor(np.random.rand(2,3),dtype=torch.float32)"
   ]
  },
  {
   "cell_type": "code",
   "execution_count": 84,
   "metadata": {},
   "outputs": [
    {
     "name": "stdout",
     "output_type": "stream",
     "text": [
      "tensor([[0.7290, 0.1775, 0.6117],\n",
      "        [0.8579, 0.1779, 0.1370]])\n"
     ]
    }
   ],
   "source": [
    "print(b)"
   ]
  },
  {
   "cell_type": "code",
   "execution_count": 85,
   "metadata": {},
   "outputs": [
    {
     "data": {
      "text/plain": [
       "tensor([[ 0.3183,  0.3343,  0.2379],\n",
       "        [-0.2761, -0.0338, -0.0031]])"
      ]
     },
     "execution_count": 85,
     "metadata": {},
     "output_type": "execute_result"
    }
   ],
   "source": [
    "a*b"
   ]
  },
  {
   "cell_type": "code",
   "execution_count": 114,
   "metadata": {},
   "outputs": [],
   "source": [
    "torch.mul?"
   ]
  },
  {
   "cell_type": "code",
   "execution_count": 87,
   "metadata": {},
   "outputs": [],
   "source": [
    "torch.cat?"
   ]
  },
  {
   "cell_type": "code",
   "execution_count": 88,
   "metadata": {},
   "outputs": [
    {
     "data": {
      "text/plain": [
       "tensor([[ 0.4367,  1.8829,  0.3889,  0.7290,  0.1775,  0.6117],\n",
       "        [-0.3218, -0.1899, -0.0228,  0.8579,  0.1779,  0.1370]])"
      ]
     },
     "execution_count": 88,
     "metadata": {},
     "output_type": "execute_result"
    }
   ],
   "source": [
    "torch.cat((a,b),dim = 1)"
   ]
  },
  {
   "cell_type": "markdown",
   "metadata": {},
   "source": [
    "# 2 model"
   ]
  },
  {
   "cell_type": "code",
   "execution_count": 11,
   "metadata": {},
   "outputs": [],
   "source": [
    "torch.nn.Embedding?"
   ]
  },
  {
   "cell_type": "code",
   "execution_count": 10,
   "metadata": {},
   "outputs": [],
   "source": [
    "torch.nn.Linear?"
   ]
  },
  {
   "cell_type": "code",
   "execution_count": 52,
   "metadata": {},
   "outputs": [],
   "source": [
    "torch.nn.Parameter?"
   ]
  },
  {
   "cell_type": "code",
   "execution_count": 131,
   "metadata": {},
   "outputs": [],
   "source": [
    "torch.nn.ModuleDict?"
   ]
  },
  {
   "cell_type": "code",
   "execution_count": 125,
   "metadata": {},
   "outputs": [],
   "source": [
    "class NET(torch.nn.Module):\n",
    "    def __init__(self,num_user,\\\n",
    "                 num_items,num_embed,\n",
    "                 hidden = None,model = 'PMF',\n",
    "                 pretrain_user = None,\n",
    "                 pretrain_item = None,\n",
    "                 pretrain = False):\n",
    "        '''\n",
    "        share embedding\n",
    "        '''\n",
    "        super(NET,self).__init__()   \n",
    "        \n",
    "        ##model structure init\n",
    "        ##user_embedding;\n",
    "        self.model = model\n",
    "        self.num_users = num_user\n",
    "        self.num_items = num_items\n",
    "        self.num_embed = num_embed\n",
    "        \n",
    "        self.user_embedding = torch.nn.Embedding(self.num_users,embedding_dim=self.num_embed)\n",
    "        \n",
    "        self.item_embedding = torch.nn.Embedding(self.num_items,embedding_dim=self.num_embed)\n",
    "        if pretrain:\n",
    "            self.user_embedding.weight = torch.nn.Parameter(torch.tensor(pretrain_user,dtype=torch.float32,requires_grad=True))\n",
    "            self.item_embedding.weight = torch.nn.Parameter(torch.tensor(pretrain_item,dtype = torch.float32,requires_grad=True))\n",
    "        \n",
    "        ##pmf linear project \n",
    "        self.pmf_mlp = torch.nn.Linear(self.num_embed,out_features=1)\n",
    "        \n",
    "        ##mlp\n",
    "        self.mlp = torch.nn.ModuleList()\n",
    "        last_dim = 2*self.num_embed\n",
    "        if hidden is not None:\n",
    "            for i in hidden:\n",
    "                fc = torch.nn.Linear(last_dim,i)\n",
    "                last_dim = i\n",
    "                self.mlp.append(fc)\n",
    "        self.mlp.append(torch.nn.Linear(hidden[-1],1))\n",
    "        \n",
    "        self.nmf = torch.nn.Linear(hidden[-1]+self.num_embed,1)\n",
    "        \n",
    "    def forward(self,user_vec,item_vec):\n",
    "        user_embed = self.user_embedding(user_vec)\n",
    "        item_embed = self.item_embedding(item_vec)\n",
    "        \n",
    "        ##element product between user_embed and item_embed\n",
    "        if 'PMF' == self.model:\n",
    "            product_embed = user_embed*item_embed\n",
    "            h1 = self.pmf_mlp(product_embed)\n",
    "            \n",
    "        elif 'MLP' == self.model:\n",
    "            cat_embed = torch.cat((user_embed,item_embed),dim=1)\n",
    "            h_in = cat_embed\n",
    "            for i in range(len(self.mlp)):\n",
    "                h_out = self.mlp[i](h_in)\n",
    "                h_out = torch.nn.ReLU()(h_out)\n",
    "                h_in = h_out\n",
    "            h1 = h_out\n",
    "        else:\n",
    "            product_embed = user_embed*item_embed\n",
    "            cat_embed = torch.cat((user_embed,item_embed),dim=1)\n",
    "            h_in = cat_embed\n",
    "            for i in range(len(self.mlp)-1):\n",
    "                h_out = self.mlp[i](h_in)\n",
    "                h_out = torch.nn.ReLU()(h_out)\n",
    "                h_in = h_out\n",
    "            print(product_embed)\n",
    "            print(h_out)\n",
    "            h1 = self.nmf(torch.cat((product_embed,h_out),dim=1))  \n",
    "        output = torch.nn.Sigmoid()(h1)\n",
    "        \n",
    "        return output"
   ]
  },
  {
   "cell_type": "code",
   "execution_count": 126,
   "metadata": {},
   "outputs": [],
   "source": [
    "net = NET(3,3,2,hidden=[3,4,5],model='NMF')"
   ]
  },
  {
   "cell_type": "code",
   "execution_count": 127,
   "metadata": {},
   "outputs": [],
   "source": [
    "user = torch.tensor([1,0])\n",
    "item = torch.tensor([2,2])"
   ]
  },
  {
   "cell_type": "code",
   "execution_count": 128,
   "metadata": {},
   "outputs": [
    {
     "name": "stdout",
     "output_type": "stream",
     "text": [
      "tensor([[-2.1004,  0.2978],\n",
      "        [-0.3253, -2.1483]], grad_fn=<MulBackward0>)\n",
      "tensor([[0.0000, 0.2862, 0.1973, 0.1929, 0.2708],\n",
      "        [0.0000, 0.2448, 0.1609, 0.2173, 0.2407]], grad_fn=<ReluBackward0>)\n"
     ]
    },
    {
     "data": {
      "text/plain": [
       "tensor([[0.6687],\n",
       "        [0.5442]], grad_fn=<SigmoidBackward>)"
      ]
     },
     "execution_count": 128,
     "metadata": {},
     "output_type": "execute_result"
    }
   ],
   "source": [
    "net(user,item)"
   ]
  },
  {
   "cell_type": "code",
   "execution_count": 129,
   "metadata": {},
   "outputs": [
    {
     "data": {
      "text/plain": [
       "Parameter containing:\n",
       "tensor([[ 0.1345,  1.4504],\n",
       "        [ 0.8685, -0.2011],\n",
       "        [ 0.1336, -0.6227]], requires_grad=True)"
      ]
     },
     "execution_count": 129,
     "metadata": {},
     "output_type": "execute_result"
    }
   ],
   "source": [
    "net.user_embedding.weight"
   ]
  },
  {
   "cell_type": "code",
   "execution_count": 130,
   "metadata": {},
   "outputs": [
    {
     "data": {
      "text/plain": [
       "Parameter containing:\n",
       "tensor([[ 0.4075, -0.1322],\n",
       "        [ 0.6980, -3.2352],\n",
       "        [-2.4183, -1.4812]], requires_grad=True)"
      ]
     },
     "execution_count": 130,
     "metadata": {},
     "output_type": "execute_result"
    }
   ],
   "source": [
    "net.item_embedding.weight"
   ]
  },
  {
   "cell_type": "code",
   "execution_count": null,
   "metadata": {},
   "outputs": [],
   "source": []
  }
 ],
 "metadata": {
  "kernelspec": {
   "display_name": "Python 3",
   "language": "python",
   "name": "python3"
  },
  "language_info": {
   "codemirror_mode": {
    "name": "ipython",
    "version": 3
   },
   "file_extension": ".py",
   "mimetype": "text/x-python",
   "name": "python",
   "nbconvert_exporter": "python",
   "pygments_lexer": "ipython3",
   "version": "3.7.6"
  }
 },
 "nbformat": 4,
 "nbformat_minor": 2
}
