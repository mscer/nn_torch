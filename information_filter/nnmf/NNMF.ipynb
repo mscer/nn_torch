{
 "cells": [
  {
   "cell_type": "code",
   "execution_count": 1,
   "metadata": {},
   "outputs": [],
   "source": [
    "from __future__ import print_function"
   ]
  },
  {
   "cell_type": "code",
   "execution_count": 2,
   "metadata": {},
   "outputs": [],
   "source": [
    "import torch\n",
    "import numpy as np"
   ]
  },
  {
   "cell_type": "markdown",
   "metadata": {},
   "source": [
    "# data"
   ]
  },
  {
   "cell_type": "code",
   "execution_count": 3,
   "metadata": {},
   "outputs": [],
   "source": [
    "a = torch.tensor(np.random.randn(2,3),dtype=torch.float32)"
   ]
  },
  {
   "cell_type": "code",
   "execution_count": 4,
   "metadata": {},
   "outputs": [
    {
     "data": {
      "text/plain": [
       "tensor([[-0.1916,  1.3776, -0.5148],\n",
       "        [ 0.2492, -0.6255,  0.5719]])"
      ]
     },
     "execution_count": 4,
     "metadata": {},
     "output_type": "execute_result"
    }
   ],
   "source": [
    "a"
   ]
  },
  {
   "cell_type": "code",
   "execution_count": 5,
   "metadata": {},
   "outputs": [],
   "source": [
    "b = torch.tensor(np.random.randn(2,3),dtype=torch.float32)"
   ]
  },
  {
   "cell_type": "code",
   "execution_count": 6,
   "metadata": {},
   "outputs": [
    {
     "data": {
      "text/plain": [
       "tensor([[-1.1233, -0.3184, -0.3484],\n",
       "        [ 1.2096, -1.6153,  0.2799]])"
      ]
     },
     "execution_count": 6,
     "metadata": {},
     "output_type": "execute_result"
    }
   ],
   "source": [
    "b"
   ]
  },
  {
   "cell_type": "code",
   "execution_count": 7,
   "metadata": {},
   "outputs": [
    {
     "data": {
      "text/plain": [
       "tensor([[ 0.2152, -0.4387,  0.1793],\n",
       "        [ 0.3014,  1.0104,  0.1601]])"
      ]
     },
     "execution_count": 7,
     "metadata": {},
     "output_type": "execute_result"
    }
   ],
   "source": [
    "a*b"
   ]
  },
  {
   "cell_type": "code",
   "execution_count": null,
   "metadata": {},
   "outputs": [],
   "source": []
  },
  {
   "cell_type": "markdown",
   "metadata": {},
   "source": [
    "# 2 model"
   ]
  },
  {
   "cell_type": "code",
   "execution_count": 9,
   "metadata": {},
   "outputs": [],
   "source": [
    "torch.nn.Embedding?"
   ]
  },
  {
   "cell_type": "code",
   "execution_count": 11,
   "metadata": {},
   "outputs": [],
   "source": [
    "torch.cat?"
   ]
  },
  {
   "cell_type": "code",
   "execution_count": 12,
   "metadata": {},
   "outputs": [],
   "source": [
    "class NET(torch.nn.Module):\n",
    "    def __init__(self,num_users,num_iterms,num_embed,num_embed2,hidden = None):\n",
    "        super(NET,self).__init__()\n",
    "        self.num_users = num_users\n",
    "        self.num_iterms = num_iterms\n",
    "        \n",
    "        self.user_embed = torch.nn.Embedding(self.num_users,num_embed)\n",
    "        self.item_embed = torch.nn.Embedding(self.num_iterms,num_embed)\n",
    "        \n",
    "        self.user_embed2 = torch.nn.Embedding(self.num_users,num_embed2)\n",
    "        self.item_embed2 = torch.nn.Embedding(self.num_iterms,num_embed2)\n",
    "        \n",
    "        #if pretrain set user_embed.weight = \n",
    "        self.mlp = torch.nn.ModuleList()\n",
    "        in_dim = num_embed*2 + num_embed2\n",
    "        for i in hidden:\n",
    "            fc = torch.nn.Linear(in_dim,i)\n",
    "            in_dim = i\n",
    "            self.mlp.append(fc)\n",
    "        \n",
    "        ##last hidden\n",
    "        self.h1 = torch.nn.Linear(hidden[-1],1)\n",
    "        \n",
    "    def forward(self,user,item):\n",
    "        user_embed1 = self.user_embed(user)\n",
    "        item_embed1 = self.item_embed(item)\n",
    "        \n",
    "        user_embed2 = self.user_embed2(user)\n",
    "        item_embed2 = self.item_embed2(item)\n",
    "        ##element product\n",
    "        product_embed = user_embed2*item_embed2\n",
    "        \n",
    "        cat_embed = torch.cat((user_embed1,item_embed1,product_embed),dim=1)\n",
    "        \n",
    "        ##mlp\n",
    "        in_vec = cat_embed\n",
    "        for i in range(len(self.mlp)):\n",
    "            out_vec = self.mlp[i](in_vec)\n",
    "            out_vec = torch.nn.ReLU()(out_vec)\n",
    "            in_vec = out_vec\n",
    "        \n",
    "        out = self.h1(out_vec)\n",
    "        return torch.nn.Sigmoid()(out)"
   ]
  },
  {
   "cell_type": "code",
   "execution_count": 14,
   "metadata": {},
   "outputs": [],
   "source": [
    "net = NET(4,4,3,2,hidden=[2,3,4])"
   ]
  },
  {
   "cell_type": "code",
   "execution_count": 20,
   "metadata": {},
   "outputs": [],
   "source": [
    "user = torch.tensor([3,2],dtype=torch.long)"
   ]
  },
  {
   "cell_type": "code",
   "execution_count": 21,
   "metadata": {},
   "outputs": [],
   "source": [
    "item = torch.tensor([1,2],dtype=torch.long)"
   ]
  },
  {
   "cell_type": "code",
   "execution_count": 22,
   "metadata": {},
   "outputs": [],
   "source": [
    "out = net(user,item)"
   ]
  },
  {
   "cell_type": "code",
   "execution_count": 23,
   "metadata": {},
   "outputs": [
    {
     "data": {
      "text/plain": [
       "tensor([[0.5555],\n",
       "        [0.5540]], grad_fn=<SigmoidBackward>)"
      ]
     },
     "execution_count": 23,
     "metadata": {},
     "output_type": "execute_result"
    }
   ],
   "source": [
    "out"
   ]
  },
  {
   "cell_type": "code",
   "execution_count": null,
   "metadata": {},
   "outputs": [],
   "source": []
  }
 ],
 "metadata": {
  "kernelspec": {
   "display_name": "Python 3",
   "language": "python",
   "name": "python3"
  },
  "language_info": {
   "codemirror_mode": {
    "name": "ipython",
    "version": 3
   },
   "file_extension": ".py",
   "mimetype": "text/x-python",
   "name": "python",
   "nbconvert_exporter": "python",
   "pygments_lexer": "ipython3",
   "version": "3.7.6"
  }
 },
 "nbformat": 4,
 "nbformat_minor": 2
}
