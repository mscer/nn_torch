{
 "cells": [
  {
   "cell_type": "code",
   "execution_count": 34,
   "metadata": {},
   "outputs": [],
   "source": [
    "import numpy as np\n",
    "import torch\n",
    "from torch.utils import data as data\n",
    "from d2l import torch as d2l"
   ]
  },
  {
   "cell_type": "markdown",
   "metadata": {},
   "source": [
    "# data/model+loss+optimize/train"
   ]
  },
  {
   "cell_type": "markdown",
   "metadata": {},
   "source": [
    "# 1 dataset"
   ]
  },
  {
   "cell_type": "code",
   "execution_count": 5,
   "metadata": {},
   "outputs": [],
   "source": [
    "true_w = torch.tensor?"
   ]
  },
  {
   "cell_type": "code",
   "execution_count": 29,
   "metadata": {},
   "outputs": [],
   "source": [
    "true_w = torch.tensor([2.,3.,4.])\n",
    "true_b = torch.tensor([5.0])"
   ]
  },
  {
   "cell_type": "code",
   "execution_count": 91,
   "metadata": {},
   "outputs": [],
   "source": [
    "d2l.synthetic_data?"
   ]
  },
  {
   "cell_type": "code",
   "execution_count": 40,
   "metadata": {},
   "outputs": [],
   "source": [
    "features,labels = d2l.synthetic_data(true_w,true_b,1000)"
   ]
  },
  {
   "cell_type": "code",
   "execution_count": 41,
   "metadata": {},
   "outputs": [
    {
     "data": {
      "text/plain": [
       "tensor([[ 1.3361,  0.5717, -0.5601],\n",
       "        [ 0.3164, -0.3525, -0.0363],\n",
       "        [-0.9356,  0.0513, -0.6181],\n",
       "        ...,\n",
       "        [ 1.1847, -0.3986,  1.1630],\n",
       "        [ 0.1090,  0.0078, -0.2054],\n",
       "        [-0.3050,  0.5119, -0.4406]])"
      ]
     },
     "execution_count": 41,
     "metadata": {},
     "output_type": "execute_result"
    }
   ],
   "source": [
    "features"
   ]
  },
  {
   "cell_type": "code",
   "execution_count": 42,
   "metadata": {},
   "outputs": [
    {
     "data": {
      "text/plain": [
       "torch.Size([1000, 1])"
      ]
     },
     "execution_count": 42,
     "metadata": {},
     "output_type": "execute_result"
    }
   ],
   "source": [
    "labels.shape"
   ]
  },
  {
   "cell_type": "code",
   "execution_count": null,
   "metadata": {},
   "outputs": [],
   "source": []
  },
  {
   "cell_type": "markdown",
   "metadata": {},
   "source": [
    "# 2 model/loss/optimize"
   ]
  },
  {
   "cell_type": "code",
   "execution_count": 49,
   "metadata": {},
   "outputs": [],
   "source": [
    "net = torch.nn.Linear?"
   ]
  },
  {
   "cell_type": "code",
   "execution_count": 50,
   "metadata": {},
   "outputs": [],
   "source": [
    "net = torch.nn.Linear(in_features=3,out_features=1,bias = True)"
   ]
  },
  {
   "cell_type": "markdown",
   "metadata": {},
   "source": [
    "## 2.1 init parameter"
   ]
  },
  {
   "cell_type": "code",
   "execution_count": 56,
   "metadata": {},
   "outputs": [
    {
     "data": {
      "text/plain": [
       "tensor([[-0.6803,  0.8429,  0.9100]])"
      ]
     },
     "execution_count": 56,
     "metadata": {},
     "output_type": "execute_result"
    }
   ],
   "source": [
    "net.weight.data.normal_(mean=0,std=1)"
   ]
  },
  {
   "cell_type": "code",
   "execution_count": 59,
   "metadata": {},
   "outputs": [
    {
     "data": {
      "text/plain": [
       "tensor([0.])"
      ]
     },
     "execution_count": 59,
     "metadata": {},
     "output_type": "execute_result"
    }
   ],
   "source": [
    "net.bias.data.fill_(0)"
   ]
  },
  {
   "cell_type": "markdown",
   "metadata": {},
   "source": [
    "## 2.2 loss"
   ]
  },
  {
   "cell_type": "code",
   "execution_count": 74,
   "metadata": {},
   "outputs": [],
   "source": [
    "loss_func = torch.nn.MSELoss()"
   ]
  },
  {
   "cell_type": "code",
   "execution_count": 75,
   "metadata": {},
   "outputs": [],
   "source": [
    "loss_func?"
   ]
  },
  {
   "cell_type": "markdown",
   "metadata": {},
   "source": [
    "## 2.3 optimize"
   ]
  },
  {
   "cell_type": "code",
   "execution_count": 63,
   "metadata": {},
   "outputs": [],
   "source": [
    "optimize = torch.optim.SGD?"
   ]
  },
  {
   "cell_type": "code",
   "execution_count": 85,
   "metadata": {},
   "outputs": [],
   "source": [
    "optimize = torch.optim.SGD(net.parameters(),lr=0.003)"
   ]
  },
  {
   "cell_type": "code",
   "execution_count": 86,
   "metadata": {},
   "outputs": [
    {
     "data": {
      "text/plain": [
       "<generator object Module.parameters at 0x134f46820>"
      ]
     },
     "execution_count": 86,
     "metadata": {},
     "output_type": "execute_result"
    }
   ],
   "source": [
    "net.parameters()"
   ]
  },
  {
   "cell_type": "markdown",
   "metadata": {},
   "source": [
    "# 3 train"
   ]
  },
  {
   "cell_type": "code",
   "execution_count": 87,
   "metadata": {},
   "outputs": [],
   "source": [
    "def load_array(dataset,batch_size,is_train=True):\n",
    "    dataset = data.TensorDataset(*dataset)\n",
    "    return data.DataLoader(dataset,batch_size,shuffle=is_train)"
   ]
  },
  {
   "cell_type": "code",
   "execution_count": 88,
   "metadata": {},
   "outputs": [],
   "source": [
    "batch_size = 10\n",
    "data_iter = load_array((feature,labels),batch_size=batch_size)"
   ]
  },
  {
   "cell_type": "code",
   "execution_count": 89,
   "metadata": {},
   "outputs": [],
   "source": [
    "num_epochs = 100"
   ]
  },
  {
   "cell_type": "code",
   "execution_count": 90,
   "metadata": {
    "scrolled": false
   },
   "outputs": [
    {
     "name": "stdout",
     "output_type": "stream",
     "text": [
      "loss tensor(28.9891, grad_fn=<MseLossBackward>)\n",
      "weight tensor([[-0.3655,  0.2544,  0.1559]])\n",
      "bias tensor([5.1896])\n",
      "loss tensor(29.2729, grad_fn=<MseLossBackward>)\n",
      "weight tensor([[-0.2913,  0.1837,  0.1193]])\n",
      "bias tensor([5.1427])\n",
      "loss tensor(29.5880, grad_fn=<MseLossBackward>)\n",
      "weight tensor([[-0.2914,  0.2242,  0.0580]])\n",
      "bias tensor([5.1514])\n",
      "loss tensor(29.5778, grad_fn=<MseLossBackward>)\n",
      "weight tensor([[-0.2922,  0.1707,  0.0916]])\n",
      "bias tensor([5.1485])\n",
      "loss tensor(29.6200, grad_fn=<MseLossBackward>)\n",
      "weight tensor([[-0.3126,  0.1715,  0.0984]])\n",
      "bias tensor([5.1597])\n",
      "loss tensor(29.4735, grad_fn=<MseLossBackward>)\n",
      "weight tensor([[-0.3194,  0.2069,  0.0983]])\n",
      "bias tensor([5.1468])\n",
      "loss tensor(29.7443, grad_fn=<MseLossBackward>)\n",
      "weight tensor([[-0.3093,  0.1897,  0.0707]])\n",
      "bias tensor([5.1545])\n",
      "loss tensor(29.7643, grad_fn=<MseLossBackward>)\n",
      "weight tensor([[-0.2976,  0.1644,  0.0767]])\n",
      "bias tensor([5.1568])\n",
      "loss tensor(29.4444, grad_fn=<MseLossBackward>)\n",
      "weight tensor([[-0.2949,  0.2067,  0.0873]])\n",
      "bias tensor([5.1236])\n",
      "loss tensor(29.6069, grad_fn=<MseLossBackward>)\n",
      "weight tensor([[-0.3226,  0.2073,  0.0843]])\n",
      "bias tensor([5.1417])\n",
      "loss tensor(29.2832, grad_fn=<MseLossBackward>)\n",
      "weight tensor([[-0.2948,  0.2256,  0.0950]])\n",
      "bias tensor([5.1534])\n",
      "loss tensor(29.5455, grad_fn=<MseLossBackward>)\n",
      "weight tensor([[-0.3024,  0.1988,  0.0845]])\n",
      "bias tensor([5.1379])\n",
      "loss tensor(29.6400, grad_fn=<MseLossBackward>)\n",
      "weight tensor([[-0.3112,  0.1908,  0.0835]])\n",
      "bias tensor([5.1524])\n",
      "loss tensor(29.6962, grad_fn=<MseLossBackward>)\n",
      "weight tensor([[-0.3356,  0.2056,  0.0826]])\n",
      "bias tensor([5.1399])\n",
      "loss tensor(29.7608, grad_fn=<MseLossBackward>)\n",
      "weight tensor([[-0.3278,  0.1890,  0.0803]])\n",
      "bias tensor([5.1560])\n",
      "loss tensor(29.8231, grad_fn=<MseLossBackward>)\n",
      "weight tensor([[-0.2949,  0.1700,  0.0649]])\n",
      "bias tensor([5.1233])\n",
      "loss tensor(29.7312, grad_fn=<MseLossBackward>)\n",
      "weight tensor([[-0.3243,  0.2000,  0.0751]])\n",
      "bias tensor([5.1719])\n",
      "loss tensor(29.4343, grad_fn=<MseLossBackward>)\n",
      "weight tensor([[-0.3037,  0.1881,  0.1050]])\n",
      "bias tensor([5.1332])\n",
      "loss tensor(29.5699, grad_fn=<MseLossBackward>)\n",
      "weight tensor([[-0.3144,  0.1990,  0.0887]])\n",
      "bias tensor([5.1544])\n",
      "loss tensor(29.5422, grad_fn=<MseLossBackward>)\n",
      "weight tensor([[-0.3196,  0.1838,  0.1042]])\n",
      "bias tensor([5.1489])\n"
     ]
    }
   ],
   "source": [
    "for i in range(num_epochs):\n",
    "    for x,y in data_iter:\n",
    "        pred_y = net(x)\n",
    "        loss = loss_func(pred_y,y)\n",
    "        optimize.zero_grad()\n",
    "        loss.backward()\n",
    "        optimize.step()\n",
    "    if i%5 == 0:\n",
    "        print('loss',loss_func(net(features),labels))\n",
    "        print('weight',net.weight.data)\n",
    "        print('bias',net.bias.data)"
   ]
  },
  {
   "cell_type": "code",
   "execution_count": null,
   "metadata": {},
   "outputs": [],
   "source": []
  }
 ],
 "metadata": {
  "kernelspec": {
   "display_name": "Python 3 (ipykernel)",
   "language": "python",
   "name": "python3"
  },
  "language_info": {
   "codemirror_mode": {
    "name": "ipython",
    "version": 3
   },
   "file_extension": ".py",
   "mimetype": "text/x-python",
   "name": "python",
   "nbconvert_exporter": "python",
   "pygments_lexer": "ipython3",
   "version": "3.9.5"
  }
 },
 "nbformat": 4,
 "nbformat_minor": 2
}
