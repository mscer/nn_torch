{
 "cells": [
  {
   "cell_type": "code",
   "execution_count": 2,
   "id": "a3188072",
   "metadata": {},
   "outputs": [],
   "source": [
    "import torch\n",
    "import torchvision\n",
    "from torch.utils import data"
   ]
  },
  {
   "cell_type": "markdown",
   "id": "0cca1d09",
   "metadata": {},
   "source": [
    "# data/model/loss/optimize/train"
   ]
  },
  {
   "cell_type": "markdown",
   "id": "bd828979",
   "metadata": {},
   "source": [
    "# 1 dataset"
   ]
  },
  {
   "cell_type": "code",
   "execution_count": 3,
   "id": "3e5e24fd",
   "metadata": {},
   "outputs": [],
   "source": [
    "#mnist_train = torchvision.datasets.FashionMNIST?"
   ]
  },
  {
   "cell_type": "code",
   "execution_count": 4,
   "id": "c7b15de4",
   "metadata": {},
   "outputs": [],
   "source": [
    "mnist_train = torchvision.datasets.FashionMNIST('../data',train=True,download=True,\n",
    "                                                transform = torchvision.transforms.ToTensor())"
   ]
  },
  {
   "cell_type": "code",
   "execution_count": 5,
   "id": "79199b8c",
   "metadata": {},
   "outputs": [],
   "source": [
    "mnist_test = torchvision.datasets.FashionMNIST('../data',train=False,download=True,\n",
    "                                              transform = torchvision.transforms.ToTensor())"
   ]
  },
  {
   "cell_type": "code",
   "execution_count": 6,
   "id": "eddfc1cb",
   "metadata": {},
   "outputs": [
    {
     "data": {
      "text/plain": [
       "Dataset FashionMNIST\n",
       "    Number of datapoints: 60000\n",
       "    Split: train\n",
       "    Root Location: ../data\n",
       "    Transforms (if any): ToTensor()\n",
       "    Target Transforms (if any): None"
      ]
     },
     "execution_count": 6,
     "metadata": {},
     "output_type": "execute_result"
    }
   ],
   "source": [
    "mnist_train"
   ]
  },
  {
   "cell_type": "code",
   "execution_count": 7,
   "id": "d9f3b358",
   "metadata": {},
   "outputs": [
    {
     "data": {
      "text/plain": [
       "tensor(9)"
      ]
     },
     "execution_count": 7,
     "metadata": {},
     "output_type": "execute_result"
    }
   ],
   "source": [
    "mnist_train.targets[0]"
   ]
  },
  {
   "cell_type": "code",
   "execution_count": 8,
   "id": "bcefb310",
   "metadata": {},
   "outputs": [
    {
     "data": {
      "text/plain": [
       "torch.Size([28, 28])"
      ]
     },
     "execution_count": 8,
     "metadata": {},
     "output_type": "execute_result"
    }
   ],
   "source": [
    "mnist_train.data[0].shape"
   ]
  },
  {
   "cell_type": "markdown",
   "id": "8c0fbfcf",
   "metadata": {},
   "source": [
    "## 1.2 dataloader"
   ]
  },
  {
   "cell_type": "code",
   "execution_count": 9,
   "id": "6800069d",
   "metadata": {},
   "outputs": [],
   "source": [
    "batch_size = 256"
   ]
  },
  {
   "cell_type": "code",
   "execution_count": 10,
   "id": "36fcdd88",
   "metadata": {},
   "outputs": [],
   "source": [
    "train_loader = data.DataLoader(mnist_train,batch_size=batch_size,shuffle=True)\n",
    "test_loader = data.DataLoader(mnist_test,batch_size=batch_size,shuffle=False)"
   ]
  },
  {
   "cell_type": "markdown",
   "id": "1eceb18c",
   "metadata": {},
   "source": [
    "# 2 model"
   ]
  },
  {
   "cell_type": "code",
   "execution_count": 11,
   "id": "06f155d0",
   "metadata": {},
   "outputs": [],
   "source": [
    "net = torch.nn.Sequential?"
   ]
  },
  {
   "cell_type": "code",
   "execution_count": null,
   "id": "8167a492",
   "metadata": {},
   "outputs": [],
   "source": [
    "net = torch.nn.Sequential"
   ]
  },
  {
   "cell_type": "code",
   "execution_count": 12,
   "id": "39daa037",
   "metadata": {},
   "outputs": [],
   "source": [
    "net = torch.nn.Sequential(torch.nn.Flatten(),torch.nn.Linear(28*28,10))"
   ]
  },
  {
   "cell_type": "code",
   "execution_count": 13,
   "id": "ce11c20b",
   "metadata": {},
   "outputs": [
    {
     "name": "stdout",
     "output_type": "stream",
     "text": [
      "Flatten(start_dim=1, end_dim=-1)\n",
      "Linear(in_features=784, out_features=10, bias=True)\n"
     ]
    }
   ],
   "source": [
    "for i in net.children():print(i)"
   ]
  },
  {
   "cell_type": "code",
   "execution_count": 14,
   "id": "44cc8ed8",
   "metadata": {},
   "outputs": [
    {
     "data": {
      "text/plain": [
       "tensor([ 0.0016,  0.0189,  0.0170, -0.0158, -0.0355, -0.0066, -0.0192, -0.0069,\n",
       "        -0.0137, -0.0092])"
      ]
     },
     "execution_count": 14,
     "metadata": {},
     "output_type": "execute_result"
    }
   ],
   "source": [
    "net[1].weight.data[0][:10]"
   ]
  },
  {
   "cell_type": "code",
   "execution_count": 17,
   "id": "5aab8008",
   "metadata": {},
   "outputs": [],
   "source": [
    "def init_weights(l):\n",
    "    if isinstance(l,torch.nn.Linear):\n",
    "        l.weight.data.normal_(mean=0,std=0.01)"
   ]
  },
  {
   "cell_type": "code",
   "execution_count": 18,
   "id": "f7a799da",
   "metadata": {},
   "outputs": [
    {
     "data": {
      "text/plain": [
       "Sequential(\n",
       "  (0): Flatten(start_dim=1, end_dim=-1)\n",
       "  (1): Linear(in_features=784, out_features=10, bias=True)\n",
       ")"
      ]
     },
     "execution_count": 18,
     "metadata": {},
     "output_type": "execute_result"
    }
   ],
   "source": [
    "net.apply(init_weights)"
   ]
  },
  {
   "cell_type": "code",
   "execution_count": 19,
   "id": "08454a37",
   "metadata": {},
   "outputs": [
    {
     "data": {
      "text/plain": [
       "tensor([ 0.0053,  0.0089, -0.0027, -0.0297, -0.0095,  0.0017, -0.0176, -0.0093,\n",
       "         0.0154,  0.0039])"
      ]
     },
     "execution_count": 19,
     "metadata": {},
     "output_type": "execute_result"
    }
   ],
   "source": [
    "net[1].weight.data[0][:10]"
   ]
  },
  {
   "cell_type": "markdown",
   "id": "b0167ef6",
   "metadata": {},
   "source": [
    "## 2.2 loss"
   ]
  },
  {
   "cell_type": "code",
   "execution_count": 20,
   "id": "f9fceb16",
   "metadata": {},
   "outputs": [],
   "source": [
    "torch.nn.CrossEntropyLoss?"
   ]
  },
  {
   "cell_type": "code",
   "execution_count": 21,
   "id": "d846766c",
   "metadata": {},
   "outputs": [],
   "source": [
    "torch.nn.NLLLoss?"
   ]
  },
  {
   "cell_type": "code",
   "execution_count": 22,
   "id": "279d7231",
   "metadata": {},
   "outputs": [],
   "source": [
    "torch.nn.LogSoftmax?"
   ]
  },
  {
   "cell_type": "code",
   "execution_count": 23,
   "id": "c72bc38b",
   "metadata": {},
   "outputs": [],
   "source": [
    "loss_func = torch.nn.CrossEntropyLoss?"
   ]
  },
  {
   "cell_type": "code",
   "execution_count": null,
   "id": "082565c6",
   "metadata": {},
   "outputs": [],
   "source": [
    "loss_func = torch.nn.CrossEntropyLoss"
   ]
  },
  {
   "cell_type": "code",
   "execution_count": 24,
   "id": "2cbec04f",
   "metadata": {},
   "outputs": [],
   "source": [
    "loss_func = torch.nn.CrossEntropyLoss()"
   ]
  },
  {
   "cell_type": "markdown",
   "id": "eb335170",
   "metadata": {},
   "source": [
    "## 2.3 optimize"
   ]
  },
  {
   "cell_type": "code",
   "execution_count": 25,
   "id": "30d28378",
   "metadata": {},
   "outputs": [],
   "source": [
    "optimize = torch.optim.Adam?"
   ]
  },
  {
   "cell_type": "code",
   "execution_count": null,
   "id": "0a9500a3",
   "metadata": {},
   "outputs": [],
   "source": [
    "optimize = torch.optim.Adam"
   ]
  },
  {
   "cell_type": "code",
   "execution_count": 26,
   "id": "39860ff1",
   "metadata": {},
   "outputs": [],
   "source": [
    "optimize = torch.optim.Adam(net.parameters(),lr=0.001,weight_decay=0.1)"
   ]
  },
  {
   "cell_type": "markdown",
   "id": "673a322d",
   "metadata": {},
   "source": [
    "# 3 train"
   ]
  },
  {
   "cell_type": "code",
   "execution_count": 27,
   "id": "490bbee4",
   "metadata": {},
   "outputs": [],
   "source": [
    "class Accumulator:\n",
    "    def __init__(self,n):\n",
    "        self.data=[0.0]*n\n",
    "    \n",
    "    def add(self,*args):\n",
    "        self.data = [a+float(b) for a,b in zip(self.data,args)]\n",
    "    \n",
    "    def reset(self):\n",
    "        self.data = [0.0]*n\n",
    "        \n",
    "    def __getitem__(self,idx):\n",
    "        return self.data[idx]"
   ]
  },
  {
   "cell_type": "code",
   "execution_count": 28,
   "id": "e510acea",
   "metadata": {},
   "outputs": [],
   "source": [
    "def accuracy(y_pred,y):\n",
    "    y_pred = torch.argmax(y_pred,-1)\n",
    "    return sum(y_pred==y)"
   ]
  },
  {
   "cell_type": "code",
   "execution_count": null,
   "id": "aa58db67",
   "metadata": {},
   "outputs": [],
   "source": []
  },
  {
   "cell_type": "code",
   "execution_count": 29,
   "id": "fc9d7bde",
   "metadata": {},
   "outputs": [
    {
     "data": {
      "text/plain": [
       "tensor(1)"
      ]
     },
     "execution_count": 29,
     "metadata": {},
     "output_type": "execute_result"
    }
   ],
   "source": [
    "y = torch.tensor([0, 2])\n",
    "y_hat = torch.tensor([[0.1, 0.3, 0.6], [0.3, 0.2, 0.5]])\n",
    "\n",
    "accuracy(y_hat, y)"
   ]
  },
  {
   "cell_type": "code",
   "execution_count": 30,
   "id": "7fe97728",
   "metadata": {},
   "outputs": [
    {
     "data": {
      "text/plain": [
       "tensor([2, 2])"
      ]
     },
     "execution_count": 30,
     "metadata": {},
     "output_type": "execute_result"
    }
   ],
   "source": [
    "torch.argmax(y_hat,-1)"
   ]
  },
  {
   "cell_type": "code",
   "execution_count": 31,
   "id": "96fd09d9",
   "metadata": {},
   "outputs": [],
   "source": [
    "def evaluate_acc(net,data_iter):\n",
    "    if isinstance(net,torch.nn.Module):\n",
    "        net.eval()\n",
    "    metric = Accumulator(2)\n",
    "    with torch.no_grad():\n",
    "        for x,y in data_iter:\n",
    "            y_pred = net(x)\n",
    "            ##compute \n",
    "            metric.add(accuracy(y_pred,y),y.numel())        \n",
    "    return metric[0]/metric[1]"
   ]
  },
  {
   "cell_type": "code",
   "execution_count": 32,
   "id": "49994f26",
   "metadata": {},
   "outputs": [],
   "source": [
    "a = torch.Tensor([2,3,4])"
   ]
  },
  {
   "cell_type": "code",
   "execution_count": 33,
   "id": "ddcbe7d1",
   "metadata": {},
   "outputs": [],
   "source": [
    "b = torch.Tensor([1,3,2])"
   ]
  },
  {
   "cell_type": "code",
   "execution_count": 34,
   "id": "c1839407",
   "metadata": {},
   "outputs": [
    {
     "data": {
      "text/plain": [
       "0.2059"
      ]
     },
     "execution_count": 34,
     "metadata": {},
     "output_type": "execute_result"
    }
   ],
   "source": [
    "evaluate_acc(net,test_loader)"
   ]
  },
  {
   "cell_type": "code",
   "execution_count": 35,
   "id": "5189886b",
   "metadata": {},
   "outputs": [],
   "source": [
    "def train_epoch(train_iter,net,loss,optimize):\n",
    "    if isinstance(net,torch.nn.Module):\n",
    "        net.train()\n",
    "    ##metric\n",
    "    metric = Accumulator(3)\n",
    "    for x,y in train_iter:\n",
    "        pred_y = net(x)\n",
    "        #print(y)\n",
    "        #print('predict',pred_y)\n",
    "        #print(torch.argmax(pred_y))\n",
    "        #print(y)\n",
    "        loss_tmp = loss(pred_y,y)\n",
    "        metric.add(loss_tmp*len(y),accuracy(pred_y,y),y.numel())\n",
    "        optimize.zero_grad()\n",
    "        loss_tmp.backward()\n",
    "        optimize.step()\n",
    "    return metric[0]/metric[2],metric[1]/metric[2]"
   ]
  },
  {
   "cell_type": "code",
   "execution_count": 36,
   "id": "53db31c5",
   "metadata": {
    "scrolled": false
   },
   "outputs": [
    {
     "data": {
      "text/plain": [
       "(0.9627803639729817, 0.7232333333333333)"
      ]
     },
     "execution_count": 36,
     "metadata": {},
     "output_type": "execute_result"
    }
   ],
   "source": [
    "train_epoch(train_loader,net,loss_func,optimize)"
   ]
  },
  {
   "cell_type": "code",
   "execution_count": 37,
   "id": "1a37d86f",
   "metadata": {},
   "outputs": [],
   "source": [
    "def train(train_iter,test_iter,net,loss,optimize,num_epochs):\n",
    "    for epoch in range(num_epochs):\n",
    "        train_metrics = train_epoch(train_iter,net,loss,optimize)\n",
    "        test_acc = evaluate_acc(net,test_loader)\n",
    "        print('epoch:%d\\ttrain_loss:%f\\ttrain_acc:%f\\ttest_acc:%f'%(epoch,train_metrics[0],train_metrics[1],test_acc))\n",
    "    train_loss,train_acc = train_metrics"
   ]
  },
  {
   "cell_type": "code",
   "execution_count": 38,
   "id": "bb124adf",
   "metadata": {},
   "outputs": [
    {
     "name": "stdout",
     "output_type": "stream",
     "text": [
      "epoch:0\ttrain_loss:0.823989\ttrain_acc:0.770083\ttest_acc:0.757600\n",
      "epoch:1\ttrain_loss:0.820781\ttrain_acc:0.770817\ttest_acc:0.749400\n",
      "epoch:2\ttrain_loss:0.821439\ttrain_acc:0.770167\ttest_acc:0.758700\n",
      "epoch:3\ttrain_loss:0.821272\ttrain_acc:0.770817\ttest_acc:0.761900\n",
      "epoch:4\ttrain_loss:0.819390\ttrain_acc:0.772350\ttest_acc:0.754700\n",
      "epoch:5\ttrain_loss:0.820360\ttrain_acc:0.770133\ttest_acc:0.749000\n",
      "epoch:6\ttrain_loss:0.820612\ttrain_acc:0.770483\ttest_acc:0.763400\n",
      "epoch:7\ttrain_loss:0.820937\ttrain_acc:0.770167\ttest_acc:0.758300\n",
      "epoch:8\ttrain_loss:0.820372\ttrain_acc:0.769883\ttest_acc:0.753700\n",
      "epoch:9\ttrain_loss:0.819770\ttrain_acc:0.771883\ttest_acc:0.764700\n"
     ]
    }
   ],
   "source": [
    "train(train_loader,test_loader,net,loss_func,optimize,num_epochs=10)"
   ]
  },
  {
   "cell_type": "code",
   "execution_count": null,
   "id": "0566055d",
   "metadata": {},
   "outputs": [],
   "source": []
  }
 ],
 "metadata": {
  "kernelspec": {
   "display_name": "Python 3 (ipykernel)",
   "language": "python",
   "name": "python3"
  },
  "language_info": {
   "codemirror_mode": {
    "name": "ipython",
    "version": 3
   },
   "file_extension": ".py",
   "mimetype": "text/x-python",
   "name": "python",
   "nbconvert_exporter": "python",
   "pygments_lexer": "ipython3",
   "version": "3.9.5"
  }
 },
 "nbformat": 4,
 "nbformat_minor": 5
}
