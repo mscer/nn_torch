{
 "cells": [
  {
   "cell_type": "code",
   "execution_count": 2,
   "id": "fbe48066",
   "metadata": {},
   "outputs": [],
   "source": [
    "import torch\n",
    "import numpy as np\n",
    "from torch.utils import data"
   ]
  },
  {
   "cell_type": "markdown",
   "id": "cafd0f13",
   "metadata": {},
   "source": [
    "# data/model/loss/optimize/train/eval"
   ]
  },
  {
   "cell_type": "markdown",
   "id": "c793f2b0",
   "metadata": {},
   "source": [
    "# 1 data"
   ]
  },
  {
   "cell_type": "code",
   "execution_count": 6,
   "id": "780e1ea7",
   "metadata": {},
   "outputs": [],
   "source": [
    "a = torch.Tensor([2,3,4])"
   ]
  },
  {
   "cell_type": "code",
   "execution_count": 14,
   "id": "f1a0e1ab",
   "metadata": {},
   "outputs": [],
   "source": [
    "torch.argmax?"
   ]
  },
  {
   "cell_type": "code",
   "execution_count": 15,
   "id": "006e0577",
   "metadata": {},
   "outputs": [],
   "source": [
    "torch.topk?"
   ]
  },
  {
   "cell_type": "code",
   "execution_count": 16,
   "id": "9a3989fc",
   "metadata": {},
   "outputs": [],
   "source": [
    "import torchvision"
   ]
  },
  {
   "cell_type": "code",
   "execution_count": 17,
   "id": "480df755",
   "metadata": {},
   "outputs": [],
   "source": [
    "torchvision.datasets?"
   ]
  },
  {
   "cell_type": "code",
   "execution_count": 18,
   "id": "018493ed",
   "metadata": {},
   "outputs": [],
   "source": [
    "mnist_train = torchvision.datasets.FashionMNIST('../data',train=True,download=True,\n",
    "                                                transform = torchvision.transforms.ToTensor())"
   ]
  },
  {
   "cell_type": "code",
   "execution_count": 19,
   "id": "f0d7ca28",
   "metadata": {},
   "outputs": [],
   "source": [
    "mnist_test = torchvision.datasets.FashionMNIST('../data',train=False,download=True,\n",
    "                                                transform = torchvision.transforms.ToTensor())"
   ]
  },
  {
   "cell_type": "code",
   "execution_count": 20,
   "id": "ed86d50e",
   "metadata": {},
   "outputs": [],
   "source": [
    "train_loader = data.DataLoader?"
   ]
  },
  {
   "cell_type": "code",
   "execution_count": 56,
   "id": "95f58737",
   "metadata": {},
   "outputs": [],
   "source": [
    "train_loader = data.DataLoader(mnist_train,shuffle=True,batch_size=256)\n",
    "test_loader = data.DataLoader(mnist_test,shuffle=False,batch_size=256)"
   ]
  },
  {
   "cell_type": "markdown",
   "id": "fcca0f74",
   "metadata": {},
   "source": [
    "# 2 model"
   ]
  },
  {
   "cell_type": "code",
   "execution_count": 23,
   "id": "5b09440e",
   "metadata": {},
   "outputs": [],
   "source": [
    "net = torch.nn.Sequential(torch.nn.Flatten(),torch.nn.Linear(28*28,128),\n",
    "                         torch.nn.ReLU(),\n",
    "                         torch.nn.Linear(128,10))"
   ]
  },
  {
   "cell_type": "markdown",
   "id": "e4e28a6e",
   "metadata": {},
   "source": [
    "## loss"
   ]
  },
  {
   "cell_type": "code",
   "execution_count": 24,
   "id": "48715b63",
   "metadata": {},
   "outputs": [],
   "source": [
    "loss_func = torch.nn.CrossEntropyLoss()"
   ]
  },
  {
   "cell_type": "markdown",
   "id": "595e96fe",
   "metadata": {},
   "source": [
    "## optimize"
   ]
  },
  {
   "cell_type": "code",
   "execution_count": 25,
   "id": "c56782a2",
   "metadata": {},
   "outputs": [],
   "source": [
    "optimize = torch.optim.AdamW?"
   ]
  },
  {
   "cell_type": "code",
   "execution_count": 26,
   "id": "c02778a9",
   "metadata": {},
   "outputs": [],
   "source": [
    "optimize = torch.optim.AdamW(net.parameters(),lr=0.02)"
   ]
  },
  {
   "cell_type": "markdown",
   "id": "44503322",
   "metadata": {},
   "source": [
    "## init"
   ]
  },
  {
   "cell_type": "code",
   "execution_count": 38,
   "id": "1aa285f1",
   "metadata": {},
   "outputs": [],
   "source": [
    "def init_weight(l):\n",
    "    if isinstance(l,torch.nn.Linear):\n",
    "        l.weight.data.normal_(mean=0,std=0.1)"
   ]
  },
  {
   "cell_type": "code",
   "execution_count": 39,
   "id": "45ed89d7",
   "metadata": {},
   "outputs": [
    {
     "data": {
      "text/plain": [
       "Sequential(\n",
       "  (0): Flatten(start_dim=1, end_dim=-1)\n",
       "  (1): Linear(in_features=784, out_features=128, bias=True)\n",
       "  (2): ReLU()\n",
       "  (3): Linear(in_features=128, out_features=10, bias=True)\n",
       ")"
      ]
     },
     "execution_count": 39,
     "metadata": {},
     "output_type": "execute_result"
    }
   ],
   "source": [
    "net.apply(init_weight)"
   ]
  },
  {
   "cell_type": "markdown",
   "id": "0b8a0622",
   "metadata": {},
   "source": [
    "# 3 train"
   ]
  },
  {
   "cell_type": "code",
   "execution_count": 42,
   "id": "a8ededc8",
   "metadata": {},
   "outputs": [],
   "source": [
    "def accuracy(y_pred,y,debug= False):\n",
    "    if len(y_pred.shape)>1 and y_pred.shape[1] >1:\n",
    "        y_pred = torch.argmax(y_pred,-1)\n",
    "    if debug:\n",
    "        print(y_pred)\n",
    "    return sum(y_pred == y)"
   ]
  },
  {
   "cell_type": "code",
   "execution_count": 43,
   "id": "f714e4b6",
   "metadata": {},
   "outputs": [],
   "source": [
    "tst_p = torch.Tensor([[0.8,0.1,0.1],[0.2,0.2,0.6]])\n",
    "tst_y = torch.Tensor([0,1])"
   ]
  },
  {
   "cell_type": "code",
   "execution_count": 45,
   "id": "fee199c8",
   "metadata": {},
   "outputs": [
    {
     "name": "stdout",
     "output_type": "stream",
     "text": [
      "tensor([0, 2])\n"
     ]
    },
    {
     "data": {
      "text/plain": [
       "tensor(1)"
      ]
     },
     "execution_count": 45,
     "metadata": {},
     "output_type": "execute_result"
    }
   ],
   "source": [
    "accuracy(tst_p,tst_y,True)"
   ]
  },
  {
   "cell_type": "code",
   "execution_count": 63,
   "id": "a97811ff",
   "metadata": {},
   "outputs": [],
   "source": [
    "class accumulator():\n",
    "    def __init__(self,n):\n",
    "        self.data = [0.0]*n\n",
    "        \n",
    "    def add(self,*args):\n",
    "        self.data = [a+float(b) for a,b in zip(self.data,args)]\n",
    "        \n",
    "    def __getitem__(self,idx):\n",
    "        return self.data[idx]"
   ]
  },
  {
   "cell_type": "code",
   "execution_count": 71,
   "id": "2afac578",
   "metadata": {},
   "outputs": [],
   "source": [
    "def eval_acc(data_iter,net):\n",
    "    if isinstance(net,torch.nn.Module):\n",
    "        net.eval()\n",
    "    metrics = accumulator(2)\n",
    "    for x,y in data_iter:\n",
    "        y_pred = net(x)\n",
    "        metrics.add(accuracy(y_pred,y),y.numel())\n",
    "    return metrics[0]/metrics[1]"
   ]
  },
  {
   "cell_type": "code",
   "execution_count": 72,
   "id": "d1b72e0a",
   "metadata": {},
   "outputs": [],
   "source": [
    "def train_epoch(data_iter,net,loss,optimize):\n",
    "    if isinstance(net,torch.nn.Module):\n",
    "        net.train()\n",
    "    metrics = accumulator(3)\n",
    "    for x,y in data_iter:\n",
    "        y_pred = net(x)\n",
    "        loss_tmp = loss(y_pred,y)\n",
    "        metrics.add(loss_tmp*len(y),accuracy(y_pred,y),y.numel())\n",
    "        ##bp\n",
    "        optimize.zero_grad()\n",
    "        loss_tmp.backward()\n",
    "        optimize.step()\n",
    "    return metrics[0]/metrics[2],metrics[1]/metrics[2]"
   ]
  },
  {
   "cell_type": "code",
   "execution_count": 73,
   "id": "fb308626",
   "metadata": {},
   "outputs": [],
   "source": [
    "def train(train_iter,test_iter,net,loss,optimize,num_epoch = 10):\n",
    "    for i in range(num_epoch):\n",
    "        ##train_step \n",
    "        train_metrics = train_epoch(train_iter,net,loss,optimize)\n",
    "        acc_test = eval_acc(test_iter,net)\n",
    "        print('epoch:%d\\ttrain-loss:%f\\ttrain-acc:%f\\ttest-acc:%f'%(i,train_metrics[0],train_metrics[1],acc_test))"
   ]
  },
  {
   "cell_type": "code",
   "execution_count": 74,
   "id": "91ad806a",
   "metadata": {},
   "outputs": [
    {
     "name": "stdout",
     "output_type": "stream",
     "text": [
      "epoch:0\ttrain-loss:0.418182\ttrain-acc:0.851067\ttest-acc:0.838200\n",
      "epoch:1\ttrain-loss:0.389322\ttrain-acc:0.858467\ttest-acc:0.841500\n",
      "epoch:2\ttrain-loss:0.372359\ttrain-acc:0.865650\ttest-acc:0.838600\n",
      "epoch:3\ttrain-loss:0.361586\ttrain-acc:0.867300\ttest-acc:0.852400\n",
      "epoch:4\ttrain-loss:0.350666\ttrain-acc:0.871350\ttest-acc:0.849600\n",
      "epoch:5\ttrain-loss:0.343054\ttrain-acc:0.875567\ttest-acc:0.852500\n",
      "epoch:6\ttrain-loss:0.340757\ttrain-acc:0.875950\ttest-acc:0.859400\n",
      "epoch:7\ttrain-loss:0.334956\ttrain-acc:0.876617\ttest-acc:0.843600\n",
      "epoch:8\ttrain-loss:0.333300\ttrain-acc:0.878033\ttest-acc:0.849700\n",
      "epoch:9\ttrain-loss:0.329943\ttrain-acc:0.879117\ttest-acc:0.860800\n"
     ]
    }
   ],
   "source": [
    "train(train_iter=train_loader,test_iter=test_loader,net=net,loss= loss_func,optimize=optimize,num_epoch=10)"
   ]
  },
  {
   "cell_type": "code",
   "execution_count": 76,
   "id": "06d71d35",
   "metadata": {},
   "outputs": [
    {
     "data": {
      "text/plain": [
       "[Parameter containing:\n",
       " tensor([[ 0.0266, -0.1251,  0.0082,  ...,  0.0142,  0.0755, -0.1089],\n",
       "         [ 0.0161, -0.0544,  0.0448,  ..., -0.0313, -0.0067, -0.0028],\n",
       "         [-0.0922, -0.0747,  0.0458,  ..., -0.0873,  0.1171, -0.4024],\n",
       "         ...,\n",
       "         [ 0.0272,  0.1183, -0.1392,  ..., -0.0741,  0.1250, -0.0768],\n",
       "         [-0.0244,  0.0390,  0.0808,  ...,  0.0925,  0.0629,  0.0304],\n",
       "         [ 0.0535,  0.0826, -0.0231,  ...,  0.0269,  0.0158, -0.0448]],\n",
       "        requires_grad=True),\n",
       " Parameter containing:\n",
       " tensor([-0.0960, -0.1129,  0.0497, -0.1024,  0.5894,  0.8789, -0.0600, -0.0261,\n",
       "         -0.1892, -0.0735, -0.0433, -0.2822, -0.0922, -0.0881, -0.3114, -0.0645,\n",
       "         -0.0906, -0.0801, -0.0617,  1.0136, -0.0164, -0.1040, -0.2366, -0.0460,\n",
       "         -0.0544,  2.5766,  0.0033,  2.1449,  1.5758, -0.0432, -0.0359, -0.0698,\n",
       "          0.0553, -0.0118,  0.1946, -0.0801, -0.0636,  1.0120, -0.0636, -0.0855,\n",
       "          0.8600, -0.0795, -0.0764,  0.0053, -0.0554, -0.0673, -0.0930, -0.0966,\n",
       "         -0.0687,  1.1837,  0.7431, -0.0733, -0.0377, -0.0787, -0.0231, -0.0683,\n",
       "         -0.0522, -0.0742, -0.0082, -0.0293, -0.0967,  0.7494, -0.0175, -0.0763,\n",
       "         -0.0921, -0.0926, -0.0926,  0.6480,  2.8712, -0.0783, -0.0775,  0.9315,\n",
       "          0.4866, -0.0845, -0.3018, -0.0750, -0.0689, -0.7246,  0.3315, -0.0251,\n",
       "         -0.0913, -0.0594, -0.0606, -0.0906, -0.0874,  0.4744, -0.0632, -0.0623,\n",
       "          0.1054, -0.1866, -0.0616, -0.0905, -0.0751,  1.7788, -0.0746,  1.0039,\n",
       "         -0.1106, -0.0664, -0.0335,  1.4437, -0.0768, -0.4669, -0.0635, -0.2620,\n",
       "         -0.0317, -0.4813,  0.6554, -0.0412, -0.0702,  0.0332,  0.1988, -0.0684,\n",
       "         -0.0550, -0.0680, -0.1195, -0.0582, -0.0390, -0.1448, -0.0792, -0.0564,\n",
       "         -0.0861, -0.0536, -0.0746, -0.0442, -0.0884, -0.0741, -0.0838, -0.0345],\n",
       "        requires_grad=True),\n",
       " Parameter containing:\n",
       " tensor([[ 0.0800, -0.0333, -0.3471,  ...,  0.0476, -0.0753, -0.0902],\n",
       "         [-0.0013,  0.0436,  0.0150,  ...,  0.0063, -0.0618, -0.0196],\n",
       "         [ 0.0493, -0.1331, -0.1760,  ...,  0.1322,  0.0703,  0.0055],\n",
       "         ...,\n",
       "         [-0.0313, -0.0641,  0.0947,  ...,  0.0082, -0.0399,  0.0220],\n",
       "         [ 0.0938, -0.0468, -0.4691,  ...,  0.0107,  0.0212,  0.1176],\n",
       "         [ 0.0068, -0.0424,  0.1448,  ...,  0.1438, -0.0223, -0.0067]],\n",
       "        requires_grad=True),\n",
       " Parameter containing:\n",
       " tensor([ 0.1306, -0.7649,  0.6740,  0.4294, -0.3958,  0.0092,  0.4202, -0.0436,\n",
       "          0.4748, -1.6734], requires_grad=True)]"
      ]
     },
     "execution_count": 76,
     "metadata": {},
     "output_type": "execute_result"
    }
   ],
   "source": [
    "list(net.parameters())"
   ]
  },
  {
   "cell_type": "code",
   "execution_count": 77,
   "id": "3c758896",
   "metadata": {},
   "outputs": [],
   "source": [
    "torch.nn.Linear??"
   ]
  },
  {
   "cell_type": "code",
   "execution_count": null,
   "id": "6bb42c18",
   "metadata": {},
   "outputs": [],
   "source": []
  }
 ],
 "metadata": {
  "kernelspec": {
   "display_name": "Python 3 (ipykernel)",
   "language": "python",
   "name": "python3"
  },
  "language_info": {
   "codemirror_mode": {
    "name": "ipython",
    "version": 3
   },
   "file_extension": ".py",
   "mimetype": "text/x-python",
   "name": "python",
   "nbconvert_exporter": "python",
   "pygments_lexer": "ipython3",
   "version": "3.9.5"
  }
 },
 "nbformat": 4,
 "nbformat_minor": 5
}
