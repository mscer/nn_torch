{
 "cells": [
  {
   "cell_type": "code",
   "execution_count": 1,
   "id": "4eacc16a",
   "metadata": {},
   "outputs": [],
   "source": [
    "import transformers\n",
    "import numpy as np\n",
    "import torch"
   ]
  },
  {
   "cell_type": "code",
   "execution_count": 2,
   "id": "55a103f4",
   "metadata": {},
   "outputs": [],
   "source": [
    "from transformers import  AutoTokenizer,AutoModel,BertModel"
   ]
  },
  {
   "cell_type": "code",
   "execution_count": 3,
   "id": "dc8ff3d1",
   "metadata": {},
   "outputs": [],
   "source": [
    "token = AutoTokenizer.from_pretrained('./ft_lm/add_token/')"
   ]
  },
  {
   "cell_type": "code",
   "execution_count": 4,
   "id": "09848bbc",
   "metadata": {},
   "outputs": [
    {
     "data": {
      "text/plain": [
       "21503"
      ]
     },
     "execution_count": 4,
     "metadata": {},
     "output_type": "execute_result"
    }
   ],
   "source": [
    "len(token)"
   ]
  },
  {
   "cell_type": "code",
   "execution_count": 5,
   "id": "4914a410",
   "metadata": {},
   "outputs": [
    {
     "name": "stderr",
     "output_type": "stream",
     "text": [
      "Some weights of BertModel were not initialized from the model checkpoint at ./ft_lm/add_token/ and are newly initialized: ['bert.pooler.dense.weight', 'bert.pooler.dense.bias']\n",
      "You should probably TRAIN this model on a down-stream task to be able to use it for predictions and inference.\n"
     ]
    }
   ],
   "source": [
    "model = BertModel.from_pretrained('./ft_lm/add_token/')"
   ]
  },
  {
   "cell_type": "code",
   "execution_count": 6,
   "id": "95b6773f",
   "metadata": {},
   "outputs": [],
   "source": [
    "#model: bert+pool"
   ]
  },
  {
   "cell_type": "code",
   "execution_count": 7,
   "id": "f41a424a",
   "metadata": {},
   "outputs": [],
   "source": [
    "#model"
   ]
  },
  {
   "cell_type": "code",
   "execution_count": 8,
   "id": "7ec7474b",
   "metadata": {},
   "outputs": [],
   "source": [
    "seq = '北京市朝阳区望京首开广场'"
   ]
  },
  {
   "cell_type": "code",
   "execution_count": 9,
   "id": "8dc59b6b",
   "metadata": {},
   "outputs": [],
   "source": [
    "token.encode?"
   ]
  },
  {
   "cell_type": "code",
   "execution_count": 10,
   "id": "0114133f",
   "metadata": {},
   "outputs": [],
   "source": [
    "token_seq = token(seq,max_length=20,add_special_tokens=True,padding='max_length',truncation=True,return_tensors='pt')"
   ]
  },
  {
   "cell_type": "code",
   "execution_count": 11,
   "id": "b409404b",
   "metadata": {},
   "outputs": [
    {
     "data": {
      "text/plain": [
       "{'input_ids': tensor([[ 101, 1266,  776, 2356, 3308, 7345, 1277, 3307,  776, 7674, 2458, 2408,\n",
       "         1767,  102,    0,    0,    0,    0,    0,    0]]), 'token_type_ids': tensor([[0, 0, 0, 0, 0, 0, 0, 0, 0, 0, 0, 0, 0, 0, 0, 0, 0, 0, 0, 0]]), 'attention_mask': tensor([[1, 1, 1, 1, 1, 1, 1, 1, 1, 1, 1, 1, 1, 1, 0, 0, 0, 0, 0, 0]])}"
      ]
     },
     "execution_count": 11,
     "metadata": {},
     "output_type": "execute_result"
    }
   ],
   "source": [
    "token_seq"
   ]
  },
  {
   "cell_type": "code",
   "execution_count": 12,
   "id": "abece927",
   "metadata": {},
   "outputs": [
    {
     "data": {
      "text/plain": [
       "'[CLS] 北 京 市 朝 阳 区 望 京 首 开 广 场 [SEP]'"
      ]
     },
     "execution_count": 12,
     "metadata": {},
     "output_type": "execute_result"
    }
   ],
   "source": [
    "token.decode(token(seq)['input_ids'])"
   ]
  },
  {
   "cell_type": "code",
   "execution_count": 13,
   "id": "c74b408b",
   "metadata": {
    "scrolled": false
   },
   "outputs": [],
   "source": [
    "output = model(**token_seq)"
   ]
  },
  {
   "cell_type": "code",
   "execution_count": 14,
   "id": "38db9aee",
   "metadata": {},
   "outputs": [
    {
     "data": {
      "text/plain": [
       "odict_keys(['last_hidden_state', 'pooler_output'])"
      ]
     },
     "execution_count": 14,
     "metadata": {},
     "output_type": "execute_result"
    }
   ],
   "source": [
    "output.keys()"
   ]
  },
  {
   "cell_type": "code",
   "execution_count": 15,
   "id": "ae4bf00a",
   "metadata": {},
   "outputs": [
    {
     "data": {
      "text/plain": [
       "torch.Size([20, 768])"
      ]
     },
     "execution_count": 15,
     "metadata": {},
     "output_type": "execute_result"
    }
   ],
   "source": [
    "output['last_hidden_state'][0].shape"
   ]
  },
  {
   "cell_type": "code",
   "execution_count": 16,
   "id": "e8ee6836",
   "metadata": {},
   "outputs": [
    {
     "data": {
      "text/plain": [
       "torch.Size([768])"
      ]
     },
     "execution_count": 16,
     "metadata": {},
     "output_type": "execute_result"
    }
   ],
   "source": [
    "output['pooler_output'][0].shape"
   ]
  },
  {
   "cell_type": "markdown",
   "id": "b608e400",
   "metadata": {},
   "source": [
    "## 2 memnet"
   ]
  },
  {
   "cell_type": "code",
   "execution_count": 31,
   "id": "3d020069",
   "metadata": {},
   "outputs": [],
   "source": [
    "class MemNet(torch.nn.Module):\n",
    "    def __init__(self,num_geo = 10000,num_en = 500,dim_en=768*2):\n",
    "        super(MemNet, self).__init__()\n",
    "        ##mem_key and mem_value\n",
    "        self.num_geo = num_geo\n",
    "        self.num_en = num_en\n",
    "        self.dim_en = dim_en\n",
    "        self.mem_keys = torch.nn.Parameter(torch.Tensor(num_geo,num_en*dim_en))\n",
    "        self.mem_vals = torch.nn.Parameter(torch.Tensor(num_geo,num_en*dim_en))\n",
    "        ##weight init\n",
    "        self.mem_keys.data.normal_(0,std=0.01)\n",
    "        self.mem_vals.data.normal_(0,std=0.01)\n",
    "        \n",
    "        self.sfm = torch.nn.Softmax(dim=-1)\n",
    "    \n",
    "    def forward(self,index_geo,query,topK =2,tem_coe = 0.05,debug= False):\n",
    "        ##[num_en,dim_en]\n",
    "        mem_key = self.mem_keys[index_geo].view(self.num_en,-1)\n",
    "        if debug:\n",
    "            print('mem_key',mem_key.shape,mem_key)\n",
    "        ##[num_en,dim_en]\n",
    "        mem_val = self.mem_vals[index_geo].view(self.num_en,-1)\n",
    "        if debug:\n",
    "            print('mem_val',mem_val.shape,mem_val)\n",
    "        ##[batch_size,dim_en]\n",
    "        query = query.view(-1,self.dim_en)\n",
    "        if debug:\n",
    "            print('query',query.shape)\n",
    "        ##compute softmax\n",
    "        ##[batch_size,dim_en] [num_en,dim_en]\n",
    "        ##print(torch.tensordot(query,mem_key,dims=([1],[1])))\n",
    "        att_weight = torch.tensordot(query,mem_key,dims=([1],[1]))\n",
    "        if debug:\n",
    "            print('before top k att_weight:',att_weight)\n",
    "        att_weight = self.get_topk_mask(att_weight,query,topK)\n",
    "        att_weight /= tem_coe\n",
    "        if debug:\n",
    "            print('after topk att_weight',att_weight)\n",
    "        att_weight = self.sfm(att_weight)\n",
    "        if debug:\n",
    "            print('after topk att_weight',att_weight)\n",
    "        #print(att_weight.shape)\n",
    "\n",
    "        att_value = torch.matmul(att_weight,mem_val)\n",
    "        \n",
    "        return att_value\n",
    "    \n",
    "    def get_topk_mask(self,att_weight,query,topK):\n",
    "        topv = torch.min(torch.topk(att_weight,topK,sorted=False).values,dim=-1).values.view(query.shape[0],-1)\n",
    "        att_weight = att_weight* ((att_weight - topv)>=0)- 10**8* ((att_weight - topv)<0)\n",
    "        #print('pos',att_weight* ((att_weight - topv)>=0))\n",
    "        \n",
    "        return att_weight"
   ]
  },
  {
   "cell_type": "code",
   "execution_count": 32,
   "id": "63e75876",
   "metadata": {},
   "outputs": [],
   "source": [
    "#memnet = MemNet(2,3,4)"
   ]
  },
  {
   "cell_type": "code",
   "execution_count": 33,
   "id": "8ef2d055",
   "metadata": {},
   "outputs": [],
   "source": [
    "#h1 = memnet(0,query,2)"
   ]
  },
  {
   "cell_type": "code",
   "execution_count": 39,
   "id": "1ece9fc2",
   "metadata": {},
   "outputs": [],
   "source": [
    "class net(torch.nn.Module):\n",
    "    def __init__(self,num_geo = 2,num_en = 3,dim_en=4):\n",
    "        super().__init__()\n",
    "        self.memnet = MemNet(num_geo,num_en,dim_en)\n",
    "        self.pred = torch.nn.Linear(in_features=dim_en,out_features=2)\n",
    "        \n",
    "        \n",
    "    def forward(self,x,tem_coe = 0.05,debug=False):\n",
    "        h1 = self.memnet(0,x,2,tem_coe,debug)\n",
    "        out = self.pred(h1)\n",
    "        return out,self.memnet.mem_keys,self.memnet.mem_vals\n",
    "        "
   ]
  },
  {
   "cell_type": "code",
   "execution_count": 40,
   "id": "8adee11a",
   "metadata": {},
   "outputs": [],
   "source": [
    "query = torch.Tensor([[0.1,0.2,0.3,0.4],[2.5,0.1,0.1,0.2]])\n",
    "query.shape\n",
    "label = torch.Tensor([0,1]).long()"
   ]
  },
  {
   "cell_type": "code",
   "execution_count": 41,
   "id": "1262beb8",
   "metadata": {},
   "outputs": [],
   "source": [
    "model = net()"
   ]
  },
  {
   "cell_type": "code",
   "execution_count": 42,
   "id": "f5800798",
   "metadata": {},
   "outputs": [],
   "source": [
    "loss_func = torch.nn.CrossEntropyLoss()\n",
    "optimize = torch.optim.SGD(model.parameters(),lr=1)"
   ]
  },
  {
   "cell_type": "code",
   "execution_count": 53,
   "id": "a30183d0",
   "metadata": {
    "scrolled": false
   },
   "outputs": [
    {
     "name": "stdout",
     "output_type": "stream",
     "text": [
      "mem_keys tensor([ 0.0574, -0.0093, -0.0049, -0.0051, -0.0050,  0.0152, -0.0014, -0.0197,\n",
      "        -0.0448, -0.0167,  0.0026,  0.0086], grad_fn=<SelectBackward>)\n",
      "mem_vals tensor([ 0.0005, -0.0108,  0.0239,  0.0463, -0.0069, -0.0102, -0.0152, -0.0015,\n",
      "        -0.0273, -0.0172,  0.0145,  0.0346], grad_fn=<SelectBackward>)\n",
      "mem_key torch.Size([3, 4]) tensor([[ 0.0574, -0.0093, -0.0049, -0.0051],\n",
      "        [-0.0050,  0.0152, -0.0014, -0.0197],\n",
      "        [-0.0448, -0.0167,  0.0026,  0.0086]], grad_fn=<ViewBackward>)\n",
      "mem_val torch.Size([3, 4]) tensor([[ 0.0005, -0.0108,  0.0239,  0.0463],\n",
      "        [-0.0069, -0.0102, -0.0152, -0.0015],\n",
      "        [-0.0273, -0.0172,  0.0145,  0.0346]], grad_fn=<ViewBackward>)\n",
      "query torch.Size([2, 4])\n",
      "before top k att_weight: tensor([[ 0.0004, -0.0058, -0.0036],\n",
      "        [ 0.1411, -0.0150, -0.1117]], grad_fn=<ViewBackward>)\n",
      "after topk att_weight tensor([[ 8.0622e-02, -2.0000e+10, -7.2441e-01],\n",
      "        [ 2.8213e+01, -3.0057e+00, -2.0000e+10]], grad_fn=<DivBackward0>)\n",
      "after topk att_weight tensor([[6.9105e-01, 0.0000e+00, 3.0895e-01],\n",
      "        [1.0000e+00, 2.7675e-14, 0.0000e+00]], grad_fn=<SoftmaxBackward>)\n",
      "tensor(0.6955, grad_fn=<NllLossBackward>)\n"
     ]
    }
   ],
   "source": [
    "##train\n",
    "for i in range(1):\n",
    "    print('mem_keys',model.memnet.mem_keys[0])\n",
    "    print('mem_vals',model.memnet.mem_vals[0])\n",
    "    pred,memkey,memval  = model(query,debug=True,tem_coe = 0.005)\n",
    "    loss_tmp = loss_func(pred,label)\n",
    "    #print(torch.autograd.grad(loss_tmp,memkey,retain_graph=True))\n",
    "    #print(torch.autograd.grad(loss_tmp,memval,retain_graph=True))\n",
    "    optimize.zero_grad()\n",
    "    #loss_tmp.backward()\n",
    "    #optimize.step()\n",
    "    #print(pred)\n",
    "    print(loss_tmp)"
   ]
  },
  {
   "cell_type": "code",
   "execution_count": null,
   "id": "a49b97ef",
   "metadata": {},
   "outputs": [],
   "source": [
    "model.memnet.mem_keys[0]"
   ]
  },
  {
   "cell_type": "code",
   "execution_count": null,
   "id": "5c933d25",
   "metadata": {},
   "outputs": [],
   "source": [
    "model.memnet.mem_vals[0]"
   ]
  },
  {
   "cell_type": "code",
   "execution_count": null,
   "id": "fa460a4d",
   "metadata": {},
   "outputs": [],
   "source": []
  },
  {
   "cell_type": "code",
   "execution_count": null,
   "id": "046e3d68",
   "metadata": {},
   "outputs": [],
   "source": [
    "loss_tmp"
   ]
  },
  {
   "cell_type": "code",
   "execution_count": null,
   "id": "1eee0cd7",
   "metadata": {},
   "outputs": [],
   "source": [
    "##ouput grad"
   ]
  },
  {
   "cell_type": "code",
   "execution_count": null,
   "id": "33d33308",
   "metadata": {},
   "outputs": [],
   "source": [
    "model"
   ]
  },
  {
   "cell_type": "code",
   "execution_count": null,
   "id": "13c31044",
   "metadata": {},
   "outputs": [],
   "source": [
    "pred,a = model(query)\n",
    "loss_tmp = loss_func(pred,label)\n",
    "torch.autograd.grad(loss_tmp,a)"
   ]
  },
  {
   "cell_type": "code",
   "execution_count": null,
   "id": "e4666885",
   "metadata": {},
   "outputs": [],
   "source": [
    "torch.autograd.grad?"
   ]
  },
  {
   "cell_type": "code",
   "execution_count": null,
   "id": "7e65e61a",
   "metadata": {},
   "outputs": [],
   "source": [
    "a"
   ]
  },
  {
   "cell_type": "code",
   "execution_count": null,
   "id": "353f38c7",
   "metadata": {},
   "outputs": [],
   "source": [
    "0.0142-0.0096"
   ]
  },
  {
   "cell_type": "code",
   "execution_count": 28,
   "id": "624d5ef3",
   "metadata": {},
   "outputs": [],
   "source": [
    "model.to?"
   ]
  },
  {
   "cell_type": "code",
   "execution_count": null,
   "id": "a48021bb",
   "metadata": {},
   "outputs": [],
   "source": []
  }
 ],
 "metadata": {
  "kernelspec": {
   "display_name": "Python 3",
   "language": "python",
   "name": "python3"
  },
  "language_info": {
   "codemirror_mode": {
    "name": "ipython",
    "version": 3
   },
   "file_extension": ".py",
   "mimetype": "text/x-python",
   "name": "python",
   "nbconvert_exporter": "python",
   "pygments_lexer": "ipython3",
   "version": "3.6.13"
  }
 },
 "nbformat": 4,
 "nbformat_minor": 5
}
