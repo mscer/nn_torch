{
 "cells": [
  {
   "cell_type": "code",
   "execution_count": 1,
   "id": "49252516",
   "metadata": {},
   "outputs": [],
   "source": [
    "import torch\n",
    "import torchvision\n",
    "from torch.utils import data"
   ]
  },
  {
   "cell_type": "markdown",
   "id": "40075e19",
   "metadata": {},
   "source": [
    "# data/model/optimize/loss/init/train"
   ]
  },
  {
   "cell_type": "markdown",
   "id": "58c93cb9",
   "metadata": {},
   "source": [
    "# data"
   ]
  },
  {
   "cell_type": "code",
   "execution_count": 2,
   "id": "31625bef",
   "metadata": {},
   "outputs": [],
   "source": [
    "mnist_train = torchvision.datasets.FashionMNIST('../data',train=True,download=True,\n",
    "                                                transform = torchvision.transforms.ToTensor())"
   ]
  },
  {
   "cell_type": "code",
   "execution_count": 3,
   "id": "27df2198",
   "metadata": {},
   "outputs": [],
   "source": [
    "mnist_test = torchvision.datasets.FashionMNIST('../data',train=False,download=True,\n",
    "                                              transform = torchvision.transforms.ToTensor())"
   ]
  },
  {
   "cell_type": "code",
   "execution_count": 4,
   "id": "a955c7f0",
   "metadata": {},
   "outputs": [],
   "source": [
    "batch_size = 256"
   ]
  },
  {
   "cell_type": "code",
   "execution_count": 5,
   "id": "e26c4fc5",
   "metadata": {},
   "outputs": [],
   "source": [
    "train_loader = data.DataLoader?"
   ]
  },
  {
   "cell_type": "code",
   "execution_count": null,
   "id": "5bfef39e",
   "metadata": {},
   "outputs": [],
   "source": [
    "train_loader = data.DataLoader"
   ]
  },
  {
   "cell_type": "code",
   "execution_count": 6,
   "id": "35ed62a7",
   "metadata": {},
   "outputs": [],
   "source": [
    "train_loader = data.DataLoader(mnist_train,batch_size=batch_size)"
   ]
  },
  {
   "cell_type": "code",
   "execution_count": 7,
   "id": "51bf778e",
   "metadata": {},
   "outputs": [],
   "source": [
    "test_loader = data.DataLoader(mnist_test,batch_size=batch_size)"
   ]
  },
  {
   "cell_type": "code",
   "execution_count": 8,
   "id": "3e9ad697",
   "metadata": {},
   "outputs": [
    {
     "data": {
      "text/plain": [
       "torch.Size([28, 28])"
      ]
     },
     "execution_count": 8,
     "metadata": {},
     "output_type": "execute_result"
    }
   ],
   "source": [
    "next(iter(train_loader))[0][0][0].shape"
   ]
  },
  {
   "cell_type": "markdown",
   "id": "26b3e932",
   "metadata": {},
   "source": [
    "# model"
   ]
  },
  {
   "cell_type": "code",
   "execution_count": 9,
   "id": "9eec9ad5",
   "metadata": {},
   "outputs": [],
   "source": [
    "net = torch.nn.Sequential?"
   ]
  },
  {
   "cell_type": "code",
   "execution_count": null,
   "id": "c2df38db",
   "metadata": {},
   "outputs": [],
   "source": [
    "net = torch.nn.Sequential"
   ]
  },
  {
   "cell_type": "code",
   "execution_count": 10,
   "id": "0fb4d140",
   "metadata": {},
   "outputs": [],
   "source": [
    "torch.nn.Conv2d?"
   ]
  },
  {
   "cell_type": "code",
   "execution_count": 11,
   "id": "5c808a07",
   "metadata": {},
   "outputs": [],
   "source": [
    "torch.nn.MaxPool2d?"
   ]
  },
  {
   "cell_type": "code",
   "execution_count": 12,
   "id": "bd05a4fd",
   "metadata": {},
   "outputs": [],
   "source": [
    "net = torch.nn.Sequential(torch.nn.Conv2d(1,6,(5,5),1,2),torch.nn.Sigmoid(),torch.nn.MaxPool2d((2,2)),\n",
    "                         torch.nn.Conv2d(6,16,(5,5),1,0),torch.nn.Sigmoid(),torch.nn.MaxPool2d((2,2)),\n",
    "                         torch.nn.Flatten(),torch.nn.Linear(in_features=400,out_features=120),torch.nn.Sigmoid(),\n",
    "                         torch.nn.Linear(in_features=120,out_features=84),torch.nn.Sigmoid(),\n",
    "                         torch.nn.Linear(in_features=84,out_features=10))"
   ]
  },
  {
   "cell_type": "code",
   "execution_count": 13,
   "id": "3f4d2647",
   "metadata": {},
   "outputs": [
    {
     "name": "stdout",
     "output_type": "stream",
     "text": [
      "Conv2d output shape: \t torch.Size([1, 6, 28, 28])\n",
      "Sigmoid output shape: \t torch.Size([1, 6, 28, 28])\n",
      "MaxPool2d output shape: \t torch.Size([1, 6, 14, 14])\n",
      "Conv2d output shape: \t torch.Size([1, 16, 10, 10])\n",
      "Sigmoid output shape: \t torch.Size([1, 16, 10, 10])\n",
      "MaxPool2d output shape: \t torch.Size([1, 16, 5, 5])\n",
      "Flatten output shape: \t torch.Size([1, 400])\n",
      "Linear output shape: \t torch.Size([1, 120])\n",
      "Sigmoid output shape: \t torch.Size([1, 120])\n",
      "Linear output shape: \t torch.Size([1, 84])\n",
      "Sigmoid output shape: \t torch.Size([1, 84])\n",
      "Linear output shape: \t torch.Size([1, 10])\n"
     ]
    },
    {
     "name": "stderr",
     "output_type": "stream",
     "text": [
      "/Users/zhangjiaqi/workingspace/anaconda3/envs/nn_torch/lib/python3.9/site-packages/torch/nn/functional.py:718: UserWarning: Named tensors and all their associated APIs are an experimental feature and subject to change. Please do not use them for anything important until they are released as stable. (Triggered internally at  /Users/distiller/project/conda/conda-bld/pytorch_1623459065530/work/c10/core/TensorImpl.h:1156.)\n",
      "  return torch.max_pool2d(input, kernel_size, stride, padding, dilation, ceil_mode)\n"
     ]
    }
   ],
   "source": [
    "x = torch.rand(size=(1, 1, 28, 28), dtype=torch.float32)\n",
    "for layer in net:\n",
    "    x = layer(x)\n",
    "    print(layer.__class__.__name__, 'output shape: \\t', x.shape)"
   ]
  },
  {
   "cell_type": "markdown",
   "id": "c18082b4",
   "metadata": {},
   "source": [
    "# loss "
   ]
  },
  {
   "cell_type": "code",
   "execution_count": 14,
   "id": "9eb8bfc0",
   "metadata": {},
   "outputs": [],
   "source": [
    "loss_func = torch.nn.CrossEntropyLoss()"
   ]
  },
  {
   "cell_type": "markdown",
   "id": "e72d9977",
   "metadata": {},
   "source": [
    "# optimize"
   ]
  },
  {
   "cell_type": "code",
   "execution_count": 15,
   "id": "8781462b",
   "metadata": {},
   "outputs": [],
   "source": [
    "optim = torch.optim.SGD(net.parameters(),lr=0.9)"
   ]
  },
  {
   "cell_type": "markdown",
   "id": "44afcbf4",
   "metadata": {},
   "source": [
    "# init "
   ]
  },
  {
   "cell_type": "code",
   "execution_count": 16,
   "id": "fb47faf9",
   "metadata": {},
   "outputs": [],
   "source": [
    "def init_weight(layer):\n",
    "    if isinstance(layer,torch.nn.Linear) or isinstance(layer,torch.nn.Conv2d):\n",
    "        torch.nn.init.xavier_normal_(layer.weight)\n",
    "        "
   ]
  },
  {
   "cell_type": "code",
   "execution_count": 17,
   "id": "21165f38",
   "metadata": {},
   "outputs": [
    {
     "data": {
      "text/plain": [
       "Sequential(\n",
       "  (0): Conv2d(1, 6, kernel_size=(5, 5), stride=(1, 1), padding=(2, 2))\n",
       "  (1): Sigmoid()\n",
       "  (2): MaxPool2d(kernel_size=(2, 2), stride=(2, 2), padding=0, dilation=1, ceil_mode=False)\n",
       "  (3): Conv2d(6, 16, kernel_size=(5, 5), stride=(1, 1))\n",
       "  (4): Sigmoid()\n",
       "  (5): MaxPool2d(kernel_size=(2, 2), stride=(2, 2), padding=0, dilation=1, ceil_mode=False)\n",
       "  (6): Flatten(start_dim=1, end_dim=-1)\n",
       "  (7): Linear(in_features=400, out_features=120, bias=True)\n",
       "  (8): Sigmoid()\n",
       "  (9): Linear(in_features=120, out_features=84, bias=True)\n",
       "  (10): Sigmoid()\n",
       "  (11): Linear(in_features=84, out_features=10, bias=True)\n",
       ")"
      ]
     },
     "execution_count": 17,
     "metadata": {},
     "output_type": "execute_result"
    }
   ],
   "source": [
    "net.apply(init_weight)"
   ]
  },
  {
   "cell_type": "markdown",
   "id": "1559e4d2",
   "metadata": {},
   "source": [
    "# train"
   ]
  },
  {
   "cell_type": "code",
   "execution_count": 18,
   "id": "5d082928",
   "metadata": {},
   "outputs": [],
   "source": [
    "import logging\n",
    "from  tqdm import tqdm"
   ]
  },
  {
   "cell_type": "code",
   "execution_count": 19,
   "id": "9920e92c",
   "metadata": {},
   "outputs": [],
   "source": [
    "def get_logger(filename, verbosity=1, name=None):\n",
    "    level_dict = {0: logging.DEBUG, 1: logging.INFO, 2: logging.WARNING}\n",
    "    formatter = logging.Formatter(\n",
    "        \"[%(asctime)s][%(filename)s][line:%(lineno)d][%(levelname)s] %(message)s\"\n",
    "    )\n",
    "    logger = logging.getLogger(name)\n",
    "    logger.setLevel(level_dict[verbosity])\n",
    "\n",
    "    fh = logging.FileHandler(filename, \"w\")\n",
    "    fh.setFormatter(formatter)\n",
    "    logger.addHandler(fh)\n",
    "\n",
    "    sh = logging.StreamHandler()\n",
    "    sh.setFormatter(formatter)\n",
    "    logger.addHandler(sh)\n",
    "\n",
    "    return logger"
   ]
  },
  {
   "cell_type": "code",
   "execution_count": 20,
   "id": "23fac45d",
   "metadata": {},
   "outputs": [],
   "source": [
    "class Accumulator:\n",
    "    def __init__(self,n):\n",
    "        self.data=[0.0]*n\n",
    "    \n",
    "    def add(self,*args):\n",
    "        self.data = [a+float(b) for a,b in zip(self.data,args)]\n",
    "    \n",
    "    def reset(self):\n",
    "        self.data = [0.0]*n\n",
    "        \n",
    "    def __getitem__(self,idx):\n",
    "        return self.data[idx]"
   ]
  },
  {
   "cell_type": "code",
   "execution_count": 21,
   "id": "f0f4b269",
   "metadata": {},
   "outputs": [],
   "source": [
    "def accuracy(y_pred,y):\n",
    "    y_pred = torch.argmax(y_pred,-1)\n",
    "    return sum(y_pred==y)"
   ]
  },
  {
   "cell_type": "code",
   "execution_count": 22,
   "id": "8b809c13",
   "metadata": {},
   "outputs": [],
   "source": [
    "def evaluate_acc(net,data_iter):\n",
    "    if isinstance(net,torch.nn.Module):\n",
    "        net.eval()\n",
    "    metric = Accumulator(2)\n",
    "    with torch.no_grad():\n",
    "        for x,y in data_iter:\n",
    "            y_pred = net(x)\n",
    "            ##compute \n",
    "            metric.add(accuracy(y_pred,y),y.numel())        \n",
    "    return metric[0]/metric[1]"
   ]
  },
  {
   "cell_type": "code",
   "execution_count": 23,
   "id": "201fe804",
   "metadata": {},
   "outputs": [],
   "source": [
    "def train_epoch(train_iter,net,loss,optimize):\n",
    "    if isinstance(net,torch.nn.Module):\n",
    "        net.train()\n",
    "    ##metric\n",
    "    metric = Accumulator(3)\n",
    "    for x,y in train_iter:\n",
    "        pred_y = net(x)\n",
    "        #print(y)\n",
    "        #print('predict',pred_y)\n",
    "        #print(torch.argmax(pred_y))\n",
    "        #print(y)\n",
    "        loss_tmp = loss(pred_y,y)\n",
    "        metric.add(loss_tmp*len(y),accuracy(pred_y,y),y.numel())\n",
    "        optimize.zero_grad()\n",
    "        loss_tmp.backward()\n",
    "        optimize.step()\n",
    "    return metric[0]/metric[2],metric[1]/metric[2]"
   ]
  },
  {
   "cell_type": "code",
   "execution_count": 24,
   "id": "48c4a9b9",
   "metadata": {},
   "outputs": [],
   "source": [
    "def train(train_iter,test_iter,net,loss,optimize,num_epochs,logger):\n",
    "    for epoch in tqdm(range(num_epochs)):\n",
    "        train_metrics = train_epoch(train_iter,net,loss,optimize)\n",
    "        test_acc = evaluate_acc(net,test_loader)\n",
    "        print('epoch:%d\\ttrain_loss:%f\\ttrain_acc:%f\\ttest_acc:%f'%(epoch,train_metrics[0],train_metrics[1],test_acc))\n",
    "        logger.info('epoch:%d\\ttrain_loss:%f\\ttrain_acc:%f\\ttest_acc:%f'%(epoch,train_metrics[0],train_metrics[1],test_acc))\n",
    "    train_loss,train_acc = train_metrics"
   ]
  },
  {
   "cell_type": "code",
   "execution_count": 25,
   "id": "4b6d204e",
   "metadata": {},
   "outputs": [],
   "source": [
    "log = get_logger('./lenet.log')"
   ]
  },
  {
   "cell_type": "code",
   "execution_count": null,
   "id": "eddf3d26",
   "metadata": {},
   "outputs": [
    {
     "name": "stderr",
     "output_type": "stream",
     "text": [
      "  0%|          | 0/10 [00:00<?, ?it/s][2021-08-15 13:46:08,139][448897896.py][line:6][INFO] epoch:0\ttrain_loss:2.316995\ttrain_acc:0.102467\ttest_acc:0.100000\n",
      " 10%|█         | 1/10 [00:45<06:47, 45.33s/it]"
     ]
    },
    {
     "name": "stdout",
     "output_type": "stream",
     "text": [
      "epoch:0\ttrain_loss:2.316995\ttrain_acc:0.102467\ttest_acc:0.100000\n"
     ]
    },
    {
     "name": "stderr",
     "output_type": "stream",
     "text": [
      "[2021-08-15 13:46:50,080][448897896.py][line:6][INFO] epoch:1\ttrain_loss:1.575852\ttrain_acc:0.383183\ttest_acc:0.623000\n",
      " 20%|██        | 2/10 [01:27<05:54, 44.31s/it]"
     ]
    },
    {
     "name": "stdout",
     "output_type": "stream",
     "text": [
      "epoch:1\ttrain_loss:1.575852\ttrain_acc:0.383183\ttest_acc:0.623000\n"
     ]
    },
    {
     "name": "stderr",
     "output_type": "stream",
     "text": [
      "[2021-08-15 13:47:31,308][448897896.py][line:6][INFO] epoch:2\ttrain_loss:0.833814\ttrain_acc:0.672967\ttest_acc:0.693000\n",
      " 30%|███       | 3/10 [02:08<05:03, 43.39s/it]"
     ]
    },
    {
     "name": "stdout",
     "output_type": "stream",
     "text": [
      "epoch:2\ttrain_loss:0.833814\ttrain_acc:0.672967\ttest_acc:0.693000\n"
     ]
    },
    {
     "name": "stderr",
     "output_type": "stream",
     "text": [
      "[2021-08-15 13:48:18,716][448897896.py][line:6][INFO] epoch:3\ttrain_loss:0.671732\ttrain_acc:0.738033\ttest_acc:0.750800\n",
      " 40%|████      | 4/10 [02:55<04:27, 44.59s/it]"
     ]
    },
    {
     "name": "stdout",
     "output_type": "stream",
     "text": [
      "epoch:3\ttrain_loss:0.671732\ttrain_acc:0.738033\ttest_acc:0.750800\n"
     ]
    },
    {
     "name": "stderr",
     "output_type": "stream",
     "text": [
      "[2021-08-15 13:49:05,191][448897896.py][line:6][INFO] epoch:4\ttrain_loss:0.602597\ttrain_acc:0.766183\ttest_acc:0.776200\n",
      " 50%|█████     | 5/10 [03:42<03:45, 45.16s/it]"
     ]
    },
    {
     "name": "stdout",
     "output_type": "stream",
     "text": [
      "epoch:4\ttrain_loss:0.602597\ttrain_acc:0.766183\ttest_acc:0.776200\n"
     ]
    },
    {
     "name": "stderr",
     "output_type": "stream",
     "text": [
      "[2021-08-15 13:49:48,421][448897896.py][line:6][INFO] epoch:5\ttrain_loss:0.548664\ttrain_acc:0.790233\ttest_acc:0.799400\n",
      " 60%|██████    | 6/10 [04:25<02:58, 44.58s/it]"
     ]
    },
    {
     "name": "stdout",
     "output_type": "stream",
     "text": [
      "epoch:5\ttrain_loss:0.548664\ttrain_acc:0.790233\ttest_acc:0.799400\n"
     ]
    },
    {
     "name": "stderr",
     "output_type": "stream",
     "text": [
      "[2021-08-15 13:50:34,891][448897896.py][line:6][INFO] epoch:6\ttrain_loss:0.503689\ttrain_acc:0.808633\ttest_acc:0.812800\n",
      " 70%|███████   | 7/10 [05:12<02:15, 45.15s/it]"
     ]
    },
    {
     "name": "stdout",
     "output_type": "stream",
     "text": [
      "epoch:6\ttrain_loss:0.503689\ttrain_acc:0.808633\ttest_acc:0.812800\n"
     ]
    },
    {
     "name": "stderr",
     "output_type": "stream",
     "text": [
      "[2021-08-15 13:51:24,670][448897896.py][line:6][INFO] epoch:7\ttrain_loss:0.469131\ttrain_acc:0.823067\ttest_acc:0.821500\n",
      " 80%|████████  | 8/10 [06:01<01:33, 46.54s/it]"
     ]
    },
    {
     "name": "stdout",
     "output_type": "stream",
     "text": [
      "epoch:7\ttrain_loss:0.469131\ttrain_acc:0.823067\ttest_acc:0.821500\n"
     ]
    }
   ],
   "source": [
    "train(train_loader,test_loader,net,loss_func,optim,num_epochs=10,logger=log)"
   ]
  },
  {
   "cell_type": "code",
   "execution_count": null,
   "id": "2498e786",
   "metadata": {},
   "outputs": [],
   "source": []
  }
 ],
 "metadata": {
  "kernelspec": {
   "display_name": "Python 3 (ipykernel)",
   "language": "python",
   "name": "python3"
  },
  "language_info": {
   "codemirror_mode": {
    "name": "ipython",
    "version": 3
   },
   "file_extension": ".py",
   "mimetype": "text/x-python",
   "name": "python",
   "nbconvert_exporter": "python",
   "pygments_lexer": "ipython3",
   "version": "3.9.5"
  }
 },
 "nbformat": 4,
 "nbformat_minor": 5
}
