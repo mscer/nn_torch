{
 "cells": [
  {
   "cell_type": "code",
   "execution_count": 1,
   "id": "4e337bce",
   "metadata": {},
   "outputs": [],
   "source": [
    "import torch\n",
    "import numpy as np"
   ]
  },
  {
   "cell_type": "code",
   "execution_count": 4,
   "id": "8c13fc2b",
   "metadata": {},
   "outputs": [],
   "source": [
    "class MLP(torch.nn.Module):\n",
    "    def __init__(self):\n",
    "        super().__init__()\n",
    "        self.h1 = torch.nn.Linear(in_features=100,out_features=20)\n",
    "        self.out = torch.nn.Linear(in_features=20,out_features=2)\n",
    "    \n",
    "    def forward(self,x):\n",
    "        h1 = torch.relu(self.h1(x))\n",
    "        out = self.out(h1)\n",
    "        return out"
   ]
  },
  {
   "cell_type": "code",
   "execution_count": 8,
   "id": "cb5507b2",
   "metadata": {},
   "outputs": [],
   "source": [
    "net = torch.nn.Sequential(torch.nn.Linear(4, 8), torch.nn.ReLU(), torch.nn.Linear(8, 1))"
   ]
  },
  {
   "cell_type": "code",
   "execution_count": 17,
   "id": "b4511f8e",
   "metadata": {},
   "outputs": [
    {
     "data": {
      "text/plain": [
       "odict_keys(['0.weight', '0.bias', '2.weight', '2.bias'])"
      ]
     },
     "execution_count": 17,
     "metadata": {},
     "output_type": "execute_result"
    }
   ],
   "source": [
    "net.state_dict().keys()"
   ]
  },
  {
   "cell_type": "code",
   "execution_count": 18,
   "id": "0e5a20f4",
   "metadata": {},
   "outputs": [
    {
     "data": {
      "text/plain": [
       "odict_values([tensor([[ 0.3173,  0.0709, -0.0523, -0.2894],\n",
       "        [-0.2503, -0.1817, -0.3343, -0.1561],\n",
       "        [ 0.4529, -0.3765, -0.1921,  0.0453],\n",
       "        [ 0.0610,  0.4850, -0.1664, -0.0882],\n",
       "        [-0.2009,  0.1859,  0.2049,  0.3809],\n",
       "        [ 0.3224, -0.4843, -0.3521, -0.2743],\n",
       "        [-0.0578, -0.3003, -0.3558,  0.0875],\n",
       "        [-0.4692,  0.2154,  0.0331, -0.2617]]), tensor([ 0.1069, -0.0727, -0.2125,  0.2675,  0.0215,  0.4722,  0.1264,  0.2781]), tensor([[-0.0951, -0.0453,  0.2113,  0.1069, -0.3492,  0.0068, -0.2728, -0.0076]]), tensor([0.1996])])"
      ]
     },
     "execution_count": 18,
     "metadata": {},
     "output_type": "execute_result"
    }
   ],
   "source": [
    "net.state_dict().values()"
   ]
  },
  {
   "cell_type": "code",
   "execution_count": 19,
   "id": "ca288421",
   "metadata": {},
   "outputs": [
    {
     "data": {
      "text/plain": [
       "Sequential(\n",
       "  (0): Linear(in_features=4, out_features=8, bias=True)\n",
       "  (1): ReLU()\n",
       "  (2): Linear(in_features=8, out_features=1, bias=True)\n",
       ")"
      ]
     },
     "execution_count": 19,
     "metadata": {},
     "output_type": "execute_result"
    }
   ],
   "source": [
    "net"
   ]
  },
  {
   "cell_type": "code",
   "execution_count": null,
   "id": "6808689d",
   "metadata": {},
   "outputs": [],
   "source": [
    "torch.nn.init."
   ]
  }
 ],
 "metadata": {
  "kernelspec": {
   "display_name": "Python 3 (ipykernel)",
   "language": "python",
   "name": "python3"
  },
  "language_info": {
   "codemirror_mode": {
    "name": "ipython",
    "version": 3
   },
   "file_extension": ".py",
   "mimetype": "text/x-python",
   "name": "python",
   "nbconvert_exporter": "python",
   "pygments_lexer": "ipython3",
   "version": "3.9.5"
  }
 },
 "nbformat": 4,
 "nbformat_minor": 5
}
