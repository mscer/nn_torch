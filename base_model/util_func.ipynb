{
 "cells": [
  {
   "cell_type": "code",
   "execution_count": 1,
   "id": "1a6ae880",
   "metadata": {},
   "outputs": [],
   "source": [
    "import torch"
   ]
  },
  {
   "cell_type": "markdown",
   "id": "ead1e695",
   "metadata": {},
   "source": [
    "# 1 evaluate utils"
   ]
  },
  {
   "cell_type": "code",
   "execution_count": 9,
   "id": "2604e4d7",
   "metadata": {},
   "outputs": [],
   "source": [
    "def accuracy(y_pred,y):\n",
    "    y_pred = torch.argmax(y_pred,-1)\n",
    "    return sum(y_pred == y)"
   ]
  },
  {
   "cell_type": "code",
   "execution_count": 5,
   "id": "0d072c96",
   "metadata": {},
   "outputs": [],
   "source": [
    "class Accumulator:\n",
    "    def __init__(self,n):\n",
    "        self.data = [0.0]*n\n",
    "    \n",
    "    def add(self,*args):\n",
    "        self.data = [a+float(b) for a,b in zip(self.data,args)]\n",
    "        \n",
    "    def reset(self):\n",
    "        self.data = [0.0]*n\n",
    "    \n",
    "    def __getitem__(self,idx):\n",
    "        return self.data[idx]"
   ]
  },
  {
   "cell_type": "code",
   "execution_count": 6,
   "id": "5de8b1b8",
   "metadata": {},
   "outputs": [],
   "source": [
    "def eval_acc(net,data_iter):\n",
    "    if isinstance(net,torch.nn.Module):\n",
    "        net.eval()\n",
    "    metric = Accumulator(2)\n",
    "    with torch.no_grad():\n",
    "        for x,y in data_iter:\n",
    "            pred_y = net(y)\n",
    "            metric.add(accuracy(y_pred,y),y.numel())\n",
    "    return metric[0]/metric[1]"
   ]
  },
  {
   "cell_type": "markdown",
   "id": "8679937a",
   "metadata": {},
   "source": [
    "# 2 train utils"
   ]
  },
  {
   "cell_type": "code",
   "execution_count": 7,
   "id": "c3ad1b20",
   "metadata": {},
   "outputs": [],
   "source": [
    "def train_epoch(data_iter,net,loss,optimize):\n",
    "    if isinstance(net,torch.nn.Module):\n",
    "        net.train()\n",
    "    metric = Accumulator(3)\n",
    "    for x,y in data_iter:\n",
    "        y_pred = net(y)\n",
    "        loss_tmp = loss(y_pred,y)\n",
    "        metric.add(loss_tmp*len(y),accuracy(y_pred,y),y.numel())\n",
    "        ##optimize\n",
    "        optimize.zero_grad()\n",
    "        loss_tmp.backward()\n",
    "        optimize.step()\n",
    "    return metric[0]/metric[2],metric[1]/metrci[2]"
   ]
  },
  {
   "cell_type": "markdown",
   "id": "c667a664",
   "metadata": {},
   "source": [
    "# 3 visual"
   ]
  },
  {
   "cell_type": "code",
   "execution_count": null,
   "id": "c165a0bf",
   "metadata": {},
   "outputs": [],
   "source": []
  },
  {
   "cell_type": "code",
   "execution_count": null,
   "id": "36b41fe9",
   "metadata": {},
   "outputs": [],
   "source": []
  }
 ],
 "metadata": {
  "kernelspec": {
   "display_name": "Python 3 (ipykernel)",
   "language": "python",
   "name": "python3"
  },
  "language_info": {
   "codemirror_mode": {
    "name": "ipython",
    "version": 3
   },
   "file_extension": ".py",
   "mimetype": "text/x-python",
   "name": "python",
   "nbconvert_exporter": "python",
   "pygments_lexer": "ipython3",
   "version": "3.9.5"
  }
 },
 "nbformat": 4,
 "nbformat_minor": 5
}
