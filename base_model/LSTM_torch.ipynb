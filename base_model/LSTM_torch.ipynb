{
 "cells": [
  {
   "cell_type": "code",
   "execution_count": 2,
   "id": "ba96d9e3",
   "metadata": {},
   "outputs": [],
   "source": [
    "import torch"
   ]
  },
  {
   "cell_type": "markdown",
   "id": "b24b0ab4",
   "metadata": {},
   "source": [
    "# data/model/loss/optimize/init/train"
   ]
  },
  {
   "cell_type": "markdown",
   "id": "b69df6ec",
   "metadata": {},
   "source": [
    "# data"
   ]
  },
  {
   "cell_type": "code",
   "execution_count": 3,
   "id": "e6c1b495",
   "metadata": {},
   "outputs": [],
   "source": [
    "from torch import nn\n",
    "from d2l import torch as d2l\n",
    "\n",
    "batch_size, num_steps = 32, 35\n",
    "train_iter, vocab = d2l.load_data_time_machine(batch_size, num_steps)"
   ]
  },
  {
   "cell_type": "code",
   "execution_count": 4,
   "id": "bd37847d",
   "metadata": {},
   "outputs": [],
   "source": [
    "vocab_size, num_hiddens = len(vocab), 256"
   ]
  },
  {
   "cell_type": "markdown",
   "id": "ca34be2d",
   "metadata": {},
   "source": [
    "# model"
   ]
  },
  {
   "cell_type": "code",
   "execution_count": 5,
   "id": "0b252c0e",
   "metadata": {},
   "outputs": [],
   "source": [
    "torch.nn.GRU?"
   ]
  },
  {
   "cell_type": "code",
   "execution_count": 6,
   "id": "0d5f761d",
   "metadata": {},
   "outputs": [],
   "source": [
    "torch.nn.LSTM?"
   ]
  },
  {
   "cell_type": "code",
   "execution_count": 7,
   "id": "b279bea5",
   "metadata": {},
   "outputs": [],
   "source": [
    "num_inputs = vocab_size\n",
    "lstm_layer = nn.LSTM(num_inputs, num_hiddens)"
   ]
  },
  {
   "cell_type": "code",
   "execution_count": 8,
   "id": "81c6a95b",
   "metadata": {},
   "outputs": [
    {
     "data": {
      "text/plain": [
       "LSTM(28, 256)"
      ]
     },
     "execution_count": 8,
     "metadata": {},
     "output_type": "execute_result"
    }
   ],
   "source": [
    "lstm_layer"
   ]
  },
  {
   "cell_type": "code",
   "execution_count": 9,
   "id": "713d2431",
   "metadata": {},
   "outputs": [],
   "source": [
    "##lstm 结构\n",
    "##https://d2l.ai/_images/lstm-3.svg"
   ]
  },
  {
   "cell_type": "code",
   "execution_count": null,
   "id": "4ac9efa7",
   "metadata": {},
   "outputs": [],
   "source": []
  }
 ],
 "metadata": {
  "kernelspec": {
   "display_name": "Python 3 (ipykernel)",
   "language": "python",
   "name": "python3"
  },
  "language_info": {
   "codemirror_mode": {
    "name": "ipython",
    "version": 3
   },
   "file_extension": ".py",
   "mimetype": "text/x-python",
   "name": "python",
   "nbconvert_exporter": "python",
   "pygments_lexer": "ipython3",
   "version": "3.9.5"
  }
 },
 "nbformat": 4,
 "nbformat_minor": 5
}
