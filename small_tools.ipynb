{
 "cells": [
  {
   "cell_type": "markdown",
   "id": "0c2dbb5f",
   "metadata": {},
   "source": [
    "# logger"
   ]
  },
  {
   "cell_type": "code",
   "execution_count": 2,
   "id": "a936b03e",
   "metadata": {},
   "outputs": [],
   "source": [
    "import logging"
   ]
  },
  {
   "cell_type": "code",
   "execution_count": 1,
   "id": "f7caf21f",
   "metadata": {},
   "outputs": [],
   "source": [
    "def get_logger(filename, verbosity=1, name=None):\n",
    "    level_dict = {0: logging.DEBUG, 1: logging.INFO, 2: logging.WARNING}\n",
    "    formatter = logging.Formatter(\n",
    "        \"[%(asctime)s][%(filename)s][line:%(lineno)d][%(levelname)s] %(message)s\"\n",
    "    )\n",
    "    logger = logging.getLogger(name)\n",
    "    logger.setLevel(level_dict[verbosity])\n",
    "\n",
    "    fh = logging.FileHandler(filename, \"w\")\n",
    "    fh.setFormatter(formatter)\n",
    "    logger.addHandler(fh)\n",
    "\n",
    "    sh = logging.StreamHandler()\n",
    "    sh.setFormatter(formatter)\n",
    "    logger.addHandler(sh)\n",
    "\n",
    "    return logger"
   ]
  },
  {
   "cell_type": "code",
   "execution_count": 3,
   "id": "bcba2f78",
   "metadata": {},
   "outputs": [],
   "source": [
    "logger = get_logger('./tst.log')"
   ]
  },
  {
   "cell_type": "code",
   "execution_count": 4,
   "id": "799c3495",
   "metadata": {},
   "outputs": [
    {
     "name": "stderr",
     "output_type": "stream",
     "text": [
      "[2021-08-14 22:27:07,965][259465016.py][line:2][INFO] wtf\n",
      "[2021-08-14 22:27:07,973][259465016.py][line:2][INFO] wtf\n",
      "[2021-08-14 22:27:07,977][259465016.py][line:2][INFO] wtf\n",
      "[2021-08-14 22:27:07,980][259465016.py][line:2][INFO] wtf\n",
      "[2021-08-14 22:27:07,982][259465016.py][line:2][INFO] wtf\n"
     ]
    }
   ],
   "source": [
    "for i in range(5):\n",
    "    logger.info('wtf')"
   ]
  },
  {
   "cell_type": "markdown",
   "id": "d91e78fb",
   "metadata": {},
   "source": [
    "# tqdm"
   ]
  },
  {
   "cell_type": "code",
   "execution_count": 10,
   "id": "2d2af35b",
   "metadata": {},
   "outputs": [],
   "source": [
    "from  tqdm import tqdm"
   ]
  },
  {
   "cell_type": "code",
   "execution_count": 11,
   "id": "90b63123",
   "metadata": {},
   "outputs": [
    {
     "name": "stderr",
     "output_type": "stream",
     "text": [
      "100%|██████████| 4/4 [00:00<00:00, 927.17it/s]"
     ]
    },
    {
     "name": "stdout",
     "output_type": "stream",
     "text": [
      "a\n",
      "b\n",
      "c\n",
      "d\n"
     ]
    },
    {
     "name": "stderr",
     "output_type": "stream",
     "text": [
      "\n"
     ]
    }
   ],
   "source": [
    "for char in tqdm([\"a\", \"b\", \"c\", \"d\"]):\n",
    "    #do something\n",
    "    print(char)\n",
    "    pass"
   ]
  },
  {
   "cell_type": "code",
   "execution_count": null,
   "id": "48dffdcd",
   "metadata": {},
   "outputs": [],
   "source": []
  }
 ],
 "metadata": {
  "kernelspec": {
   "display_name": "Python 3 (ipykernel)",
   "language": "python",
   "name": "python3"
  },
  "language_info": {
   "codemirror_mode": {
    "name": "ipython",
    "version": 3
   },
   "file_extension": ".py",
   "mimetype": "text/x-python",
   "name": "python",
   "nbconvert_exporter": "python",
   "pygments_lexer": "ipython3",
   "version": "3.9.5"
  }
 },
 "nbformat": 4,
 "nbformat_minor": 5
}
