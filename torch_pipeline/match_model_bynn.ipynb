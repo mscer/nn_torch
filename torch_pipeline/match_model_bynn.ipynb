{
 "cells": [
  {
   "cell_type": "code",
   "execution_count": 1,
   "id": "0e9f46f0",
   "metadata": {},
   "outputs": [],
   "source": [
    "##data\n",
    "##feature\n",
    "##Model build\n",
    "##Loss\n",
    "##init and optimzator\n",
    "##train \n",
    "##eval"
   ]
  },
  {
   "cell_type": "markdown",
   "id": "735ae119",
   "metadata": {},
   "source": [
    "# prepare"
   ]
  },
  {
   "cell_type": "code",
   "execution_count": 2,
   "id": "a17d20fd",
   "metadata": {},
   "outputs": [],
   "source": [
    "import torch\n",
    "import numpy as np\n",
    "import random\n",
    "import datetime\n",
    "import os\n",
    "from tensorboardX import SummaryWriter\n",
    "from tqdm import tqdm\n",
    "import time"
   ]
  },
  {
   "cell_type": "code",
   "execution_count": 3,
   "id": "b7ca05aa",
   "metadata": {},
   "outputs": [],
   "source": [
    "def setup_seed(seed):\n",
    "     torch.manual_seed(seed)\n",
    "     torch.cuda.manual_seed_all(seed)\n",
    "     np.random.seed(seed)\n",
    "     random.seed(seed)\n",
    "     torch.backends.cudnn.deterministic = True"
   ]
  },
  {
   "cell_type": "code",
   "execution_count": 4,
   "id": "4d517a8e",
   "metadata": {},
   "outputs": [],
   "source": [
    "setup_seed(20)"
   ]
  },
  {
   "cell_type": "code",
   "execution_count": 5,
   "id": "91c25d68",
   "metadata": {},
   "outputs": [
    {
     "data": {
      "text/plain": [
       "'1.10.1+cu102'"
      ]
     },
     "execution_count": 5,
     "metadata": {},
     "output_type": "execute_result"
    }
   ],
   "source": [
    "torch.__version__"
   ]
  },
  {
   "cell_type": "code",
   "execution_count": 6,
   "id": "94c401f1",
   "metadata": {},
   "outputs": [],
   "source": [
    "dt = datetime.datetime.now()\n",
    "timestamp = \"%s-%s-%s-%s-%s\"%(dt.year,dt.month,dt.day,dt.hour,dt.minute)"
   ]
  },
  {
   "cell_type": "code",
   "execution_count": 7,
   "id": "52c80f57",
   "metadata": {},
   "outputs": [],
   "source": [
    "project_desc ='test_nn_match_model'"
   ]
  },
  {
   "cell_type": "code",
   "execution_count": 8,
   "id": "a5173945",
   "metadata": {},
   "outputs": [],
   "source": [
    "file_desc = project_desc+'/'+timestamp"
   ]
  },
  {
   "cell_type": "code",
   "execution_count": 9,
   "id": "4714a506",
   "metadata": {},
   "outputs": [],
   "source": [
    "summary_writer = SummaryWriter('./tensorboard_log/'+file_desc,comment='test')"
   ]
  },
  {
   "cell_type": "markdown",
   "id": "3cb08e3f",
   "metadata": {},
   "source": [
    "# load data"
   ]
  },
  {
   "cell_type": "code",
   "execution_count": 10,
   "id": "ab55d5c3",
   "metadata": {},
   "outputs": [],
   "source": [
    "from datasets import load_from_disk\n",
    "from torch.utils.data import DataLoader"
   ]
  },
  {
   "cell_type": "code",
   "execution_count": 11,
   "id": "500daab8",
   "metadata": {},
   "outputs": [],
   "source": [
    "cache_train = load_from_disk('../cache_data/train/')\n",
    "cache_test = load_from_disk('../cache_data/test/')"
   ]
  },
  {
   "cell_type": "code",
   "execution_count": 12,
   "id": "2cdf5f2b",
   "metadata": {},
   "outputs": [],
   "source": [
    "cache_train = cache_train.with_format(\"torch\").remove_columns('sample_id')"
   ]
  },
  {
   "cell_type": "code",
   "execution_count": 13,
   "id": "7578240f",
   "metadata": {
    "scrolled": false
   },
   "outputs": [],
   "source": [
    "cache_test = cache_test.with_format('torch').remove_columns('sample_id')"
   ]
  },
  {
   "cell_type": "code",
   "execution_count": 14,
   "id": "02b67929",
   "metadata": {},
   "outputs": [],
   "source": [
    "batch_size =2048"
   ]
  },
  {
   "cell_type": "code",
   "execution_count": 15,
   "id": "bf2ad8d5",
   "metadata": {},
   "outputs": [],
   "source": [
    "train_loader = DataLoader(dataset = cache_train,batch_size=batch_size,shuffle=True,drop_last = True,num_workers=10)\n",
    "test_loader = DataLoader(dataset = cache_test,batch_size=batch_size,shuffle=True,drop_last = True,num_workers=10)"
   ]
  },
  {
   "cell_type": "code",
   "execution_count": 16,
   "id": "e5654388",
   "metadata": {},
   "outputs": [
    {
     "data": {
      "text/plain": [
       "659"
      ]
     },
     "execution_count": 16,
     "metadata": {},
     "output_type": "execute_result"
    }
   ],
   "source": [
    "batch_step = int(cache_train.num_rows/batch_size)\n",
    "batch_step"
   ]
  },
  {
   "cell_type": "markdown",
   "id": "f3da12b0",
   "metadata": {},
   "source": [
    "# feat_process"
   ]
  },
  {
   "cell_type": "code",
   "execution_count": 17,
   "id": "78d7eed1",
   "metadata": {},
   "outputs": [],
   "source": [
    "feature_name_src = ['sample_key', 'name_len1', 'name_len2',\n",
    "       'name_val_editdist', 'name_lcs_clr', 'name_lcs_crr', 'name_clr',\n",
    "       'name_crr', 'adcode_match', 'geo_diffx ', 'geo_diffy', 'tel_match',\n",
    "       'brand_match', 'cate1', 'cate2', 'cate3', 'cate_index', 'dist',\n",
    "       'label']"
   ]
  },
  {
   "cell_type": "code",
   "execution_count": null,
   "id": "f5f80eef",
   "metadata": {},
   "outputs": [],
   "source": []
  },
  {
   "cell_type": "markdown",
   "id": "6bb596f9",
   "metadata": {},
   "source": [
    "# model part"
   ]
  },
  {
   "cell_type": "code",
   "execution_count": 18,
   "id": "5acf395c",
   "metadata": {},
   "outputs": [],
   "source": [
    "class match_model(torch.nn.Module):\n",
    "    def __init__(self,num_of_feat = 10,embed_dim = 764,ad_num = 5,brand_num = 6,tel_num = 6,cate_num = 800,geo_diff_size = 100):\n",
    "        super(match_model, self).__init__()\n",
    "        ad_embedding = torch.nn.Embedding(num_embeddings=ad_num,embedding_dim=64)\n",
    "        brand_embedding = torch.nn.Embedding(num_embeddings=brand_num,embedding_dim=64)\n",
    "        self.ln1 = torch.nn.Sequential(torch.nn.Linear(num_of_feat,out_features=20),torch.nn.ReLU())\n",
    "        self.ln2 = torch.nn.Sequential(torch.nn.Linear(20,out_features=20),torch.nn.ELU(),torch.nn.Dropout(p=0.5))\n",
    "        self.ln3 = torch.nn.Sequential(torch.nn.Linear(20,1),torch.nn.Sigmoid())\n",
    "        self.post_init()\n",
    "        \n",
    "        pass\n",
    "    def forward(self,feat):\n",
    "        #assert(17 == feat.shape[1])\n",
    "        x = self.ln1(feat)\n",
    "        x = self.ln2(x)\n",
    "        out = self.ln3(x)\n",
    "        #out = torch.nn.functional.sigmoid(out)\n",
    "        return out\n",
    "        pass\n",
    "\n",
    "    def post_init(self):\n",
    "        for m in self.modules():\n",
    "            if isinstance(m, torch.nn.Linear):\n",
    "                #print('before',m.weight)\n",
    "                torch.nn.init.xavier_normal(m.weight)\n",
    "                #print('after',m.weight)\n",
    "                if m.bias is not None:\n",
    "                    m.bias.data.zero_()"
   ]
  },
  {
   "cell_type": "code",
   "execution_count": 19,
   "id": "4a94c9d0",
   "metadata": {},
   "outputs": [],
   "source": [
    "#torch.nn.functional.log_softmax?"
   ]
  },
  {
   "cell_type": "code",
   "execution_count": 20,
   "id": "2aa6645c",
   "metadata": {},
   "outputs": [
    {
     "name": "stderr",
     "output_type": "stream",
     "text": [
      "/disk5/bingfa.zjq/py3/lib/python3.6/site-packages/ipykernel_launcher.py:25: UserWarning: nn.init.xavier_normal is now deprecated in favor of nn.init.xavier_normal_.\n"
     ]
    }
   ],
   "source": [
    "mm = match_model()"
   ]
  },
  {
   "cell_type": "code",
   "execution_count": 21,
   "id": "00f022b7",
   "metadata": {},
   "outputs": [
    {
     "data": {
      "text/plain": [
       "tensor([[1.0696e-16],\n",
       "        [1.0000e+00]], grad_fn=<SigmoidBackward0>)"
      ]
     },
     "execution_count": 21,
     "metadata": {},
     "output_type": "execute_result"
    }
   ],
   "source": [
    "mm(cache_train['norm_feat'][0:2])"
   ]
  },
  {
   "cell_type": "markdown",
   "id": "57baeeb7",
   "metadata": {},
   "source": [
    "# loss and optimizer"
   ]
  },
  {
   "cell_type": "code",
   "execution_count": 22,
   "id": "20d9c9bd",
   "metadata": {},
   "outputs": [],
   "source": [
    "loss_fn = torch.nn.BCELoss()"
   ]
  },
  {
   "cell_type": "code",
   "execution_count": 23,
   "id": "72a21fb2",
   "metadata": {},
   "outputs": [],
   "source": [
    "##optimize\n",
    "no_decay = [\"bias\", \"LayerNorm.weight\"]\n",
    "optimizer_grouped_parameters = [\n",
    "{\"params\": [p for n, p in mm.named_parameters() if not any(nd in n for nd in no_decay)],\n",
    "\"weight_decay\": 0.0,\n",
    "},\n",
    "{\n",
    "    \"params\": [p for n, p in mm.named_parameters() if any(nd in n for nd in no_decay)],\n",
    "    \"weight_decay\": 0.0,\n",
    "},\n",
    "]\n",
    "optimizer = torch.optim.AdamW( optimizer_grouped_parameters, \n",
    "                               lr=5e-2,betas=(0.9, 0.999),eps=1e-08)\n"
   ]
  },
  {
   "cell_type": "code",
   "execution_count": 24,
   "id": "a89a1db2",
   "metadata": {},
   "outputs": [],
   "source": [
    "lr_adjust = torch.optim.lr_scheduler.LinearLR(optimizer,total_iters=3,verbose=False)"
   ]
  },
  {
   "cell_type": "markdown",
   "id": "8c8ce655",
   "metadata": {},
   "source": [
    "# train"
   ]
  },
  {
   "cell_type": "code",
   "execution_count": 25,
   "id": "f89199fd",
   "metadata": {},
   "outputs": [],
   "source": [
    "from sklearn.metrics import f1_score,precision_score,accuracy_score,recall_score"
   ]
  },
  {
   "cell_type": "code",
   "execution_count": 26,
   "id": "3fb3f5f3",
   "metadata": {},
   "outputs": [],
   "source": [
    "epochs = 3\n",
    "global_step = 0\n",
    "best_test_metric = 0\n",
    "un_up_cnt = 0\n",
    "threshold = 0.5\n",
    "continue_train = True"
   ]
  },
  {
   "cell_type": "code",
   "execution_count": 27,
   "id": "16f94003",
   "metadata": {
    "scrolled": false
   },
   "outputs": [
    {
     "name": "stdout",
     "output_type": "stream",
     "text": [
      "------1th epoch------\n"
     ]
    },
    {
     "name": "stderr",
     "output_type": "stream",
     "text": [
      "train-Processing:   0%|          | 0/659 [00:00<?, ?it/s]\n",
      "test-Processing:   0%|          | 0/4 [00:00<?, ?it/s]\u001b[A\n",
      "test-Processing:  25%|██▌       | 1/4 [00:01<00:03,  1.30s/it]\u001b[A\n",
      "test-Processing: 100%|██████████| 4/4 [00:01<00:00,  2.72it/s]\u001b[A\n",
      "train-Processing:   1%|          | 8/659 [00:02<02:47,  3.89it/s]"
     ]
    },
    {
     "name": "stdout",
     "output_type": "stream",
     "text": [
      "test-loss:49.839493 test-f1:0.607861 test-precison:0.440905 test-recall:0.978319\n",
      "/****best_metrics found :\tval: 0.607861  global_step:0  ****/\n"
     ]
    },
    {
     "name": "stderr",
     "output_type": "stream",
     "text": [
      "train-Processing:  15%|█▍        | 97/659 [00:11<00:51, 10.85it/s]\n",
      "test-Processing:   0%|          | 0/4 [00:00<?, ?it/s]\u001b[A\n",
      "test-Processing: 100%|██████████| 4/4 [00:01<00:00,  2.90it/s]\u001b[A\n",
      "train-Processing:  16%|█▌        | 105/659 [00:13<01:17,  7.12it/s]"
     ]
    },
    {
     "name": "stdout",
     "output_type": "stream",
     "text": [
      "test-loss:0.623753 test-f1:0.086246 test-precison:0.718310 test-recall:0.045877\n"
     ]
    },
    {
     "name": "stderr",
     "output_type": "stream",
     "text": [
      "train-Processing:  30%|███       | 198/659 [00:23<00:55,  8.26it/s]\n",
      "test-Processing:   0%|          | 0/4 [00:00<?, ?it/s]\u001b[A\n",
      "test-Processing:  25%|██▌       | 1/4 [00:01<00:04,  1.33s/it]\u001b[A\n",
      "test-Processing: 100%|██████████| 4/4 [00:01<00:00,  2.53it/s]\u001b[A\n",
      "train-Processing:  32%|███▏      | 208/659 [00:24<01:02,  7.24it/s]"
     ]
    },
    {
     "name": "stdout",
     "output_type": "stream",
     "text": [
      "test-loss:0.639449 test-f1:0.084252 test-precison:0.801075 test-recall:0.044464\n"
     ]
    },
    {
     "name": "stderr",
     "output_type": "stream",
     "text": [
      "train-Processing:  46%|████▌     | 300/659 [00:33<00:31, 11.43it/s]\n",
      "test-Processing:   0%|          | 0/4 [00:00<?, ?it/s]\u001b[A\n",
      "test-Processing: 100%|██████████| 4/4 [00:01<00:00,  2.37it/s]\u001b[A\n",
      "train-Processing:  47%|████▋     | 308/659 [00:35<00:51,  6.81it/s]"
     ]
    },
    {
     "name": "stdout",
     "output_type": "stream",
     "text": [
      "test-loss:0.636266 test-f1:0.088536 test-precison:0.776119 test-recall:0.046946\n"
     ]
    },
    {
     "name": "stderr",
     "output_type": "stream",
     "text": [
      "train-Processing:  61%|██████    | 400/659 [00:44<00:25, 10.26it/s]\n",
      "test-Processing:   0%|          | 0/4 [00:00<?, ?it/s]\u001b[A\n",
      "test-Processing:  25%|██▌       | 1/4 [00:01<00:04,  1.35s/it]\u001b[A\n",
      "test-Processing: 100%|██████████| 4/4 [00:01<00:00,  2.61it/s]\u001b[A\n",
      "train-Processing:  61%|██████    | 403/659 [00:46<00:54,  4.66it/s]"
     ]
    },
    {
     "name": "stdout",
     "output_type": "stream",
     "text": [
      "test-loss:0.640243 test-f1:0.058874 test-precison:0.822581 test-recall:0.030530\n"
     ]
    },
    {
     "name": "stderr",
     "output_type": "stream",
     "text": [
      "train-Processing:  75%|███████▌  | 495/659 [00:55<00:20,  8.04it/s]\n",
      "test-Processing:   0%|          | 0/4 [00:00<?, ?it/s]\u001b[A\n",
      "test-Processing: 100%|██████████| 4/4 [00:01<00:00,  2.44it/s]\u001b[A\n",
      "train-Processing:  77%|███████▋  | 507/659 [00:57<00:19,  7.67it/s]"
     ]
    },
    {
     "name": "stdout",
     "output_type": "stream",
     "text": [
      "test-loss:0.642189 test-f1:0.072427 test-precison:0.814103 test-recall:0.037899\n"
     ]
    },
    {
     "name": "stderr",
     "output_type": "stream",
     "text": [
      "train-Processing:  91%|█████████ | 600/659 [01:06<00:05, 11.24it/s]\n",
      "test-Processing:   0%|          | 0/4 [00:00<?, ?it/s]\u001b[A\n",
      "test-Processing:  25%|██▌       | 1/4 [00:01<00:03,  1.31s/it]\u001b[A\n",
      "test-Processing: 100%|██████████| 4/4 [00:01<00:00,  2.38it/s]\u001b[A\n",
      "train-Processing:  92%|█████████▏| 606/659 [01:08<00:09,  5.82it/s]"
     ]
    },
    {
     "name": "stdout",
     "output_type": "stream",
     "text": [
      "test-loss:0.637261 test-f1:0.077497 test-precison:0.849057 test-recall:0.040602\n"
     ]
    },
    {
     "name": "stderr",
     "output_type": "stream",
     "text": [
      "train-Processing: 100%|██████████| 659/659 [01:12<00:00,  9.07it/s]\n"
     ]
    },
    {
     "name": "stdout",
     "output_type": "stream",
     "text": [
      "train-loss:2.249038 train-f1:0.357527 train-precison:0.474747 trainrecall:0.286730\n",
      "耗时: 78.87秒\n",
      "------2th epoch------\n"
     ]
    },
    {
     "name": "stderr",
     "output_type": "stream",
     "text": [
      "train-Processing:   6%|▌         | 41/659 [00:05<01:11,  8.61it/s]\n",
      "test-Processing:   0%|          | 0/4 [00:00<?, ?it/s]\u001b[A\n",
      "test-Processing:  25%|██▌       | 1/4 [00:01<00:04,  1.53s/it]\u001b[A\n",
      "test-Processing: 100%|██████████| 4/4 [00:01<00:00,  2.30it/s]\u001b[A\n",
      "train-Processing:   8%|▊         | 50/659 [00:08<01:37,  6.25it/s]"
     ]
    },
    {
     "name": "stdout",
     "output_type": "stream",
     "text": [
      "test-loss:0.635795 test-f1:0.074605 test-precison:0.872483 test-recall:0.038969\n"
     ]
    },
    {
     "name": "stderr",
     "output_type": "stream",
     "text": [
      "train-Processing:  21%|██        | 140/659 [00:18<00:55,  9.27it/s]\n",
      "test-Processing:   0%|          | 0/4 [00:00<?, ?it/s]\u001b[A\n",
      "test-Processing: 100%|██████████| 4/4 [00:01<00:00,  2.12it/s]\u001b[A\n",
      "train-Processing:  23%|██▎       | 150/659 [00:20<01:15,  6.77it/s]"
     ]
    },
    {
     "name": "stdout",
     "output_type": "stream",
     "text": [
      "test-loss:0.635965 test-f1:0.077626 test-precison:0.844720 test-recall:0.040682\n"
     ]
    },
    {
     "name": "stderr",
     "output_type": "stream",
     "text": [
      "train-Processing:  36%|███▌      | 238/659 [00:31<00:59,  7.09it/s]\n",
      "test-Processing:   0%|          | 0/4 [00:00<?, ?it/s]\u001b[A\n",
      "test-Processing: 100%|██████████| 4/4 [00:01<00:00,  2.36it/s]\u001b[A\n",
      "train-Processing:  38%|███▊      | 248/659 [00:33<01:02,  6.58it/s]"
     ]
    },
    {
     "name": "stdout",
     "output_type": "stream",
     "text": [
      "test-loss:0.635317 test-f1:0.080849 test-precison:0.892405 test-recall:0.042342\n"
     ]
    },
    {
     "name": "stderr",
     "output_type": "stream",
     "text": [
      "train-Processing:  51%|█████▏    | 339/659 [00:44<00:34,  9.36it/s]\n",
      "test-Processing:   0%|          | 0/4 [00:00<?, ?it/s]\u001b[A\n",
      "test-Processing: 100%|██████████| 4/4 [00:01<00:00,  2.09it/s]\u001b[A\n",
      "train-Processing:  52%|█████▏    | 342/659 [00:46<00:42,  7.41it/s]\n"
     ]
    },
    {
     "name": "stdout",
     "output_type": "stream",
     "text": [
      "test-loss:0.639590 test-f1:0.086416 test-precison:0.788660 test-recall:0.045713\n",
      "train-loss:0.649898 train-f1:0.140151 train-precison:0.570006 trainrecall:0.079898\n",
      "耗时: 49.32秒\n"
     ]
    }
   ],
   "source": [
    "for i in range(epochs):\n",
    "    if not continue_train:\n",
    "        break\n",
    "    beg = time.time()\n",
    "    print(\"------%dth epoch------\"%(i+1))\n",
    "   \n",
    "    train_pred = list()\n",
    "    train_target = list()\n",
    "    train_loss = list()\n",
    "    train_f1 = list()\n",
    "    train_precision = list()\n",
    "    train_recall = list()\n",
    "    for step,mini_train in tqdm(enumerate(train_loader),desc='train-Processing',total=batch_step):\n",
    "        if not continue_train:\n",
    "            break\n",
    "        \n",
    "        mm.train()\n",
    "        \n",
    "        ##get feat and label\n",
    "        mini_train_feat = mini_train['norm_feat']\n",
    "        mini_train_label = mini_train['label']\n",
    "        \n",
    "        ##forward\n",
    "        mini_train_pred = mm(mini_train_feat).reshape([-1])\n",
    "        \n",
    "        ##backward\n",
    "        mini_train_loss = loss_fn(mini_train_pred,mini_train_label.float())\n",
    "        optimizer.zero_grad()\n",
    "        mini_train_loss.backward()\n",
    "        ###record by tensorboard\n",
    "        if(global_step%10==0): \n",
    "            summary_writer.add_histogram('ln1.weight.grad',mm.ln1[0].weight.grad,global_step)\n",
    "            summary_writer.add_histogram('ln2.weight.grad',mm.ln2[0].weight.grad,global_step)\n",
    "            summary_writer.add_histogram('ln3.weight.grad',mm.ln2[0].weight.grad,global_step)\n",
    "        ##clip gradient\n",
    "        torch.nn.utils.clip_grad_norm_(mm.parameters(),1.)\n",
    "        optimizer.step()\n",
    "        \n",
    "        ##eval mini_train\n",
    "        mini_train_f1 = f1_score(y_true=mini_train_label.detach().numpy(),y_pred=mini_train_pred.detach().numpy()>threshold)\n",
    "        mini_train_precision = precision_score(y_true=mini_train_label.detach().numpy(),y_pred=mini_train_pred.detach().numpy()>threshold,zero_division=0)\n",
    "        mini_train_recall = recall_score(y_true=mini_train_label.detach().numpy(),y_pred=mini_train_pred.detach().numpy()>threshold,zero_division=0)\n",
    "        \n",
    "        ##collect train data\n",
    "        train_loss.append(mini_train_loss)\n",
    "        train_pred.extend(mini_train_pred.detach().numpy())\n",
    "        train_target.extend(mini_train_label.detach().numpy())\n",
    "        train_f1.append(mini_train_f1)\n",
    "        train_precision.append(mini_train_precision)\n",
    "        train_recall.append(mini_train_recall)\n",
    "            \n",
    "        ##record by tensorboard\n",
    "        if(global_step%10==0): \n",
    "            summary_writer.add_scalar('train_batch_loss',mini_train_loss,global_step)\n",
    "            summary_writer.add_scalar('train_batch_f1',mini_train_f1,global_step)\n",
    "            summary_writer.add_scalar('train_batch_precision',mini_train_precision,global_step)\n",
    "            summary_writer.add_scalar('train_batch_recall',mini_train_recall,global_step)\n",
    "            summary_writer.add_histogram('ln1.weight',mm.ln1[0].weight,global_step)\n",
    "            summary_writer.add_histogram('ln2.weight',mm.ln2[0].weight,global_step)\n",
    "            summary_writer.add_histogram('ln3.weight',mm.ln3[0].weight,global_step)\n",
    "    \n",
    "        ##tensorboard 变量监视\n",
    "        if global_step % 100 == 0:\n",
    "            mm.eval()\n",
    "            test_pred = list()\n",
    "            test_target = list()\n",
    "            test_loss = list()\n",
    "            test_f1 = list()\n",
    "            for mini_test in tqdm(test_loader,desc='test-Processing',total=int(cache_test.num_rows/batch_size)):\n",
    "                ##get mini_test feat and label\n",
    "                mini_test_feat = mini_test['norm_feat']\n",
    "                mini_test_label = mini_test['label']\n",
    "                \n",
    "                ##forward\n",
    "                mini_test_pred = mm(mini_test_feat).reshape(-1)\n",
    "                mini_test_loss = loss_fn(mini_test_pred,mini_test_label.float())\n",
    "                \n",
    "                test_loss.append(mini_test_loss)\n",
    "                test_pred.extend(mini_test_pred.detach().numpy())\n",
    "                test_target.extend(mini_test_label.detach().numpy())\n",
    "                \n",
    "                #break\n",
    "            #print(test_pred[:100])\n",
    "            test_pred = np.array(test_pred)\n",
    "            test_f1 = f1_score(y_true=test_target,y_pred=test_pred>threshold)\n",
    "            test_precision = precision_score(y_true=test_target,y_pred=test_pred>threshold,zero_division=0)\n",
    "            test_recall = recall_score(y_true=test_target,y_pred=test_pred>threshold,zero_division=0)\n",
    "            \n",
    "            mean_test_loss = sum(test_loss)/len(test_loss)\n",
    "            summary_writer.add_scalar('test_loss',mean_test_loss,global_step)\n",
    "            summary_writer.add_scalar('test_f1',test_f1 ,global_step)\n",
    "            summary_writer.add_scalar('test_precision',test_precision ,global_step)\n",
    "            summary_writer.add_scalar('test_recall',test_recall ,global_step)\n",
    "            print('test-loss:%f test-f1:%f test-precison:%f test-recall:%f'%(mean_test_loss,test_f1,test_precision,test_recall))\n",
    "            if test_f1 >= best_test_metric:\n",
    "                best_test_metric = test_f1\n",
    "                un_up_cnt = 0\n",
    "                torch.save(mm.state_dict(),'./nn_model/'+file_desc+'_'+str(global_step))\n",
    "                print('/****best_metrics found :\\tval: %f  global_step:%d  ****/'%(best_test_metric,global_step))\n",
    "            else:\n",
    "                un_up_cnt+=1\n",
    "                if (un_up_cnt >= 10):\n",
    "                    continue_train = False\n",
    "                         \n",
    "        global_step+=1\n",
    "        if global_step %100 == 0:\n",
    "            ##动态学习率调整\n",
    "            lr_adjust.step()\n",
    "    \n",
    "    ##eval train\n",
    "    mean_train_loss = sum(train_loss)/len(train_loss)\n",
    "    train_pred = np.array(train_pred)\n",
    "    train_f1 = f1_score(y_true=train_target,y_pred=train_pred>threshold)\n",
    "    train_precision = precision_score(y_true=train_target,y_pred=train_pred>threshold)\n",
    "    train_recall = recall_score(y_true=train_target,y_pred=train_pred>threshold)\n",
    "    print('train-loss:%f train-f1:%f train-precison:%f trainrecall:%f'%(mean_train_loss,train_f1,train_precision,train_recall))\n",
    "    summary_writer.add_scalar('train_loss',mini_train_loss,global_step)\n",
    "    summary_writer.add_scalar('train_f1',train_f1,global_step)\n",
    "    summary_writer.add_scalar('train_precision',train_precision,global_step)\n",
    "    summary_writer.add_scalar('train_recall',train_recall,global_step)\n",
    "    #break\n",
    "     \n",
    "    ##record time cost\n",
    "    end = time.time()\n",
    "    print(\"耗时: {:.2f}秒\".format(end - beg))\n",
    "        "
   ]
  },
  {
   "cell_type": "markdown",
   "id": "dbca685c",
   "metadata": {},
   "source": [
    "# test_eval"
   ]
  },
  {
   "cell_type": "code",
   "execution_count": 28,
   "id": "2fde041f",
   "metadata": {},
   "outputs": [
    {
     "name": "stderr",
     "output_type": "stream",
     "text": [
      "test-Processing: 100%|██████████| 4/4 [00:01<00:00,  3.28it/s]\n"
     ]
    }
   ],
   "source": [
    "mm.eval()\n",
    "test_pred = list()\n",
    "test_target = list()\n",
    "test_loss = list()\n",
    "test_f1 = list()\n",
    "for mini_test in tqdm(test_loader,desc='test-Processing',total=int(cache_test.num_rows/batch_size)):\n",
    "    ##get mini_test feat and label\n",
    "    mini_test_feat = mini_test['norm_feat']\n",
    "    mini_test_label = mini_test['label']\n",
    "\n",
    "    ##forward\n",
    "    mini_test_pred = mm(mini_test_feat).reshape(-1)\n",
    "    mini_test_loss = loss_fn(mini_test_pred,mini_test_label.float())\n",
    "\n",
    "    test_loss.append(mini_test_loss)\n",
    "    test_pred.extend(mini_test_pred.detach().numpy())\n",
    "    test_target.extend(mini_test_label.detach().numpy())\n",
    "\n",
    "    #break\n",
    "#print(test_pred[:100])\n"
   ]
  },
  {
   "cell_type": "code",
   "execution_count": 29,
   "id": "44215f3e",
   "metadata": {},
   "outputs": [
    {
     "name": "stdout",
     "output_type": "stream",
     "text": [
      "test-f1:0.086343 test-precison:0.772727 test-recall:0.045726\n"
     ]
    }
   ],
   "source": [
    "test_pred = np.array(test_pred)\n",
    "test_f1 = f1_score(y_true=test_target,y_pred=test_pred>threshold)\n",
    "test_precision = precision_score(y_true=test_target,y_pred=test_pred>threshold)\n",
    "test_recall = recall_score(y_true=test_target,y_pred=test_pred>threshold)\n",
    "mean_test_loss = sum(test_loss)/len(test_loss)\n",
    "print('test-f1:%f test-precison:%f test-recall:%f'%(test_f1,test_precision,test_recall))"
   ]
  },
  {
   "cell_type": "code",
   "execution_count": 30,
   "id": "dd6b68ec",
   "metadata": {},
   "outputs": [
    {
     "data": {
      "text/plain": [
       "array([0.4281078 , 0.4281078 , 0.82776827, 0.4281078 , 0.03100571,\n",
       "       0.4281078 , 0.4281078 , 0.9791509 , 0.4281078 , 0.4281078 ],\n",
       "      dtype=float32)"
      ]
     },
     "execution_count": 30,
     "metadata": {},
     "output_type": "execute_result"
    }
   ],
   "source": [
    "test_pred[:10]"
   ]
  },
  {
   "cell_type": "code",
   "execution_count": 31,
   "id": "0e55f58f",
   "metadata": {},
   "outputs": [
    {
     "data": {
      "text/plain": [
       "[0, 1, 1, 0, 0, 1, 0, 1, 0, 1]"
      ]
     },
     "execution_count": 31,
     "metadata": {},
     "output_type": "execute_result"
    }
   ],
   "source": [
    "test_target[:10]"
   ]
  },
  {
   "cell_type": "markdown",
   "id": "9581e732",
   "metadata": {},
   "source": [
    "# save &load"
   ]
  },
  {
   "cell_type": "code",
   "execution_count": 32,
   "id": "beaca557",
   "metadata": {},
   "outputs": [
    {
     "data": {
      "text/plain": [
       "tensor([[ 0.0054,  0.0213,  0.0629, -0.0242,  0.0022, -0.0013, -0.0030, -0.0241,\n",
       "          0.0103,  0.0008,  0.0088, -0.0070, -0.0268, -0.0459, -0.0306, -0.0305,\n",
       "         -0.0030, -0.0116,  0.0810, -0.0016]])"
      ]
     },
     "execution_count": 32,
     "metadata": {},
     "output_type": "execute_result"
    }
   ],
   "source": [
    "mm.state_dict()['ln3.0.weight']"
   ]
  },
  {
   "cell_type": "code",
   "execution_count": 33,
   "id": "facb27ab",
   "metadata": {},
   "outputs": [],
   "source": [
    "torch.save(mm.state_dict(),'./nn_model/'+file_desc )"
   ]
  },
  {
   "cell_type": "code",
   "execution_count": 34,
   "id": "b11444a5",
   "metadata": {},
   "outputs": [
    {
     "name": "stderr",
     "output_type": "stream",
     "text": [
      "/disk5/bingfa.zjq/py3/lib/python3.6/site-packages/ipykernel_launcher.py:25: UserWarning: nn.init.xavier_normal is now deprecated in favor of nn.init.xavier_normal_.\n"
     ]
    },
    {
     "data": {
      "text/plain": [
       "<All keys matched successfully>"
      ]
     },
     "execution_count": 34,
     "metadata": {},
     "output_type": "execute_result"
    }
   ],
   "source": [
    "test_mm = match_model()\n",
    "load_test= torch.load('./nn_model/'+file_desc )\n",
    "test_mm.load_state_dict(load_test)"
   ]
  },
  {
   "cell_type": "code",
   "execution_count": 35,
   "id": "cc8678b0",
   "metadata": {},
   "outputs": [
    {
     "data": {
      "text/plain": [
       "tensor([[ 0.0054,  0.0213,  0.0629, -0.0242,  0.0022, -0.0013, -0.0030, -0.0241,\n",
       "          0.0103,  0.0008,  0.0088, -0.0070, -0.0268, -0.0459, -0.0306, -0.0305,\n",
       "         -0.0030, -0.0116,  0.0810, -0.0016]])"
      ]
     },
     "execution_count": 35,
     "metadata": {},
     "output_type": "execute_result"
    }
   ],
   "source": [
    "test_mm.state_dict()['ln3.0.weight']"
   ]
  },
  {
   "cell_type": "code",
   "execution_count": 36,
   "id": "b3d664c5",
   "metadata": {},
   "outputs": [
    {
     "data": {
      "text/plain": [
       "OrderedDict([('ln1.0.weight',\n",
       "              tensor([[ 2.6446e-01,  8.7113e-01,  1.2907e+00, -9.4492e-01, -1.3192e+00,\n",
       "                        1.4850e+00, -1.6454e+00,  1.4339e+00, -4.7500e+00,  1.7237e+00],\n",
       "                      [-3.9284e-01, -5.2317e-01, -9.4101e-02, -4.1987e-01, -8.8168e-01,\n",
       "                       -7.1515e-01, -2.9171e-01, -3.0335e-01, -1.4873e-02, -3.1604e-01],\n",
       "                      [-2.3079e-01, -1.4834e-01,  1.7564e-01, -3.2870e-01, -2.7424e-01,\n",
       "                       -2.5367e-01,  9.4351e-02, -4.0524e-02, -5.5089e-01, -1.1732e-01],\n",
       "                      [ 4.7117e-02, -7.1074e-02,  3.2055e-01, -2.8899e-02, -1.9431e-01,\n",
       "                       -4.1873e-01, -4.8288e-01, -3.4121e-01, -4.0624e-01, -1.6691e-01],\n",
       "                      [-5.7434e-01, -4.9653e-01, -8.3600e-01, -8.0416e-01, -1.0798e+00,\n",
       "                       -4.4157e-01,  4.3638e-01, -3.2111e-01, -6.4324e-03, -8.1838e-01],\n",
       "                      [-6.5204e-01, -7.7991e-01, -1.2579e+00, -9.4577e-01, -4.3919e-01,\n",
       "                       -2.5723e-01, -7.4039e-01, -6.6409e-02,  1.4157e-01, -8.0679e-01],\n",
       "                      [ 4.8476e-01,  1.0037e+00,  7.0742e-02,  8.6149e-01,  1.0703e+00,\n",
       "                        1.0145e+00,  9.3785e-01,  1.0952e+00,  1.3142e+00,  5.1660e-01],\n",
       "                      [ 7.3057e-01,  8.8327e-01,  1.5120e+00,  8.1781e-01,  7.6972e-01,\n",
       "                        8.6138e-01,  1.5224e-02,  5.1885e-03,  7.1961e-01,  8.4193e-01],\n",
       "                      [ 5.0038e-01,  3.3246e-01, -1.9938e+00, -1.8562e+00, -2.5463e+00,\n",
       "                       -4.5923e-01,  2.0443e+00,  2.5757e+00, -6.2696e-01, -2.9157e+00],\n",
       "                      [-6.4905e-01, -6.7741e-01, -1.1433e+00, -2.1929e+00, -1.6574e+00,\n",
       "                       -7.6860e-01, -9.3683e-01, -1.2738e-01, -8.5684e-01, -5.3179e-01],\n",
       "                      [ 2.0364e-01,  1.2846e+00,  4.9675e-01, -1.2519e+00, -1.2835e+00,\n",
       "                        1.4936e+00, -1.2591e+00, -7.4202e-01, -5.1909e+00,  1.0550e+00],\n",
       "                      [-5.4229e-01, -4.1184e-01, -5.8170e-01, -1.0575e+00, -3.2742e-03,\n",
       "                       -4.9244e-01, -4.6346e-01, -2.5928e-01, -9.3602e-02, -1.9993e-01],\n",
       "                      [-7.9989e-01, -4.1788e-01, -9.7346e-02, -2.5303e-01, -4.3755e-01,\n",
       "                       -3.9158e-01, -7.1015e-01, -1.2677e-01, -2.1864e-01, -9.8218e-02],\n",
       "                      [-2.8177e-01, -3.9267e-01, -1.5785e+00, -1.3162e+00, -8.7421e-01,\n",
       "                       -6.3158e-01, -1.0604e-01, -5.0378e-01, -1.4422e-01, -1.2838e+00],\n",
       "                      [ 2.0405e-01, -8.8797e-02,  2.6201e-01,  8.2582e-01,  8.7049e-01,\n",
       "                        1.8356e-01,  4.0010e-01,  2.6536e-01,  4.1564e-01,  5.4132e-01],\n",
       "                      [-8.3310e-01, -1.4100e+00, -3.6904e+00, -4.0777e-01, -4.1488e-01,\n",
       "                        3.8694e-01, -8.4430e-02,  2.3742e-01,  7.5073e-01, -4.9267e-02],\n",
       "                      [ 9.0007e-02,  1.4899e-01, -1.0209e-01,  9.2335e-03, -7.0774e-01,\n",
       "                       -6.0229e-01, -1.5190e-01, -2.8566e-01, -5.5847e-01,  5.1580e-01],\n",
       "                      [ 3.8250e-01,  2.6229e-01, -8.1125e-01,  1.3743e-02, -3.5255e-01,\n",
       "                       -1.5701e-01,  8.2390e-01,  1.0302e+00,  3.0189e-01, -5.0835e-01],\n",
       "                      [-4.9110e-02, -4.3972e-02,  5.4072e-01, -4.3675e-01, -7.2568e-01,\n",
       "                        3.3233e-01, -6.9115e-01, -3.4719e-01, -1.1950e+00,  3.1280e-01],\n",
       "                      [ 1.8594e-01,  1.9857e-01, -2.9462e-01,  3.8726e-01,  2.4542e-01,\n",
       "                        4.2377e-01,  3.0418e-01,  1.5987e-01,  8.7540e-01,  3.5193e-01]])),\n",
       "             ('ln1.0.bias',\n",
       "              tensor([ 1.7606, -0.4279, -0.2593, -0.1733, -0.2291, -0.3779,  0.6357,  0.1654,\n",
       "                       1.3202, -0.5882,  1.6999, -0.2947, -0.3006, -0.3872,  0.0658,  0.1983,\n",
       "                       0.0000,  0.2642,  0.0279,  0.2166])),\n",
       "             ('ln2.0.weight',\n",
       "              tensor([[-5.5205e-01,  2.1865e-01, -2.0757e-01, -6.5284e-02, -5.6991e-01,\n",
       "                       -7.3358e-01, -9.3795e-01, -1.1957e+00,  2.0032e-01,  1.3213e-01,\n",
       "                       -2.6641e-01, -1.0252e-01, -2.5674e-01, -4.4449e-01, -5.6701e-01,\n",
       "                       -5.8331e-01,  8.5917e-02, -6.9946e-01, -5.1256e-01, -8.3325e-01],\n",
       "                      [-5.1221e+00,  1.1129e-01,  2.1924e-01, -4.7994e-02, -3.6328e-01,\n",
       "                       -1.1383e-01, -1.5085e-01, -1.5867e-01,  2.7703e+00,  4.4813e-01,\n",
       "                       -6.4069e-01, -9.4274e-02,  4.3516e-01,  3.2071e-02,  7.7872e-02,\n",
       "                       -1.2464e-01,  4.5329e-01,  7.4827e-01, -4.8751e-01,  4.7388e-02],\n",
       "                      [-3.8841e+00,  1.4189e-01, -5.6028e-01, -5.5210e-02,  1.1314e-01,\n",
       "                        7.6441e-03, -2.0172e-01, -2.9193e-01,  2.4284e+00,  5.4296e-01,\n",
       "                       -1.1524e+00,  2.6414e-01, -2.3901e-01, -4.3016e-02, -3.7529e-01,\n",
       "                       -5.0110e-02,  1.5133e-02,  1.6617e+00, -3.1633e-01,  5.3199e-02],\n",
       "                      [ 2.3204e+00,  3.0731e-01,  2.9006e-01, -1.1066e-01, -2.8165e-01,\n",
       "                        6.9063e-02, -4.8613e-01,  2.1648e-01, -9.9679e-01,  5.5251e-01,\n",
       "                        2.1136e+00, -8.4928e-02, -2.8470e-01,  1.4876e-02, -2.7106e-01,\n",
       "                       -3.1554e-01, -1.7547e-01, -1.1286e-01,  1.0504e+00, -3.7711e-01],\n",
       "                      [ 2.3688e+00, -4.8259e-03,  2.1125e-01,  6.2592e-02, -4.4917e-02,\n",
       "                        3.1030e-01, -1.8098e-01, -3.3759e-01, -9.6757e-01,  5.2709e-01,\n",
       "                        1.7378e+00,  4.2372e-02,  1.0243e-02, -5.4938e-01, -2.5540e-01,\n",
       "                       -2.9765e-01, -3.8801e-01, -4.6981e-01,  1.2247e+00, -1.2975e-01],\n",
       "                      [-1.5486e+00, -4.2648e-01,  4.5740e-01, -1.3220e-01, -4.7308e-02,\n",
       "                       -2.3490e-01, -9.8155e-01, -8.8633e-01,  1.0235e-01,  1.7576e-02,\n",
       "                       -8.4895e-01,  9.6675e-02, -1.1931e-01, -2.7906e-01, -1.5708e+00,\n",
       "                       -1.0386e+00,  2.1214e-01, -1.0868e+00, -3.6424e-01, -1.0996e+00],\n",
       "                      [-3.3637e-02, -6.2641e-02, -2.8675e-02,  6.4289e-01, -8.6276e-01,\n",
       "                       -7.8924e-01, -3.3771e-01, -2.9278e-01, -1.5656e+00, -3.2544e-01,\n",
       "                       -1.1399e-01,  4.1453e-01, -3.7557e-02, -8.5635e-01, -3.3363e-01,\n",
       "                       -9.2596e-01,  6.8309e-02, -9.6502e-01, -3.8827e-01, -5.5252e-01],\n",
       "                      [ 2.6594e+00,  3.2719e-01,  2.9020e-01, -2.2474e-01, -2.7049e-01,\n",
       "                       -2.3434e-01, -7.6920e-02, -2.3948e-01, -1.0521e+00,  4.0311e-01,\n",
       "                        1.3508e+00,  2.7363e-01,  5.4948e-02, -1.3424e-01,  7.7657e-02,\n",
       "                       -2.5184e-01, -2.7080e-01, -5.3993e-01,  1.2079e+00, -1.7880e-01],\n",
       "                      [-4.8571e-01, -1.5967e-01, -2.9398e-02,  1.2079e-01, -2.9845e-01,\n",
       "                       -3.3339e-01, -2.7195e-01, -4.1805e-02,  1.4236e-01,  4.0300e-01,\n",
       "                       -8.8928e-01,  4.1436e-01,  4.3981e-01, -1.7114e-02, -3.5604e-01,\n",
       "                        2.0928e-01, -2.1003e-01, -3.0059e-01, -3.3586e-01, -3.8054e-01],\n",
       "                      [-1.4997e+00,  7.1906e-02, -4.4859e-01,  7.7334e-03, -2.4063e-02,\n",
       "                       -2.4811e-01, -8.9114e-01, -8.0202e-01,  1.4671e+00, -1.6524e-01,\n",
       "                       -4.3693e-01, -9.1813e-02,  2.5876e-02,  6.1729e-02, -3.6409e-01,\n",
       "                       -8.9844e-01, -2.9178e-03, -1.2997e+00,  1.7241e-01, -2.5002e-01],\n",
       "                      [-1.4314e+00,  4.3645e-02,  7.1828e-02, -3.5299e-01, -1.9611e-01,\n",
       "                       -3.1817e-01, -1.0053e+00, -1.0134e+00,  1.7277e+00,  4.4501e-01,\n",
       "                       -4.3090e-01,  6.4612e-02, -3.5810e-02, -2.8410e-01, -1.2512e+00,\n",
       "                       -7.6095e-01, -4.6010e-01, -4.2216e-01, -3.0639e-01, -1.0529e+00],\n",
       "                      [-5.8063e-01, -2.2985e-01,  1.9137e-01, -2.7853e-01, -5.0302e-01,\n",
       "                       -7.0602e-01, -9.1647e-01, -3.0466e-01, -2.1007e-01, -2.1096e-01,\n",
       "                       -6.3121e-01,  2.3479e-02,  9.5961e-02, -5.0362e-01, -3.3586e-01,\n",
       "                       -8.8572e-01,  2.2988e-01, -9.0805e-01, -4.0516e-01, -1.2081e+00],\n",
       "                      [ 3.5078e+00, -5.2939e-01,  4.5687e-01, -5.1431e-01, -2.2018e-01,\n",
       "                       -2.5666e-01, -1.4760e-01, -5.4198e-02, -1.4826e+00,  8.0165e-01,\n",
       "                        3.0872e+00,  5.2342e-02, -7.4423e-02, -4.4609e-01, -3.6282e-01,\n",
       "                        1.2978e-01, -5.7640e-01, -8.1112e-01,  2.4227e+00,  1.2438e-02],\n",
       "                      [ 1.9924e+00,  9.4211e-03,  2.2870e-01,  1.5222e-01, -1.5505e-01,\n",
       "                       -1.9842e-01, -1.2989e-01,  7.0806e-02, -7.7495e-01,  2.5819e-01,\n",
       "                        1.6074e+00, -2.3582e-01, -2.0120e-01,  3.7372e-01, -6.0061e-02,\n",
       "                       -3.9379e-01, -5.4062e-02, -6.9374e-01,  9.0354e-01, -1.0943e-01],\n",
       "                      [-1.2887e+00, -1.2249e-02,  3.5752e-02,  5.0126e-02, -6.3180e-02,\n",
       "                        1.1215e-01, -1.7036e-01, -3.7760e-02,  5.1257e-01, -3.0414e-01,\n",
       "                       -4.6099e-01, -2.2591e-01, -6.0874e-02, -1.9613e-01, -2.0881e-02,\n",
       "                       -1.0334e-01, -2.6725e-01, -4.3980e-01, -2.1651e-01,  2.2154e-02],\n",
       "                      [ 1.9515e+00, -4.7982e-01,  4.6134e-01, -3.9871e-01, -2.3159e-01,\n",
       "                       -5.2571e-02, -1.7493e-01, -3.6439e-01, -6.1263e-01, -1.2026e-01,\n",
       "                        8.1993e-01,  6.2802e-03,  8.5646e-02, -3.5572e-01, -4.0229e-01,\n",
       "                       -3.7160e+00,  1.6981e-01,  8.3671e-02,  6.3634e-01, -2.5553e-01],\n",
       "                      [-1.8030e+00, -1.4402e-01, -4.9860e-01, -3.5797e-01,  1.6260e-01,\n",
       "                       -7.9695e-02, -7.4719e-01, -9.3005e-01,  4.3480e-01,  5.3964e-01,\n",
       "                       -1.1469e+00, -3.3043e-01,  2.7310e-01, -1.6605e-01, -1.0970e-02,\n",
       "                       -1.5309e-01,  3.2324e-01, -6.2099e-01, -1.0888e+00, -2.9158e-01],\n",
       "                      [ 1.5261e+00, -2.4872e-02,  3.7905e-01, -3.9482e-01,  2.5189e-01,\n",
       "                       -1.7692e-01, -1.0694e-01, -2.7189e-01, -6.6010e-01,  3.4778e-01,\n",
       "                        1.9267e+00, -3.5764e-01,  2.5434e-01,  1.1681e-01, -2.9017e-01,\n",
       "                       -1.8680e-01,  3.9876e-01, -2.4954e-01,  1.3325e+00,  9.0015e-02],\n",
       "                      [-3.2642e+00, -2.7617e-01,  3.2429e-01,  8.7628e-02, -1.5044e-01,\n",
       "                        2.6387e-01, -3.9596e-03, -3.6761e-02,  1.7897e+00,  2.5277e-01,\n",
       "                       -4.5255e-01, -8.3948e-01,  2.2779e-01, -6.0507e-02, -2.3407e-01,\n",
       "                       -1.7870e-02,  5.5901e-02,  9.1216e-01,  9.3099e-02, -5.1536e-01],\n",
       "                      [-1.3359e+00,  2.6050e-01, -2.3324e-01,  1.6570e-01, -1.4209e-01,\n",
       "                       -5.7039e-02, -1.0567e+00, -9.0117e-01,  5.4543e-01,  4.3795e-01,\n",
       "                       -8.5533e-01, -2.6513e-01, -3.8306e-02, -3.4525e-01, -4.1315e-01,\n",
       "                       -6.1423e-01,  1.8922e-01, -1.1550e+00, -5.0819e-01, -1.0188e+00]])),\n",
       "             ('ln2.0.bias',\n",
       "              tensor([-0.4559, -0.1260, -0.4249,  0.1237,  0.5413, -0.2709, -0.5484,  0.3510,\n",
       "                       0.1079, -0.5594, -0.5672, -1.2907, -0.1001,  0.2750, -0.1901,  0.1765,\n",
       "                      -0.5902,  0.3405,  0.1856, -0.7435])),\n",
       "             ('ln3.0.weight',\n",
       "              tensor([[ 0.0054,  0.0213,  0.0629, -0.0242,  0.0022, -0.0013, -0.0030, -0.0241,\n",
       "                        0.0103,  0.0008,  0.0088, -0.0070, -0.0268, -0.0459, -0.0306, -0.0305,\n",
       "                       -0.0030, -0.0116,  0.0810, -0.0016]])),\n",
       "             ('ln3.0.bias', tensor([-0.3065]))])"
      ]
     },
     "execution_count": 36,
     "metadata": {},
     "output_type": "execute_result"
    }
   ],
   "source": [
    "load_test"
   ]
  },
  {
   "cell_type": "code",
   "execution_count": null,
   "id": "3f9a3a62",
   "metadata": {},
   "outputs": [],
   "source": []
  }
 ],
 "metadata": {
  "kernelspec": {
   "display_name": "Python 3",
   "language": "python",
   "name": "python3"
  },
  "language_info": {
   "codemirror_mode": {
    "name": "ipython",
    "version": 3
   },
   "file_extension": ".py",
   "mimetype": "text/x-python",
   "name": "python",
   "nbconvert_exporter": "python",
   "pygments_lexer": "ipython3",
   "version": "3.6.8"
  }
 },
 "nbformat": 4,
 "nbformat_minor": 5
}
