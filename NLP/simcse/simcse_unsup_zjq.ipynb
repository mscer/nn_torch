{
 "cells": [
  {
   "cell_type": "code",
   "execution_count": 1,
   "id": "7f973128",
   "metadata": {},
   "outputs": [],
   "source": [
    "from datasets import load_dataset\n",
    "from CSEcollator import CSECollator\n",
    "import torch\n",
    "import io\n",
    "import torch.nn.functional as F\n",
    "import random\n",
    "import numpy as np\n",
    "import time\n",
    "import math\n",
    "import torch.nn as nn\n",
    "from tqdm import tqdm\n",
    "#from transformers import *\n",
    "from transformers.models.bert.modeling_bert import *\n",
    "from torch.utils.data import TensorDataset, DataLoader, RandomSampler, SequentialSampler\n",
    "from datasets import load_dataset\n",
    "from transformers import AutoTokenizer, DataCollatorWithPadding,TrainingArguments, Trainer\n",
    "batch_size = 64"
   ]
  },
  {
   "cell_type": "code",
   "execution_count": 2,
   "id": "94b13dff",
   "metadata": {},
   "outputs": [],
   "source": [
    "def load_data(data_files, tokenizer, batch_size, max_length):\n",
    "    ds = load_dataset(\"text\", data_files=data_files)\n",
    "    ds_tokenized = ds.map(lambda example: tokenizer(example[\"text\"], truncation=True, max_length=max_length, padding='max_length'),num_proc=5)\n",
    "    collator = CSECollator(tokenizer, max_len=max_length)\n",
    "    dl = DataLoader(ds_tokenized[\"train\"],\n",
    "                    batch_size=batch_size,\n",
    "                    collate_fn=collator.collate,\n",
    "                    drop_last=True)#重新定义取样本的函数\n",
    "    return dl"
   ]
  },
  {
   "cell_type": "markdown",
   "id": "5cde3fdd",
   "metadata": {},
   "source": [
    "# data"
   ]
  },
  {
   "cell_type": "code",
   "execution_count": 3,
   "id": "6da932dd",
   "metadata": {},
   "outputs": [
    {
     "name": "stderr",
     "output_type": "stream",
     "text": [
      "Reusing dataset glue (/home/bingfa.zjq/.cache/huggingface/datasets/glue/stsb/1.0.0/dacbe3125aa31d7f70367a07a8a9e72a5a0bfeb5fc42e75c9db75b96da6053ad)\n"
     ]
    }
   ],
   "source": [
    "data_set_val = load_dataset('glue', 'stsb', split='validation')"
   ]
  },
  {
   "cell_type": "markdown",
   "id": "a17e26ab",
   "metadata": {},
   "source": [
    "# token"
   ]
  },
  {
   "cell_type": "code",
   "execution_count": 4,
   "id": "c3358c60",
   "metadata": {},
   "outputs": [],
   "source": [
    "from transformers import AutoTokenizer, AutoModel\n",
    "checkpoint = \"bert-base-uncased\"\n",
    "tokenizer = AutoTokenizer.from_pretrained(checkpoint)\n",
    "\n",
    "def tokenize_function(example, max_length=32):\n",
    "    return tokenizer(example[\"sentence1\"], truncation=True,  max_length=max_length, padding='max_length')\n"
   ]
  },
  {
   "cell_type": "code",
   "execution_count": 5,
   "id": "2ab27a52",
   "metadata": {},
   "outputs": [
    {
     "name": "stderr",
     "output_type": "stream",
     "text": [
      "Using custom data configuration default-a5f73cdc4a03d6e8\n",
      "Reusing dataset text (./data/text/default-a5f73cdc4a03d6e8/0.0.0/e16f44aa1b321ece1f87b07977cc5d70be93d69b20486d6dacd62e12cf25c9a5)\n"
     ]
    }
   ],
   "source": [
    "data_files = './data/wiki/wiki1m_for_simcse.txt'\n",
    "dataset = load_dataset('text', data_files=data_files, cache_dir=\"./data/\")"
   ]
  },
  {
   "cell_type": "code",
   "execution_count": 6,
   "id": "a9a8e9a5",
   "metadata": {},
   "outputs": [],
   "source": [
    "def token_example(examples):\n",
    "    total = len(examples['text'])\n",
    "    sentences = examples['text'] + examples['text']\n",
    "    #print(sentences)\n",
    "    sent_features = tokenizer(sentences,max_length=32,truncation=True,padding=\"max_length\")\n",
    "    features = {}\n",
    "    for key in sent_features:\n",
    "        features[key] = [[sent_features[key][i], sent_features[key][i+total]] for i in range(total)]\n",
    "    return features"
   ]
  },
  {
   "cell_type": "code",
   "execution_count": 7,
   "id": "2bd65f8a",
   "metadata": {},
   "outputs": [],
   "source": [
    "from transformers.tokenization_utils_base import BatchEncoding, PaddingStrategy, PreTrainedTokenizerBase\n",
    "from typing import Optional, Union, List, Dict, Tuple \n",
    "@dataclass\n",
    "class OurDataCollatorWithPadding:\n",
    "    tokenizer: PreTrainedTokenizerBase\n",
    "    padding: Union[bool, str, PaddingStrategy] = True\n",
    "    max_length: Optional[int] = None\n",
    "    pad_to_multiple_of: Optional[int] = None\n",
    "    mlm: bool = True\n",
    "    mlm_probability: float = 0.15\n",
    "\n",
    "    def __call__(self, features: List[Dict[str, Union[List[int], List[List[int]], torch.Tensor]]]) -> Dict[str, torch.Tensor]:\n",
    "        special_keys = ['input_ids', 'attention_mask', 'token_type_ids', 'mlm_input_ids', 'mlm_labels']\n",
    "        bs = len(features)\n",
    "        if bs > 0:\n",
    "            num_sent = len(features[0]['input_ids'])\n",
    "        else:\n",
    "            return\n",
    "        flat_features = []\n",
    "        for feature in features:\n",
    "            for i in range(num_sent):\n",
    "                flat_features.append({k: feature[k][i] if k in special_keys else feature[k] for k in feature})\n",
    "\n",
    "        batch = self.tokenizer.pad(\n",
    "            flat_features,\n",
    "            padding=self.padding,\n",
    "            max_length=self.max_length,\n",
    "            pad_to_multiple_of=self.pad_to_multiple_of,\n",
    "            return_tensors=\"pt\",\n",
    "        )\n",
    "\n",
    "\n",
    "        batch = {k: batch[k].view(bs, num_sent, -1) if k in special_keys else batch[k].view(bs, num_sent, -1)[:, 0] for k in batch}\n",
    "\n",
    "        if \"label\" in batch:\n",
    "            batch[\"labels\"] = batch[\"label\"]\n",
    "            del batch[\"label\"]\n",
    "        if \"label_ids\" in batch:\n",
    "            batch[\"labels\"] = batch[\"label_ids\"]\n",
    "            del batch[\"label_ids\"]\n",
    "\n",
    "        return batch"
   ]
  },
  {
   "cell_type": "code",
   "execution_count": 8,
   "id": "92311a5d",
   "metadata": {},
   "outputs": [
    {
     "data": {
      "application/vnd.jupyter.widget-view+json": {
       "model_id": "bf238040ab7e4a5e8344d6e3a1e42cfd",
       "version_major": 2,
       "version_minor": 0
      },
      "text/plain": [
       "  0%|          | 0/1001 [00:00<?, ?ba/s]"
      ]
     },
     "metadata": {},
     "output_type": "display_data"
    }
   ],
   "source": [
    "train_dataset = dataset['train'].map(token_example,batched=True,remove_columns=['text'])"
   ]
  },
  {
   "cell_type": "code",
   "execution_count": 9,
   "id": "3359f511",
   "metadata": {},
   "outputs": [
    {
     "data": {
      "text/plain": [
       "[[101,\n",
       "  26866,\n",
       "  1999,\n",
       "  2148,\n",
       "  2660,\n",
       "  102,\n",
       "  0,\n",
       "  0,\n",
       "  0,\n",
       "  0,\n",
       "  0,\n",
       "  0,\n",
       "  0,\n",
       "  0,\n",
       "  0,\n",
       "  0,\n",
       "  0,\n",
       "  0,\n",
       "  0,\n",
       "  0,\n",
       "  0,\n",
       "  0,\n",
       "  0,\n",
       "  0,\n",
       "  0,\n",
       "  0,\n",
       "  0,\n",
       "  0,\n",
       "  0,\n",
       "  0,\n",
       "  0,\n",
       "  0],\n",
       " [101,\n",
       "  26866,\n",
       "  1999,\n",
       "  2148,\n",
       "  2660,\n",
       "  102,\n",
       "  0,\n",
       "  0,\n",
       "  0,\n",
       "  0,\n",
       "  0,\n",
       "  0,\n",
       "  0,\n",
       "  0,\n",
       "  0,\n",
       "  0,\n",
       "  0,\n",
       "  0,\n",
       "  0,\n",
       "  0,\n",
       "  0,\n",
       "  0,\n",
       "  0,\n",
       "  0,\n",
       "  0,\n",
       "  0,\n",
       "  0,\n",
       "  0,\n",
       "  0,\n",
       "  0,\n",
       "  0,\n",
       "  0]]"
      ]
     },
     "execution_count": 9,
     "metadata": {},
     "output_type": "execute_result"
    }
   ],
   "source": [
    "train_dataset[0]['input_ids']"
   ]
  },
  {
   "cell_type": "code",
   "execution_count": 10,
   "id": "daf81b1a",
   "metadata": {},
   "outputs": [],
   "source": [
    "data_collator = OurDataCollatorWithPadding(tokenizer=tokenizer, mlm_probability=0.15)\n",
    "train_loader = torch.utils.data.DataLoader(train_dataset,batch_size=64,shuffle=True,collate_fn=data_collator)"
   ]
  },
  {
   "cell_type": "code",
   "execution_count": 11,
   "id": "4b61d3b5",
   "metadata": {},
   "outputs": [
    {
     "data": {
      "text/plain": [
       "15626"
      ]
     },
     "execution_count": 11,
     "metadata": {},
     "output_type": "execute_result"
    }
   ],
   "source": [
    "len(train_loader)"
   ]
  },
  {
   "cell_type": "code",
   "execution_count": 12,
   "id": "1da891ed",
   "metadata": {},
   "outputs": [],
   "source": [
    "def load_dev_data(data, tokenizer): \n",
    "    sent_a = []\n",
    "    sent_b = []\n",
    "    score = []\n",
    "    sent_a = data['sentence1']\n",
    "    sent_b = data['sentence2']\n",
    "    score = data['label']\n",
    "   # print(len(sent_a))\n",
    "    \n",
    "    sent_a_encs = tokenizer(sent_a,padding=True, return_tensors=\"pt\")\n",
    "    sent_b_encs = tokenizer(sent_b, padding=True, return_tensors=\"pt\")\n",
    "    return {\"sentence1\": sent_a_encs, \"sentence2\": sent_b_encs, \"label\": np.array(score)}"
   ]
  },
  {
   "cell_type": "code",
   "execution_count": 13,
   "id": "08520372",
   "metadata": {},
   "outputs": [],
   "source": [
    "dev_data = load_dev_data(data_set_val, tokenizer)"
   ]
  },
  {
   "cell_type": "code",
   "execution_count": 14,
   "id": "121b9aee",
   "metadata": {},
   "outputs": [],
   "source": [
    "def compute_similarity(x, y, temp):\n",
    "    cos = nn.CosineSimilarity(dim=-1)\n",
    "    return cos(x, y) / temp"
   ]
  },
  {
   "cell_type": "code",
   "execution_count": 15,
   "id": "e15ebccf",
   "metadata": {},
   "outputs": [],
   "source": [
    "import logging\n",
    "\n",
    "def get_logger(filename, verbosity=1, name=None):\n",
    "    level_dict = {0: logging.DEBUG, 1: logging.INFO, 2: logging.WARNING}\n",
    "    formatter = logging.Formatter(\n",
    "            \"[%(asctime)s][%(filename)s][line:%(lineno)d][%(levelname)s] %(message)s\"\n",
    "        )\n",
    "    logger = logging.getLogger(name)\n",
    "    logger.setLevel(level_dict[verbosity])\n",
    "    fh = logging.FileHandler(filename, 'w')\n",
    "    fh.setFormatter(formatter)\n",
    "    logger.addHandler(fh)\n",
    "    \n",
    "    sh = logging.StreamHandler()\n",
    "    sh.setFormatter(formatter)\n",
    "    logger.addHandler(sh)\n",
    "    \n",
    "    return logger"
   ]
  },
  {
   "cell_type": "markdown",
   "id": "a97f6f9b",
   "metadata": {},
   "source": [
    "# model"
   ]
  },
  {
   "cell_type": "code",
   "execution_count": 16,
   "id": "51207953",
   "metadata": {
    "scrolled": true
   },
   "outputs": [],
   "source": [
    "import imp\n",
    "from model import Unsupmodel_zjq, MLPlayer\n",
    "##Unsupmodel_zjq:bert+mlp+ init_weight\n",
    "from transformers import AutoConfig\n",
    "#from datasets import load_metric\n",
    "import torch.autograd as autograd"
   ]
  },
  {
   "cell_type": "code",
   "execution_count": 17,
   "id": "e56f1ae1",
   "metadata": {},
   "outputs": [],
   "source": [
    "import load_metric\n",
    "from load_metric import Glue\n",
    "metric = Glue('stsb')"
   ]
  },
  {
   "cell_type": "code",
   "execution_count": 18,
   "id": "93b8ef8a",
   "metadata": {},
   "outputs": [],
   "source": [
    "import transformers"
   ]
  },
  {
   "cell_type": "code",
   "execution_count": 19,
   "id": "18331c70",
   "metadata": {},
   "outputs": [],
   "source": [
    "transformers.Trainer.create_optimizer_and_scheduler??"
   ]
  },
  {
   "cell_type": "code",
   "execution_count": 20,
   "id": "0216bbc8",
   "metadata": {},
   "outputs": [],
   "source": [
    "#transformers.optimization.get_scheduler()"
   ]
  },
  {
   "cell_type": "code",
   "execution_count": 21,
   "id": "419d560a",
   "metadata": {},
   "outputs": [],
   "source": [
    "#new metric variable stepsize\n",
    "from transformers import get_linear_schedule_with_warmup\n",
    "num_epochs = 1\n",
    "num_training_step = num_epochs * len(dataset) # 轮数*批数，总共训练的次数\n",
    "\n",
    "logger = get_logger('./log/stsb/对比对抗/log3.log')"
   ]
  },
  {
   "cell_type": "code",
   "execution_count": 22,
   "id": "fd5b3981",
   "metadata": {},
   "outputs": [
    {
     "data": {
      "text/plain": [
       "1"
      ]
     },
     "execution_count": 22,
     "metadata": {},
     "output_type": "execute_result"
    }
   ],
   "source": [
    "num_epochs * len(dataset)"
   ]
  },
  {
   "cell_type": "code",
   "execution_count": 23,
   "id": "f1240903",
   "metadata": {},
   "outputs": [],
   "source": [
    "#print(optimizer.state_dict())"
   ]
  },
  {
   "cell_type": "code",
   "execution_count": 24,
   "id": "60dcd7b5",
   "metadata": {},
   "outputs": [],
   "source": [
    "def eval(data, model, device):\n",
    "    model.eval()\n",
    "    model.to(device)\n",
    "    with torch.no_grad():\n",
    "        a_embed, _ = model(\n",
    "            input_ids=data[\"sentence1\"][\"input_ids\"].to(device),\n",
    "            attention_mask=data[\"sentence1\"][\"attention_mask\"].to(device),\n",
    "            token_type_ids=data[\"sentence1\"][\"token_type_ids\"].to(device),\n",
    "        )\n",
    "        b_embed, _ = model(\n",
    "            input_ids=data[\"sentence2\"][\"input_ids\"].to(device),\n",
    "            attention_mask=data[\"sentence2\"][\"attention_mask\"].to(device),\n",
    "            token_type_ids=data[\"sentence2\"][\"token_type_ids\"].to(device),\n",
    "        )\n",
    "        #cos = nn.CosineSimilarity(dim=-1)\n",
    "        sim_score = F.cosine_similarity(a_embed.last_hidden_state[:,0], b_embed.last_hidden_state[:,0]).cpu().numpy()\n",
    "        #print(sim_score[:20])\n",
    "        #print(data['label'][:20])\n",
    "        corr = scipy.stats.spearmanr(sim_score, data[\"label\"])[0].item()\n",
    "    return corr"
   ]
  },
  {
   "cell_type": "markdown",
   "id": "8a08f12b",
   "metadata": {},
   "source": [
    "# loss"
   ]
  },
  {
   "cell_type": "code",
   "execution_count": 25,
   "id": "fc585acd",
   "metadata": {},
   "outputs": [],
   "source": [
    "loss_fct = nn.CrossEntropyLoss()"
   ]
  },
  {
   "cell_type": "markdown",
   "id": "579436c9",
   "metadata": {},
   "source": [
    "# train"
   ]
  },
  {
   "cell_type": "code",
   "execution_count": null,
   "id": "182710ba",
   "metadata": {},
   "outputs": [],
   "source": []
  },
  {
   "cell_type": "code",
   "execution_count": null,
   "id": "a9572ece",
   "metadata": {
    "scrolled": false
   },
   "outputs": [
    {
     "name": "stderr",
     "output_type": "stream",
     "text": [
      "Some weights of the model checkpoint at bert-base-uncased were not used when initializing Unsupmodel_zjq: ['cls.predictions.bias', 'cls.predictions.transform.dense.weight', 'cls.predictions.transform.dense.bias', 'cls.predictions.decoder.weight', 'cls.seq_relationship.weight', 'cls.seq_relationship.bias', 'cls.predictions.transform.LayerNorm.weight', 'cls.predictions.transform.LayerNorm.bias']\n",
      "- This IS expected if you are initializing Unsupmodel_zjq from the checkpoint of a model trained on another task or with another architecture (e.g. initializing a BertForSequenceClassification model from a BertForPreTraining model).\n",
      "- This IS NOT expected if you are initializing Unsupmodel_zjq from the checkpoint of a model that you expect to be exactly identical (initializing a BertForSequenceClassification model from a BertForSequenceClassification model).\n",
      "Some weights of Unsupmodel_zjq were not initialized from the model checkpoint at bert-base-uncased and are newly initialized: ['mlp.dense.weight', 'mlp.dense.bias']\n",
      "You should probably TRAIN this model on a down-stream task to be able to use it for predictions and inference.\n",
      "[2021-08-18 16:44:30,849][1941939902.py][line:34][INFO] start training\n"
     ]
    },
    {
     "name": "stdout",
     "output_type": "stream",
     "text": [
      "AdamW (\n",
      "Parameter Group 0\n",
      "    betas: (0.9, 0.999)\n",
      "    correct_bias: True\n",
      "    eps: 1e-08\n",
      "    lr: 3e-05\n",
      "    weight_decay: 0.0\n",
      "\n",
      "Parameter Group 1\n",
      "    betas: (0.9, 0.999)\n",
      "    correct_bias: True\n",
      "    eps: 1e-08\n",
      "    lr: 3e-05\n",
      "    weight_decay: 0.0\n",
      ")\n",
      "Debug optimi {'state': {}, 'param_groups': [{'weight_decay': 0.0, 'lr': 3e-05, 'betas': (0.9, 0.999), 'eps': 1e-08, 'correct_bias': True, 'params': [0, 1, 2, 3, 4, 5, 6, 7, 8, 9, 10, 11, 12, 13, 14, 15, 16, 17, 18, 19, 20, 21, 22, 23, 24, 25, 26, 27, 28, 29, 30, 31, 32, 33, 34, 35, 36, 37, 38, 39, 40, 41, 42, 43, 44, 45, 46, 47, 48, 49, 50, 51, 52, 53, 54, 55, 56, 57, 58, 59, 60, 61, 62, 63, 64, 65, 66, 67, 68, 69, 70, 71, 72, 73, 74, 75, 76]}, {'weight_decay': 0.0, 'lr': 3e-05, 'betas': (0.9, 0.999), 'eps': 1e-08, 'correct_bias': True, 'params': [77, 78, 79, 80, 81, 82, 83, 84, 85, 86, 87, 88, 89, 90, 91, 92, 93, 94, 95, 96, 97, 98, 99, 100, 101, 102, 103, 104, 105, 106, 107, 108, 109, 110, 111, 112, 113, 114, 115, 116, 117, 118, 119, 120, 121, 122, 123, 124, 125, 126, 127, 128, 129, 130, 131, 132, 133, 134, 135, 136, 137, 138, 139, 140, 141, 142, 143, 144, 145, 146, 147, 148, 149, 150, 151, 152, 153, 154, 155, 156, 157, 158, 159, 160, 161, 162, 163, 164, 165, 166, 167, 168, 169, 170, 171, 172, 173, 174, 175, 176, 177, 178, 179, 180, 181, 182, 183, 184, 185, 186, 187, 188, 189, 190, 191, 192, 193, 194, 195, 196, 197, 198, 199, 200]}]}\n"
     ]
    },
    {
     "name": "stderr",
     "output_type": "stream",
     "text": [
      "  0%|          | 0/15626 [00:00<?, ?it/s][2021-08-18 16:44:31,659][1941939902.py][line:98][INFO] Epoch:[0/1]\t loss=3.71451\t\n"
     ]
    },
    {
     "name": "stdout",
     "output_type": "stream",
     "text": [
      "Debug!!!sche {'base_lrs': [3e-05, 3e-05], 'last_epoch': 1, '_step_count': 2, 'verbose': False, '_get_lr_called_within_step': False, '_last_lr': [2.999808012287214e-05, 2.999808012287214e-05], 'lr_lambdas': [None, None]}\n"
     ]
    },
    {
     "name": "stderr",
     "output_type": "stream",
     "text": [
      "[2021-08-18 16:44:46,401][1941939902.py][line:112][INFO] Epoch:[0]\t eval_score=0.3168717738367354\n",
      "  1%|          | 125/15626 [01:40<2:56:48,  1.46it/s][2021-08-18 16:46:12,513][1941939902.py][line:98][INFO] Epoch:[0/1]\t loss=0.00256\t\n"
     ]
    },
    {
     "name": "stdout",
     "output_type": "stream",
     "text": [
      "Debug!!!sche {'base_lrs': [3e-05, 3e-05], 'last_epoch': 126, '_step_count': 127, 'verbose': False, '_get_lr_called_within_step': False, '_last_lr': [2.9758095481889158e-05, 2.9758095481889158e-05], 'lr_lambdas': [None, None]}\n"
     ]
    },
    {
     "name": "stderr",
     "output_type": "stream",
     "text": [
      "[2021-08-18 16:46:27,912][1941939902.py][line:112][INFO] Epoch:[0]\t eval_score=0.6325115183534834\n",
      "  2%|▏         | 250/15626 [03:21<2:54:28,  1.47it/s] [2021-08-18 16:47:53,422][1941939902.py][line:98][INFO] Epoch:[0/1]\t loss=0.00040\t\n"
     ]
    },
    {
     "name": "stdout",
     "output_type": "stream",
     "text": [
      "Debug!!!sche {'base_lrs': [3e-05, 3e-05], 'last_epoch': 251, '_step_count': 252, 'verbose': False, '_get_lr_called_within_step': False, '_last_lr': [2.9518110840906184e-05, 2.9518110840906184e-05], 'lr_lambdas': [None, None]}\n"
     ]
    },
    {
     "name": "stderr",
     "output_type": "stream",
     "text": [
      "[2021-08-18 16:48:08,781][1941939902.py][line:112][INFO] Epoch:[0]\t eval_score=0.6726732809449893\n",
      "  2%|▏         | 375/15626 [05:02<2:53:52,  1.46it/s] [2021-08-18 16:49:34,331][1941939902.py][line:98][INFO] Epoch:[0/1]\t loss=0.00019\t\n"
     ]
    },
    {
     "name": "stdout",
     "output_type": "stream",
     "text": [
      "Debug!!!sche {'base_lrs': [3e-05, 3e-05], 'last_epoch': 376, '_step_count': 377, 'verbose': False, '_get_lr_called_within_step': False, '_last_lr': [2.9278126199923206e-05, 2.9278126199923206e-05], 'lr_lambdas': [None, None]}\n"
     ]
    },
    {
     "name": "stderr",
     "output_type": "stream",
     "text": [
      "[2021-08-18 16:49:49,455][1941939902.py][line:112][INFO] Epoch:[0]\t eval_score=0.6928062930596363\n",
      "  3%|▎         | 500/15626 [06:43<2:52:15,  1.46it/s] [2021-08-18 16:51:14,956][1941939902.py][line:98][INFO] Epoch:[0/1]\t loss=0.00019\t\n"
     ]
    },
    {
     "name": "stdout",
     "output_type": "stream",
     "text": [
      "Debug!!!sche {'base_lrs': [3e-05, 3e-05], 'last_epoch': 501, '_step_count': 502, 'verbose': False, '_get_lr_called_within_step': False, '_last_lr': [2.903814155894023e-05, 2.903814155894023e-05], 'lr_lambdas': [None, None]}\n"
     ]
    },
    {
     "name": "stderr",
     "output_type": "stream",
     "text": [
      "[2021-08-18 16:51:30,382][1941939902.py][line:112][INFO] Epoch:[0]\t eval_score=0.7123166979830496\n",
      "  4%|▍         | 625/15626 [08:24<2:50:32,  1.47it/s] [2021-08-18 16:52:56,155][1941939902.py][line:98][INFO] Epoch:[0/1]\t loss=0.00035\t\n"
     ]
    },
    {
     "name": "stdout",
     "output_type": "stream",
     "text": [
      "Debug!!!sche {'base_lrs': [3e-05, 3e-05], 'last_epoch': 626, '_step_count': 627, 'verbose': False, '_get_lr_called_within_step': False, '_last_lr': [2.879815691795725e-05, 2.879815691795725e-05], 'lr_lambdas': [None, None]}\n"
     ]
    },
    {
     "name": "stderr",
     "output_type": "stream",
     "text": [
      "[2021-08-18 16:53:11,504][1941939902.py][line:112][INFO] Epoch:[0]\t eval_score=0.7497668786320895\n",
      "  5%|▍         | 750/15626 [10:05<2:49:57,  1.46it/s] [2021-08-18 16:54:37,090][1941939902.py][line:98][INFO] Epoch:[0/1]\t loss=0.00021\t\n"
     ]
    },
    {
     "name": "stdout",
     "output_type": "stream",
     "text": [
      "Debug!!!sche {'base_lrs': [3e-05, 3e-05], 'last_epoch': 751, '_step_count': 752, 'verbose': False, '_get_lr_called_within_step': False, '_last_lr': [2.8558172276974275e-05, 2.8558172276974275e-05], 'lr_lambdas': [None, None]}\n"
     ]
    },
    {
     "name": "stderr",
     "output_type": "stream",
     "text": [
      "[2021-08-18 16:54:46,557][1941939902.py][line:112][INFO] Epoch:[0]\t eval_score=0.7430768740152461\n",
      "  6%|▌         | 875/15626 [11:40<2:47:00,  1.47it/s] [2021-08-18 16:56:11,758][1941939902.py][line:98][INFO] Epoch:[0/1]\t loss=0.00006\t\n"
     ]
    },
    {
     "name": "stdout",
     "output_type": "stream",
     "text": [
      "Debug!!!sche {'base_lrs': [3e-05, 3e-05], 'last_epoch': 876, '_step_count': 877, 'verbose': False, '_get_lr_called_within_step': False, '_last_lr': [2.8318187635991297e-05, 2.8318187635991297e-05], 'lr_lambdas': [None, None]}\n"
     ]
    },
    {
     "name": "stderr",
     "output_type": "stream",
     "text": [
      "[2021-08-18 16:56:26,954][1941939902.py][line:112][INFO] Epoch:[0]\t eval_score=0.7705639694968396\n",
      "  6%|▋         | 1000/15626 [13:20<2:46:36,  1.46it/s][2021-08-18 16:57:52,427][1941939902.py][line:98][INFO] Epoch:[0/1]\t loss=0.00014\t\n"
     ]
    },
    {
     "name": "stdout",
     "output_type": "stream",
     "text": [
      "Debug!!!sche {'base_lrs': [3e-05, 3e-05], 'last_epoch': 1001, '_step_count': 1002, 'verbose': False, '_get_lr_called_within_step': False, '_last_lr': [2.807820299500832e-05, 2.807820299500832e-05], 'lr_lambdas': [None, None]}\n"
     ]
    },
    {
     "name": "stderr",
     "output_type": "stream",
     "text": [
      "[2021-08-18 16:58:01,879][1941939902.py][line:112][INFO] Epoch:[0]\t eval_score=0.7697517838829607\n",
      "  7%|▋         | 1125/15626 [14:55<2:44:49,  1.47it/s] [2021-08-18 16:59:26,880][1941939902.py][line:98][INFO] Epoch:[0/1]\t loss=0.00146\t\n"
     ]
    },
    {
     "name": "stdout",
     "output_type": "stream",
     "text": [
      "Debug!!!sche {'base_lrs': [3e-05, 3e-05], 'last_epoch': 1126, '_step_count': 1127, 'verbose': False, '_get_lr_called_within_step': False, '_last_lr': [2.783821835402534e-05, 2.783821835402534e-05], 'lr_lambdas': [None, None]}\n"
     ]
    },
    {
     "name": "stderr",
     "output_type": "stream",
     "text": [
      "[2021-08-18 16:59:42,154][1941939902.py][line:112][INFO] Epoch:[0]\t eval_score=0.771717374207407\n",
      "  8%|▊         | 1250/15626 [16:36<2:44:54,  1.45it/s] [2021-08-18 17:01:08,409][1941939902.py][line:98][INFO] Epoch:[0/1]\t loss=0.00009\t\n"
     ]
    },
    {
     "name": "stdout",
     "output_type": "stream",
     "text": [
      "Debug!!!sche {'base_lrs': [3e-05, 3e-05], 'last_epoch': 1251, '_step_count': 1252, 'verbose': False, '_get_lr_called_within_step': False, '_last_lr': [2.7598233713042364e-05, 2.7598233713042364e-05], 'lr_lambdas': [None, None]}\n"
     ]
    },
    {
     "name": "stderr",
     "output_type": "stream",
     "text": [
      "[2021-08-18 17:01:23,767][1941939902.py][line:112][INFO] Epoch:[0]\t eval_score=0.7721038210933152\n",
      "  9%|▉         | 1375/15626 [18:17<2:42:07,  1.47it/s] [2021-08-18 17:02:49,235][1941939902.py][line:98][INFO] Epoch:[0/1]\t loss=0.00009\t\n"
     ]
    },
    {
     "name": "stdout",
     "output_type": "stream",
     "text": [
      "Debug!!!sche {'base_lrs': [3e-05, 3e-05], 'last_epoch': 1376, '_step_count': 1377, 'verbose': False, '_get_lr_called_within_step': False, '_last_lr': [2.735824907205939e-05, 2.735824907205939e-05], 'lr_lambdas': [None, None]}\n"
     ]
    },
    {
     "name": "stderr",
     "output_type": "stream",
     "text": [
      "[2021-08-18 17:02:58,681][1941939902.py][line:112][INFO] Epoch:[0]\t eval_score=0.772035872444421\n",
      " 10%|▉         | 1500/15626 [19:52<2:41:40,  1.46it/s] [2021-08-18 17:04:24,014][1941939902.py][line:98][INFO] Epoch:[0/1]\t loss=0.00009\t\n"
     ]
    },
    {
     "name": "stdout",
     "output_type": "stream",
     "text": [
      "Debug!!!sche {'base_lrs': [3e-05, 3e-05], 'last_epoch': 1501, '_step_count': 1502, 'verbose': False, '_get_lr_called_within_step': False, '_last_lr': [2.711826443107641e-05, 2.711826443107641e-05], 'lr_lambdas': [None, None]}\n"
     ]
    },
    {
     "name": "stderr",
     "output_type": "stream",
     "text": [
      "[2021-08-18 17:04:39,400][1941939902.py][line:112][INFO] Epoch:[0]\t eval_score=0.7863947989272019\n",
      " 10%|█         | 1625/15626 [21:33<2:39:16,  1.47it/s] [2021-08-18 17:06:05,080][1941939902.py][line:98][INFO] Epoch:[0/1]\t loss=0.00005\t\n"
     ]
    },
    {
     "name": "stdout",
     "output_type": "stream",
     "text": [
      "Debug!!!sche {'base_lrs': [3e-05, 3e-05], 'last_epoch': 1626, '_step_count': 1627, 'verbose': False, '_get_lr_called_within_step': False, '_last_lr': [2.6878279790093437e-05, 2.6878279790093437e-05], 'lr_lambdas': [None, None]}\n"
     ]
    },
    {
     "name": "stderr",
     "output_type": "stream",
     "text": [
      "[2021-08-18 17:06:14,550][1941939902.py][line:112][INFO] Epoch:[0]\t eval_score=0.7764496194660626\n",
      " 11%|█         | 1750/15626 [23:08<2:37:40,  1.47it/s] [2021-08-18 17:07:39,782][1941939902.py][line:98][INFO] Epoch:[0/1]\t loss=0.00012\t\n"
     ]
    },
    {
     "name": "stdout",
     "output_type": "stream",
     "text": [
      "Debug!!!sche {'base_lrs': [3e-05, 3e-05], 'last_epoch': 1751, '_step_count': 1752, 'verbose': False, '_get_lr_called_within_step': False, '_last_lr': [2.6638295149110455e-05, 2.6638295149110455e-05], 'lr_lambdas': [None, None]}\n"
     ]
    },
    {
     "name": "stderr",
     "output_type": "stream",
     "text": [
      "[2021-08-18 17:07:49,283][1941939902.py][line:112][INFO] Epoch:[0]\t eval_score=0.7823812872606376\n",
      " 12%|█▏        | 1875/15626 [24:43<2:37:04,  1.46it/s] [2021-08-18 17:09:14,980][1941939902.py][line:98][INFO] Epoch:[0/1]\t loss=0.00011\t\n"
     ]
    },
    {
     "name": "stdout",
     "output_type": "stream",
     "text": [
      "Debug!!!sche {'base_lrs': [3e-05, 3e-05], 'last_epoch': 1876, '_step_count': 1877, 'verbose': False, '_get_lr_called_within_step': False, '_last_lr': [2.639831050812748e-05, 2.639831050812748e-05], 'lr_lambdas': [None, None]}\n"
     ]
    },
    {
     "name": "stderr",
     "output_type": "stream",
     "text": [
      "[2021-08-18 17:09:24,467][1941939902.py][line:112][INFO] Epoch:[0]\t eval_score=0.7829795492393408\n",
      " 13%|█▎        | 2000/15626 [26:18<2:34:41,  1.47it/s] [2021-08-18 17:10:49,891][1941939902.py][line:98][INFO] Epoch:[0/1]\t loss=0.00005\t\n"
     ]
    },
    {
     "name": "stdout",
     "output_type": "stream",
     "text": [
      "Debug!!!sche {'base_lrs': [3e-05, 3e-05], 'last_epoch': 2001, '_step_count': 2002, 'verbose': False, '_get_lr_called_within_step': False, '_last_lr': [2.6158325867144503e-05, 2.6158325867144503e-05], 'lr_lambdas': [None, None]}\n"
     ]
    },
    {
     "name": "stderr",
     "output_type": "stream",
     "text": [
      "[2021-08-18 17:11:05,251][1941939902.py][line:112][INFO] Epoch:[0]\t eval_score=0.7893387153615319\n",
      " 14%|█▎        | 2125/15626 [27:59<2:34:04,  1.46it/s] [2021-08-18 17:12:30,582][1941939902.py][line:98][INFO] Epoch:[0/1]\t loss=0.00020\t\n"
     ]
    },
    {
     "name": "stdout",
     "output_type": "stream",
     "text": [
      "Debug!!!sche {'base_lrs': [3e-05, 3e-05], 'last_epoch': 2126, '_step_count': 2127, 'verbose': False, '_get_lr_called_within_step': False, '_last_lr': [2.5918341226161528e-05, 2.5918341226161528e-05], 'lr_lambdas': [None, None]}\n"
     ]
    },
    {
     "name": "stderr",
     "output_type": "stream",
     "text": [
      "[2021-08-18 17:12:40,082][1941939902.py][line:112][INFO] Epoch:[0]\t eval_score=0.76654888555683\n",
      " 14%|█▍        | 2250/15626 [29:34<2:32:24,  1.46it/s] [2021-08-18 17:14:05,561][1941939902.py][line:98][INFO] Epoch:[0/1]\t loss=0.00007\t\n"
     ]
    },
    {
     "name": "stdout",
     "output_type": "stream",
     "text": [
      "Debug!!!sche {'base_lrs': [3e-05, 3e-05], 'last_epoch': 2251, '_step_count': 2252, 'verbose': False, '_get_lr_called_within_step': False, '_last_lr': [2.5678356585178547e-05, 2.5678356585178547e-05], 'lr_lambdas': [None, None]}\n"
     ]
    },
    {
     "name": "stderr",
     "output_type": "stream",
     "text": [
      "[2021-08-18 17:14:15,027][1941939902.py][line:112][INFO] Epoch:[0]\t eval_score=0.7738432580349606\n",
      " 15%|█▌        | 2375/15626 [31:08<2:29:59,  1.47it/s] [2021-08-18 17:15:40,081][1941939902.py][line:98][INFO] Epoch:[0/1]\t loss=0.00004\t\n"
     ]
    },
    {
     "name": "stdout",
     "output_type": "stream",
     "text": [
      "Debug!!!sche {'base_lrs': [3e-05, 3e-05], 'last_epoch': 2376, '_step_count': 2377, 'verbose': False, '_get_lr_called_within_step': False, '_last_lr': [2.5438371944195572e-05, 2.5438371944195572e-05], 'lr_lambdas': [None, None]}\n"
     ]
    },
    {
     "name": "stderr",
     "output_type": "stream",
     "text": [
      "[2021-08-18 17:15:49,556][1941939902.py][line:112][INFO] Epoch:[0]\t eval_score=0.7565839349380363\n",
      " 16%|█▌        | 2500/15626 [32:43<2:28:38,  1.47it/s] [2021-08-18 17:17:14,588][1941939902.py][line:98][INFO] Epoch:[0/1]\t loss=0.00008\t\n"
     ]
    },
    {
     "name": "stdout",
     "output_type": "stream",
     "text": [
      "Debug!!!sche {'base_lrs': [3e-05, 3e-05], 'last_epoch': 2501, '_step_count': 2502, 'verbose': False, '_get_lr_called_within_step': False, '_last_lr': [2.5198387303212594e-05, 2.5198387303212594e-05], 'lr_lambdas': [None, None]}\n"
     ]
    },
    {
     "name": "stderr",
     "output_type": "stream",
     "text": [
      "[2021-08-18 17:17:24,037][1941939902.py][line:112][INFO] Epoch:[0]\t eval_score=0.7643200185686051\n",
      " 17%|█▋        | 2625/15626 [34:18<2:28:49,  1.46it/s] [2021-08-18 17:18:49,640][1941939902.py][line:98][INFO] Epoch:[0/1]\t loss=0.00006\t\n"
     ]
    },
    {
     "name": "stdout",
     "output_type": "stream",
     "text": [
      "Debug!!!sche {'base_lrs': [3e-05, 3e-05], 'last_epoch': 2626, '_step_count': 2627, 'verbose': False, '_get_lr_called_within_step': False, '_last_lr': [2.495840266222962e-05, 2.495840266222962e-05], 'lr_lambdas': [None, None]}\n"
     ]
    },
    {
     "name": "stderr",
     "output_type": "stream",
     "text": [
      "[2021-08-18 17:18:59,153][1941939902.py][line:112][INFO] Epoch:[0]\t eval_score=0.7604420743975243\n",
      " 18%|█▊        | 2750/15626 [35:53<2:25:59,  1.47it/s] [2021-08-18 17:20:24,837][1941939902.py][line:98][INFO] Epoch:[0/1]\t loss=0.00022\t\n"
     ]
    },
    {
     "name": "stdout",
     "output_type": "stream",
     "text": [
      "Debug!!!sche {'base_lrs': [3e-05, 3e-05], 'last_epoch': 2751, '_step_count': 2752, 'verbose': False, '_get_lr_called_within_step': False, '_last_lr': [2.4718418021246642e-05, 2.4718418021246642e-05], 'lr_lambdas': [None, None]}\n"
     ]
    },
    {
     "name": "stderr",
     "output_type": "stream",
     "text": [
      "[2021-08-18 17:20:34,274][1941939902.py][line:112][INFO] Epoch:[0]\t eval_score=0.7776127946460064\n",
      " 18%|█▊        | 2875/15626 [37:27<2:25:14,  1.46it/s] [2021-08-18 17:21:59,364][1941939902.py][line:98][INFO] Epoch:[0/1]\t loss=0.00004\t\n"
     ]
    },
    {
     "name": "stdout",
     "output_type": "stream",
     "text": [
      "Debug!!!sche {'base_lrs': [3e-05, 3e-05], 'last_epoch': 2876, '_step_count': 2877, 'verbose': False, '_get_lr_called_within_step': False, '_last_lr': [2.4478433380263664e-05, 2.4478433380263664e-05], 'lr_lambdas': [None, None]}\n"
     ]
    },
    {
     "name": "stderr",
     "output_type": "stream",
     "text": [
      "[2021-08-18 17:22:08,832][1941939902.py][line:112][INFO] Epoch:[0]\t eval_score=0.7890759804928164\n",
      " 19%|█▉        | 3000/15626 [39:02<2:22:44,  1.47it/s] [2021-08-18 17:23:34,119][1941939902.py][line:98][INFO] Epoch:[0/1]\t loss=0.00010\t\n"
     ]
    },
    {
     "name": "stdout",
     "output_type": "stream",
     "text": [
      "Debug!!!sche {'base_lrs': [3e-05, 3e-05], 'last_epoch': 3001, '_step_count': 3002, 'verbose': False, '_get_lr_called_within_step': False, '_last_lr': [2.4238448739280686e-05, 2.4238448739280686e-05], 'lr_lambdas': [None, None]}\n"
     ]
    },
    {
     "name": "stderr",
     "output_type": "stream",
     "text": [
      "[2021-08-18 17:23:49,517][1941939902.py][line:112][INFO] Epoch:[0]\t eval_score=0.7896943243359121\n",
      " 20%|█▉        | 3125/15626 [40:43<2:22:20,  1.46it/s] [2021-08-18 17:25:15,149][1941939902.py][line:98][INFO] Epoch:[0/1]\t loss=0.00006\t\n"
     ]
    },
    {
     "name": "stdout",
     "output_type": "stream",
     "text": [
      "Debug!!!sche {'base_lrs': [3e-05, 3e-05], 'last_epoch': 3126, '_step_count': 3127, 'verbose': False, '_get_lr_called_within_step': False, '_last_lr': [2.399846409829771e-05, 2.399846409829771e-05], 'lr_lambdas': [None, None]}\n"
     ]
    },
    {
     "name": "stderr",
     "output_type": "stream",
     "text": [
      "[2021-08-18 17:25:29,895][1941939902.py][line:112][INFO] Epoch:[0]\t eval_score=0.7949948386700102\n",
      " 21%|██        | 3250/15626 [42:23<2:21:07,  1.46it/s] [2021-08-18 17:26:54,939][1941939902.py][line:98][INFO] Epoch:[0/1]\t loss=0.00014\t\n"
     ]
    },
    {
     "name": "stdout",
     "output_type": "stream",
     "text": [
      "Debug!!!sche {'base_lrs': [3e-05, 3e-05], 'last_epoch': 3251, '_step_count': 3252, 'verbose': False, '_get_lr_called_within_step': False, '_last_lr': [2.3758479457314734e-05, 2.3758479457314734e-05], 'lr_lambdas': [None, None]}\n"
     ]
    },
    {
     "name": "stderr",
     "output_type": "stream",
     "text": [
      "[2021-08-18 17:27:04,461][1941939902.py][line:112][INFO] Epoch:[0]\t eval_score=0.7903228496806963\n",
      " 22%|██▏       | 3375/15626 [43:58<2:20:14,  1.46it/s] [2021-08-18 17:28:30,131][1941939902.py][line:98][INFO] Epoch:[0/1]\t loss=0.00014\t\n"
     ]
    },
    {
     "name": "stdout",
     "output_type": "stream",
     "text": [
      "Debug!!!sche {'base_lrs': [3e-05, 3e-05], 'last_epoch': 3376, '_step_count': 3377, 'verbose': False, '_get_lr_called_within_step': False, '_last_lr': [2.3518494816331756e-05, 2.3518494816331756e-05], 'lr_lambdas': [None, None]}\n"
     ]
    },
    {
     "name": "stderr",
     "output_type": "stream",
     "text": [
      "[2021-08-18 17:28:44,918][1941939902.py][line:112][INFO] Epoch:[0]\t eval_score=0.8091027505412622\n",
      " 22%|██▏       | 3500/15626 [45:38<2:17:08,  1.47it/s] [2021-08-18 17:30:09,960][1941939902.py][line:98][INFO] Epoch:[0/1]\t loss=0.00008\t\n"
     ]
    },
    {
     "name": "stdout",
     "output_type": "stream",
     "text": [
      "Debug!!!sche {'base_lrs': [3e-05, 3e-05], 'last_epoch': 3501, '_step_count': 3502, 'verbose': False, '_get_lr_called_within_step': False, '_last_lr': [2.3278510175348778e-05, 2.3278510175348778e-05], 'lr_lambdas': [None, None]}\n"
     ]
    },
    {
     "name": "stderr",
     "output_type": "stream",
     "text": [
      "[2021-08-18 17:30:24,522][1941939902.py][line:112][INFO] Epoch:[0]\t eval_score=0.8125663045329212\n",
      " 23%|██▎       | 3625/15626 [47:18<2:16:48,  1.46it/s] [2021-08-18 17:31:49,954][1941939902.py][line:98][INFO] Epoch:[0/1]\t loss=0.00003\t\n"
     ]
    },
    {
     "name": "stdout",
     "output_type": "stream",
     "text": [
      "Debug!!!sche {'base_lrs': [3e-05, 3e-05], 'last_epoch': 3626, '_step_count': 3627, 'verbose': False, '_get_lr_called_within_step': False, '_last_lr': [2.30385255343658e-05, 2.30385255343658e-05], 'lr_lambdas': [None, None]}\n"
     ]
    },
    {
     "name": "stderr",
     "output_type": "stream",
     "text": [
      "[2021-08-18 17:31:59,459][1941939902.py][line:112][INFO] Epoch:[0]\t eval_score=0.8111623071227265\n",
      " 24%|██▍       | 3750/15626 [48:53<2:15:15,  1.46it/s] [2021-08-18 17:33:24,958][1941939902.py][line:98][INFO] Epoch:[0/1]\t loss=0.00003\t\n"
     ]
    },
    {
     "name": "stdout",
     "output_type": "stream",
     "text": [
      "Debug!!!sche {'base_lrs': [3e-05, 3e-05], 'last_epoch': 3751, '_step_count': 3752, 'verbose': False, '_get_lr_called_within_step': False, '_last_lr': [2.2798540893382825e-05, 2.2798540893382825e-05], 'lr_lambdas': [None, None]}\n"
     ]
    },
    {
     "name": "stderr",
     "output_type": "stream",
     "text": [
      "[2021-08-18 17:33:40,325][1941939902.py][line:112][INFO] Epoch:[0]\t eval_score=0.8126461337695068\n",
      " 25%|██▍       | 3875/15626 [50:33<2:12:30,  1.48it/s] [2021-08-18 17:35:05,213][1941939902.py][line:98][INFO] Epoch:[0/1]\t loss=0.00003\t\n"
     ]
    },
    {
     "name": "stdout",
     "output_type": "stream",
     "text": [
      "Debug!!!sche {'base_lrs': [3e-05, 3e-05], 'last_epoch': 3876, '_step_count': 3877, 'verbose': False, '_get_lr_called_within_step': False, '_last_lr': [2.2558556252399844e-05, 2.2558556252399844e-05], 'lr_lambdas': [None, None]}\n"
     ]
    },
    {
     "name": "stderr",
     "output_type": "stream",
     "text": [
      "[2021-08-18 17:35:19,893][1941939902.py][line:112][INFO] Epoch:[0]\t eval_score=0.8193419693512285\n",
      " 26%|██▌       | 4000/15626 [52:13<2:10:56,  1.48it/s] [2021-08-18 17:36:44,920][1941939902.py][line:98][INFO] Epoch:[0/1]\t loss=0.00006\t\n"
     ]
    },
    {
     "name": "stdout",
     "output_type": "stream",
     "text": [
      "Debug!!!sche {'base_lrs': [3e-05, 3e-05], 'last_epoch': 4001, '_step_count': 4002, 'verbose': False, '_get_lr_called_within_step': False, '_last_lr': [2.231857161141687e-05, 2.231857161141687e-05], 'lr_lambdas': [None, None]}\n"
     ]
    },
    {
     "name": "stderr",
     "output_type": "stream",
     "text": [
      "[2021-08-18 17:36:54,231][1941939902.py][line:112][INFO] Epoch:[0]\t eval_score=0.8044782658585419\n",
      " 26%|██▋       | 4125/15626 [53:46<2:09:06,  1.48it/s] [2021-08-18 17:38:18,445][1941939902.py][line:98][INFO] Epoch:[0/1]\t loss=0.00005\t\n"
     ]
    },
    {
     "name": "stdout",
     "output_type": "stream",
     "text": [
      "Debug!!!sche {'base_lrs': [3e-05, 3e-05], 'last_epoch': 4126, '_step_count': 4127, 'verbose': False, '_get_lr_called_within_step': False, '_last_lr': [2.207858697043389e-05, 2.207858697043389e-05], 'lr_lambdas': [None, None]}\n"
     ]
    },
    {
     "name": "stderr",
     "output_type": "stream",
     "text": [
      "[2021-08-18 17:38:27,708][1941939902.py][line:112][INFO] Epoch:[0]\t eval_score=0.7939057060618044\n",
      " 27%|██▋       | 4250/15626 [55:20<2:07:32,  1.49it/s] [2021-08-18 17:39:51,800][1941939902.py][line:98][INFO] Epoch:[0/1]\t loss=0.00005\t\n"
     ]
    },
    {
     "name": "stdout",
     "output_type": "stream",
     "text": [
      "Debug!!!sche {'base_lrs': [3e-05, 3e-05], 'last_epoch': 4251, '_step_count': 4252, 'verbose': False, '_get_lr_called_within_step': False, '_last_lr': [2.1838602329450917e-05, 2.1838602329450917e-05], 'lr_lambdas': [None, None]}\n"
     ]
    },
    {
     "name": "stderr",
     "output_type": "stream",
     "text": [
      "[2021-08-18 17:40:01,057][1941939902.py][line:112][INFO] Epoch:[0]\t eval_score=0.8075624770644636\n",
      " 28%|██▊       | 4375/15626 [56:53<2:06:42,  1.48it/s] [2021-08-18 17:41:25,497][1941939902.py][line:98][INFO] Epoch:[0/1]\t loss=0.00004\t\n"
     ]
    },
    {
     "name": "stdout",
     "output_type": "stream",
     "text": [
      "Debug!!!sche {'base_lrs': [3e-05, 3e-05], 'last_epoch': 4376, '_step_count': 4377, 'verbose': False, '_get_lr_called_within_step': False, '_last_lr': [2.159861768846794e-05, 2.159861768846794e-05], 'lr_lambdas': [None, None]}\n"
     ]
    },
    {
     "name": "stderr",
     "output_type": "stream",
     "text": [
      "[2021-08-18 17:41:34,794][1941939902.py][line:112][INFO] Epoch:[0]\t eval_score=0.807459350830622\n",
      " 29%|██▉       | 4500/15626 [58:27<2:04:38,  1.49it/s] [2021-08-18 17:42:59,210][1941939902.py][line:98][INFO] Epoch:[0/1]\t loss=0.00028\t\n"
     ]
    },
    {
     "name": "stdout",
     "output_type": "stream",
     "text": [
      "Debug!!!sche {'base_lrs': [3e-05, 3e-05], 'last_epoch': 4501, '_step_count': 4502, 'verbose': False, '_get_lr_called_within_step': False, '_last_lr': [2.135863304748496e-05, 2.135863304748496e-05], 'lr_lambdas': [None, None]}\n"
     ]
    },
    {
     "name": "stderr",
     "output_type": "stream",
     "text": [
      "[2021-08-18 17:43:08,488][1941939902.py][line:112][INFO] Epoch:[0]\t eval_score=0.7542095389520551\n",
      " 30%|██▉       | 4625/15626 [1:00:01<2:03:02,  1.49it/s][2021-08-18 17:44:32,601][1941939902.py][line:98][INFO] Epoch:[0/1]\t loss=0.00004\t\n"
     ]
    },
    {
     "name": "stdout",
     "output_type": "stream",
     "text": [
      "Debug!!!sche {'base_lrs': [3e-05, 3e-05], 'last_epoch': 4626, '_step_count': 4627, 'verbose': False, '_get_lr_called_within_step': False, '_last_lr': [2.1118648406501983e-05, 2.1118648406501983e-05], 'lr_lambdas': [None, None]}\n"
     ]
    },
    {
     "name": "stderr",
     "output_type": "stream",
     "text": [
      "[2021-08-18 17:44:41,846][1941939902.py][line:112][INFO] Epoch:[0]\t eval_score=0.7808705549013389\n",
      " 30%|███       | 4750/15626 [1:01:34<2:02:10,  1.48it/s] [2021-08-18 17:46:06,368][1941939902.py][line:98][INFO] Epoch:[0/1]\t loss=0.00014\t\n"
     ]
    },
    {
     "name": "stdout",
     "output_type": "stream",
     "text": [
      "Debug!!!sche {'base_lrs': [3e-05, 3e-05], 'last_epoch': 4751, '_step_count': 4752, 'verbose': False, '_get_lr_called_within_step': False, '_last_lr': [2.087866376551901e-05, 2.087866376551901e-05], 'lr_lambdas': [None, None]}\n"
     ]
    },
    {
     "name": "stderr",
     "output_type": "stream",
     "text": [
      "[2021-08-18 17:46:15,703][1941939902.py][line:112][INFO] Epoch:[0]\t eval_score=0.777505474287246\n",
      " 31%|███       | 4875/15626 [1:03:08<2:00:50,  1.48it/s] [2021-08-18 17:47:40,182][1941939902.py][line:98][INFO] Epoch:[0/1]\t loss=0.00009\t\n"
     ]
    },
    {
     "name": "stdout",
     "output_type": "stream",
     "text": [
      "Debug!!!sche {'base_lrs': [3e-05, 3e-05], 'last_epoch': 4876, '_step_count': 4877, 'verbose': False, '_get_lr_called_within_step': False, '_last_lr': [2.063867912453603e-05, 2.063867912453603e-05], 'lr_lambdas': [None, None]}\n"
     ]
    },
    {
     "name": "stderr",
     "output_type": "stream",
     "text": [
      "[2021-08-18 17:47:49,481][1941939902.py][line:112][INFO] Epoch:[0]\t eval_score=0.7491394689464383\n",
      " 32%|███▏      | 5000/15626 [1:04:42<1:58:41,  1.49it/s] [2021-08-18 17:49:13,643][1941939902.py][line:98][INFO] Epoch:[0/1]\t loss=0.00004\t\n"
     ]
    },
    {
     "name": "stdout",
     "output_type": "stream",
     "text": [
      "Debug!!!sche {'base_lrs': [3e-05, 3e-05], 'last_epoch': 5001, '_step_count': 5002, 'verbose': False, '_get_lr_called_within_step': False, '_last_lr': [2.0398694483553053e-05, 2.0398694483553053e-05], 'lr_lambdas': [None, None]}\n"
     ]
    },
    {
     "name": "stderr",
     "output_type": "stream",
     "text": [
      "[2021-08-18 17:49:22,895][1941939902.py][line:112][INFO] Epoch:[0]\t eval_score=0.7641351579102975\n",
      " 33%|███▎      | 5125/15626 [1:06:15<1:57:55,  1.48it/s] [2021-08-18 17:50:46,973][1941939902.py][line:98][INFO] Epoch:[0/1]\t loss=0.00004\t\n"
     ]
    },
    {
     "name": "stdout",
     "output_type": "stream",
     "text": [
      "Debug!!!sche {'base_lrs': [3e-05, 3e-05], 'last_epoch': 5126, '_step_count': 5127, 'verbose': False, '_get_lr_called_within_step': False, '_last_lr': [2.0158709842570075e-05, 2.0158709842570075e-05], 'lr_lambdas': [None, None]}\n"
     ]
    },
    {
     "name": "stderr",
     "output_type": "stream",
     "text": [
      "[2021-08-18 17:50:56,220][1941939902.py][line:112][INFO] Epoch:[0]\t eval_score=0.7737239325316563\n",
      " 34%|███▎      | 5250/15626 [1:07:49<1:56:20,  1.49it/s] [2021-08-18 17:52:20,796][1941939902.py][line:98][INFO] Epoch:[0/1]\t loss=0.00003\t\n"
     ]
    },
    {
     "name": "stdout",
     "output_type": "stream",
     "text": [
      "Debug!!!sche {'base_lrs': [3e-05, 3e-05], 'last_epoch': 5251, '_step_count': 5252, 'verbose': False, '_get_lr_called_within_step': False, '_last_lr': [1.99187252015871e-05, 1.99187252015871e-05], 'lr_lambdas': [None, None]}\n"
     ]
    },
    {
     "name": "stderr",
     "output_type": "stream",
     "text": [
      "[2021-08-18 17:52:30,093][1941939902.py][line:112][INFO] Epoch:[0]\t eval_score=0.7937817969076103\n",
      " 34%|███▍      | 5375/15626 [1:09:22<1:57:14,  1.46it/s][2021-08-18 17:53:54,430][1941939902.py][line:98][INFO] Epoch:[0/1]\t loss=0.00006\t\n"
     ]
    },
    {
     "name": "stdout",
     "output_type": "stream",
     "text": [
      "Debug!!!sche {'base_lrs': [3e-05, 3e-05], 'last_epoch': 5376, '_step_count': 5377, 'verbose': False, '_get_lr_called_within_step': False, '_last_lr': [1.9678740560604122e-05, 1.9678740560604122e-05], 'lr_lambdas': [None, None]}\n"
     ]
    },
    {
     "name": "stderr",
     "output_type": "stream",
     "text": [
      "[2021-08-18 17:54:03,721][1941939902.py][line:112][INFO] Epoch:[0]\t eval_score=0.804229940064173\n",
      " 35%|███▌      | 5500/15626 [1:10:56<1:53:33,  1.49it/s][2021-08-18 17:55:27,776][1941939902.py][line:98][INFO] Epoch:[0/1]\t loss=0.00005\t\n"
     ]
    },
    {
     "name": "stdout",
     "output_type": "stream",
     "text": [
      "Debug!!!sche {'base_lrs': [3e-05, 3e-05], 'last_epoch': 5501, '_step_count': 5502, 'verbose': False, '_get_lr_called_within_step': False, '_last_lr': [1.9438755919621145e-05, 1.9438755919621145e-05], 'lr_lambdas': [None, None]}\n"
     ]
    },
    {
     "name": "stderr",
     "output_type": "stream",
     "text": [
      "[2021-08-18 17:55:37,049][1941939902.py][line:112][INFO] Epoch:[0]\t eval_score=0.8030401075673319\n",
      " 36%|███▌      | 5625/15626 [1:12:29<1:52:39,  1.48it/s][2021-08-18 17:57:01,508][1941939902.py][line:98][INFO] Epoch:[0/1]\t loss=0.00004\t\n"
     ]
    },
    {
     "name": "stdout",
     "output_type": "stream",
     "text": [
      "Debug!!!sche {'base_lrs': [3e-05, 3e-05], 'last_epoch': 5626, '_step_count': 5627, 'verbose': False, '_get_lr_called_within_step': False, '_last_lr': [1.9198771278638167e-05, 1.9198771278638167e-05], 'lr_lambdas': [None, None]}\n"
     ]
    },
    {
     "name": "stderr",
     "output_type": "stream",
     "text": [
      "[2021-08-18 17:57:10,845][1941939902.py][line:112][INFO] Epoch:[0]\t eval_score=0.8108711982119983\n",
      " 37%|███▋      | 5750/15626 [1:14:03<1:51:11,  1.48it/s][2021-08-18 17:58:35,259][1941939902.py][line:98][INFO] Epoch:[0/1]\t loss=0.00003\t\n"
     ]
    },
    {
     "name": "stdout",
     "output_type": "stream",
     "text": [
      "Debug!!!sche {'base_lrs': [3e-05, 3e-05], 'last_epoch': 5751, '_step_count': 5752, 'verbose': False, '_get_lr_called_within_step': False, '_last_lr': [1.8958786637655192e-05, 1.8958786637655192e-05], 'lr_lambdas': [None, None]}\n"
     ]
    },
    {
     "name": "stderr",
     "output_type": "stream",
     "text": [
      "[2021-08-18 17:58:44,543][1941939902.py][line:112][INFO] Epoch:[0]\t eval_score=0.8112862484893985\n",
      " 38%|███▊      | 5875/15626 [1:15:37<1:49:11,  1.49it/s][2021-08-18 18:00:08,746][1941939902.py][line:98][INFO] Epoch:[0/1]\t loss=0.00009\t\n"
     ]
    },
    {
     "name": "stdout",
     "output_type": "stream",
     "text": [
      "Debug!!!sche {'base_lrs': [3e-05, 3e-05], 'last_epoch': 5876, '_step_count': 5877, 'verbose': False, '_get_lr_called_within_step': False, '_last_lr': [1.8718801996672214e-05, 1.8718801996672214e-05], 'lr_lambdas': [None, None]}\n"
     ]
    },
    {
     "name": "stderr",
     "output_type": "stream",
     "text": [
      "[2021-08-18 18:00:18,000][1941939902.py][line:112][INFO] Epoch:[0]\t eval_score=0.8176206283056615\n",
      " 38%|███▊      | 6000/15626 [1:17:10<1:48:17,  1.48it/s][2021-08-18 18:01:41,952][1941939902.py][line:98][INFO] Epoch:[0/1]\t loss=0.00004\t\n"
     ]
    },
    {
     "name": "stdout",
     "output_type": "stream",
     "text": [
      "Debug!!!sche {'base_lrs': [3e-05, 3e-05], 'last_epoch': 6001, '_step_count': 6002, 'verbose': False, '_get_lr_called_within_step': False, '_last_lr': [1.8478817355689236e-05, 1.8478817355689236e-05], 'lr_lambdas': [None, None]}\n"
     ]
    },
    {
     "name": "stderr",
     "output_type": "stream",
     "text": [
      "[2021-08-18 18:01:51,232][1941939902.py][line:112][INFO] Epoch:[0]\t eval_score=0.8080749758106314\n",
      " 39%|███▉      | 6125/15626 [1:18:43<1:47:08,  1.48it/s][2021-08-18 18:03:15,445][1941939902.py][line:98][INFO] Epoch:[0/1]\t loss=0.00004\t\n"
     ]
    },
    {
     "name": "stdout",
     "output_type": "stream",
     "text": [
      "Debug!!!sche {'base_lrs': [3e-05, 3e-05], 'last_epoch': 6126, '_step_count': 6127, 'verbose': False, '_get_lr_called_within_step': False, '_last_lr': [1.8238832714706258e-05, 1.8238832714706258e-05], 'lr_lambdas': [None, None]}\n"
     ]
    },
    {
     "name": "stderr",
     "output_type": "stream",
     "text": [
      "[2021-08-18 18:03:24,758][1941939902.py][line:112][INFO] Epoch:[0]\t eval_score=0.8095931085309089\n",
      " 40%|███▉      | 6250/15626 [1:20:17<1:45:14,  1.48it/s][2021-08-18 18:04:49,257][1941939902.py][line:98][INFO] Epoch:[0/1]\t loss=0.00003\t\n"
     ]
    },
    {
     "name": "stdout",
     "output_type": "stream",
     "text": [
      "Debug!!!sche {'base_lrs': [3e-05, 3e-05], 'last_epoch': 6251, '_step_count': 6252, 'verbose': False, '_get_lr_called_within_step': False, '_last_lr': [1.799884807372328e-05, 1.799884807372328e-05], 'lr_lambdas': [None, None]}\n"
     ]
    },
    {
     "name": "stderr",
     "output_type": "stream",
     "text": [
      "[2021-08-18 18:04:58,578][1941939902.py][line:112][INFO] Epoch:[0]\t eval_score=0.8075128473088217\n",
      " 41%|████      | 6375/15626 [1:21:51<1:43:54,  1.48it/s][2021-08-18 18:06:22,985][1941939902.py][line:98][INFO] Epoch:[0/1]\t loss=0.00004\t\n"
     ]
    },
    {
     "name": "stdout",
     "output_type": "stream",
     "text": [
      "Debug!!!sche {'base_lrs': [3e-05, 3e-05], 'last_epoch': 6376, '_step_count': 6377, 'verbose': False, '_get_lr_called_within_step': False, '_last_lr': [1.7758863432740306e-05, 1.7758863432740306e-05], 'lr_lambdas': [None, None]}\n"
     ]
    },
    {
     "name": "stderr",
     "output_type": "stream",
     "text": [
      "[2021-08-18 18:06:32,257][1941939902.py][line:112][INFO] Epoch:[0]\t eval_score=0.8066707025995348\n",
      " 42%|████▏     | 6500/15626 [1:23:24<1:42:35,  1.48it/s][2021-08-18 18:07:56,325][1941939902.py][line:98][INFO] Epoch:[0/1]\t loss=0.00002\t\n"
     ]
    },
    {
     "name": "stdout",
     "output_type": "stream",
     "text": [
      "Debug!!!sche {'base_lrs': [3e-05, 3e-05], 'last_epoch': 6501, '_step_count': 6502, 'verbose': False, '_get_lr_called_within_step': False, '_last_lr': [1.7518878791757328e-05, 1.7518878791757328e-05], 'lr_lambdas': [None, None]}\n"
     ]
    },
    {
     "name": "stderr",
     "output_type": "stream",
     "text": [
      "[2021-08-18 18:08:05,588][1941939902.py][line:112][INFO] Epoch:[0]\t eval_score=0.806490492510757\n",
      " 42%|████▏     | 6625/15626 [1:24:58<1:40:54,  1.49it/s][2021-08-18 18:09:29,730][1941939902.py][line:98][INFO] Epoch:[0/1]\t loss=0.00009\t\n"
     ]
    },
    {
     "name": "stdout",
     "output_type": "stream",
     "text": [
      "Debug!!!sche {'base_lrs': [3e-05, 3e-05], 'last_epoch': 6626, '_step_count': 6627, 'verbose': False, '_get_lr_called_within_step': False, '_last_lr': [1.727889415077435e-05, 1.727889415077435e-05], 'lr_lambdas': [None, None]}\n"
     ]
    },
    {
     "name": "stderr",
     "output_type": "stream",
     "text": [
      "[2021-08-18 18:09:39,018][1941939902.py][line:112][INFO] Epoch:[0]\t eval_score=0.8088815884669277\n",
      " 43%|████▎     | 6750/15626 [1:26:31<1:40:02,  1.48it/s][2021-08-18 18:11:03,494][1941939902.py][line:98][INFO] Epoch:[0/1]\t loss=0.00004\t\n"
     ]
    },
    {
     "name": "stdout",
     "output_type": "stream",
     "text": [
      "Debug!!!sche {'base_lrs': [3e-05, 3e-05], 'last_epoch': 6751, '_step_count': 6752, 'verbose': False, '_get_lr_called_within_step': False, '_last_lr': [1.7038909509791372e-05, 1.7038909509791372e-05], 'lr_lambdas': [None, None]}\n"
     ]
    },
    {
     "name": "stderr",
     "output_type": "stream",
     "text": [
      "[2021-08-18 18:11:12,830][1941939902.py][line:112][INFO] Epoch:[0]\t eval_score=0.7990999464851954\n",
      " 44%|████▍     | 6875/15626 [1:28:05<1:38:28,  1.48it/s][2021-08-18 18:12:37,436][1941939902.py][line:98][INFO] Epoch:[0/1]\t loss=0.00005\t\n"
     ]
    },
    {
     "name": "stdout",
     "output_type": "stream",
     "text": [
      "Debug!!!sche {'base_lrs': [3e-05, 3e-05], 'last_epoch': 6876, '_step_count': 6877, 'verbose': False, '_get_lr_called_within_step': False, '_last_lr': [1.6798924868808397e-05, 1.6798924868808397e-05], 'lr_lambdas': [None, None]}\n"
     ]
    },
    {
     "name": "stderr",
     "output_type": "stream",
     "text": [
      "[2021-08-18 18:12:46,768][1941939902.py][line:112][INFO] Epoch:[0]\t eval_score=0.8017937793050924\n",
      " 45%|████▍     | 7000/15626 [1:29:39<1:36:39,  1.49it/s][2021-08-18 18:14:10,921][1941939902.py][line:98][INFO] Epoch:[0/1]\t loss=0.00002\t\n"
     ]
    },
    {
     "name": "stdout",
     "output_type": "stream",
     "text": [
      "Debug!!!sche {'base_lrs': [3e-05, 3e-05], 'last_epoch': 7001, '_step_count': 7002, 'verbose': False, '_get_lr_called_within_step': False, '_last_lr': [1.655894022782542e-05, 1.655894022782542e-05], 'lr_lambdas': [None, None]}\n"
     ]
    },
    {
     "name": "stderr",
     "output_type": "stream",
     "text": [
      "[2021-08-18 18:14:20,191][1941939902.py][line:112][INFO] Epoch:[0]\t eval_score=0.8034177072965148\n",
      " 46%|████▌     | 7125/15626 [1:31:12<1:35:11,  1.49it/s][2021-08-18 18:15:44,183][1941939902.py][line:98][INFO] Epoch:[0/1]\t loss=0.00005\t\n"
     ]
    },
    {
     "name": "stdout",
     "output_type": "stream",
     "text": [
      "Debug!!!sche {'base_lrs': [3e-05, 3e-05], 'last_epoch': 7126, '_step_count': 7127, 'verbose': False, '_get_lr_called_within_step': False, '_last_lr': [1.6318955586842445e-05, 1.6318955586842445e-05], 'lr_lambdas': [None, None]}\n"
     ]
    },
    {
     "name": "stderr",
     "output_type": "stream",
     "text": [
      "[2021-08-18 18:15:53,462][1941939902.py][line:112][INFO] Epoch:[0]\t eval_score=0.803897437340479\n",
      " 46%|████▋     | 7250/15626 [1:32:46<1:34:40,  1.47it/s][2021-08-18 18:17:17,906][1941939902.py][line:98][INFO] Epoch:[0/1]\t loss=0.00003\t\n"
     ]
    },
    {
     "name": "stdout",
     "output_type": "stream",
     "text": [
      "Debug!!!sche {'base_lrs': [3e-05, 3e-05], 'last_epoch': 7251, '_step_count': 7252, 'verbose': False, '_get_lr_called_within_step': False, '_last_lr': [1.6078970945859464e-05, 1.6078970945859464e-05], 'lr_lambdas': [None, None]}\n"
     ]
    },
    {
     "name": "stderr",
     "output_type": "stream",
     "text": [
      "[2021-08-18 18:17:27,217][1941939902.py][line:112][INFO] Epoch:[0]\t eval_score=0.8050405413321942\n",
      " 47%|████▋     | 7375/15626 [1:34:20<1:32:29,  1.49it/s][2021-08-18 18:18:51,670][1941939902.py][line:98][INFO] Epoch:[0/1]\t loss=0.00004\t\n"
     ]
    },
    {
     "name": "stdout",
     "output_type": "stream",
     "text": [
      "Debug!!!sche {'base_lrs': [3e-05, 3e-05], 'last_epoch': 7376, '_step_count': 7377, 'verbose': False, '_get_lr_called_within_step': False, '_last_lr': [1.583898630487649e-05, 1.583898630487649e-05], 'lr_lambdas': [None, None]}\n"
     ]
    },
    {
     "name": "stderr",
     "output_type": "stream",
     "text": [
      "[2021-08-18 18:19:00,952][1941939902.py][line:112][INFO] Epoch:[0]\t eval_score=0.8094099429240774\n",
      " 48%|████▊     | 7500/15626 [1:35:53<1:31:26,  1.48it/s][2021-08-18 18:20:25,191][1941939902.py][line:98][INFO] Epoch:[0/1]\t loss=0.00008\t\n"
     ]
    },
    {
     "name": "stdout",
     "output_type": "stream",
     "text": [
      "Debug!!!sche {'base_lrs': [3e-05, 3e-05], 'last_epoch': 7501, '_step_count': 7502, 'verbose': False, '_get_lr_called_within_step': False, '_last_lr': [1.559900166389351e-05, 1.559900166389351e-05], 'lr_lambdas': [None, None]}\n"
     ]
    },
    {
     "name": "stderr",
     "output_type": "stream",
     "text": [
      "[2021-08-18 18:20:34,446][1941939902.py][line:112][INFO] Epoch:[0]\t eval_score=0.7915531548002056\n",
      " 49%|████▉     | 7625/15626 [1:37:27<1:30:16,  1.48it/s][2021-08-18 18:21:58,791][1941939902.py][line:98][INFO] Epoch:[0/1]\t loss=0.00003\t\n"
     ]
    },
    {
     "name": "stdout",
     "output_type": "stream",
     "text": [
      "Debug!!!sche {'base_lrs': [3e-05, 3e-05], 'last_epoch': 7626, '_step_count': 7627, 'verbose': False, '_get_lr_called_within_step': False, '_last_lr': [1.5359017022910537e-05, 1.5359017022910537e-05], 'lr_lambdas': [None, None]}\n"
     ]
    },
    {
     "name": "stderr",
     "output_type": "stream",
     "text": [
      "[2021-08-18 18:22:08,115][1941939902.py][line:112][INFO] Epoch:[0]\t eval_score=0.7942485819272525\n",
      " 50%|████▉     | 7750/15626 [1:39:01<1:28:50,  1.48it/s][2021-08-18 18:23:32,609][1941939902.py][line:98][INFO] Epoch:[0/1]\t loss=0.00003\t\n"
     ]
    },
    {
     "name": "stdout",
     "output_type": "stream",
     "text": [
      "Debug!!!sche {'base_lrs': [3e-05, 3e-05], 'last_epoch': 7751, '_step_count': 7752, 'verbose': False, '_get_lr_called_within_step': False, '_last_lr': [1.5119032381927557e-05, 1.5119032381927557e-05], 'lr_lambdas': [None, None]}\n"
     ]
    },
    {
     "name": "stderr",
     "output_type": "stream",
     "text": [
      "[2021-08-18 18:23:41,943][1941939902.py][line:112][INFO] Epoch:[0]\t eval_score=0.7868576088551329\n",
      " 50%|█████     | 7875/15626 [1:40:34<1:26:52,  1.49it/s][2021-08-18 18:25:06,362][1941939902.py][line:98][INFO] Epoch:[0/1]\t loss=0.00003\t\n"
     ]
    },
    {
     "name": "stdout",
     "output_type": "stream",
     "text": [
      "Debug!!!sche {'base_lrs': [3e-05, 3e-05], 'last_epoch': 7876, '_step_count': 7877, 'verbose': False, '_get_lr_called_within_step': False, '_last_lr': [1.4879047740944579e-05, 1.4879047740944579e-05], 'lr_lambdas': [None, None]}\n"
     ]
    },
    {
     "name": "stderr",
     "output_type": "stream",
     "text": [
      "[2021-08-18 18:25:15,629][1941939902.py][line:112][INFO] Epoch:[0]\t eval_score=0.7980787660651654\n",
      " 51%|█████     | 8000/15626 [1:42:08<1:25:29,  1.49it/s][2021-08-18 18:26:39,645][1941939902.py][line:98][INFO] Epoch:[0/1]\t loss=0.00005\t\n"
     ]
    },
    {
     "name": "stdout",
     "output_type": "stream",
     "text": [
      "Debug!!!sche {'base_lrs': [3e-05, 3e-05], 'last_epoch': 8001, '_step_count': 8002, 'verbose': False, '_get_lr_called_within_step': False, '_last_lr': [1.4639063099961603e-05, 1.4639063099961603e-05], 'lr_lambdas': [None, None]}\n"
     ]
    },
    {
     "name": "stderr",
     "output_type": "stream",
     "text": [
      "[2021-08-18 18:26:48,922][1941939902.py][line:112][INFO] Epoch:[0]\t eval_score=0.8070268861193621\n",
      " 52%|█████▏    | 8125/15626 [1:43:41<1:24:22,  1.48it/s][2021-08-18 18:28:13,311][1941939902.py][line:98][INFO] Epoch:[0/1]\t loss=0.00002\t\n"
     ]
    },
    {
     "name": "stdout",
     "output_type": "stream",
     "text": [
      "Debug!!!sche {'base_lrs': [3e-05, 3e-05], 'last_epoch': 8126, '_step_count': 8127, 'verbose': False, '_get_lr_called_within_step': False, '_last_lr': [1.4399078458978625e-05, 1.4399078458978625e-05], 'lr_lambdas': [None, None]}\n"
     ]
    },
    {
     "name": "stderr",
     "output_type": "stream",
     "text": [
      "[2021-08-18 18:28:22,654][1941939902.py][line:112][INFO] Epoch:[0]\t eval_score=0.8073154717277707\n",
      " 53%|█████▎    | 8250/15626 [1:45:15<1:22:53,  1.48it/s][2021-08-18 18:29:47,083][1941939902.py][line:98][INFO] Epoch:[0/1]\t loss=0.00004\t\n"
     ]
    },
    {
     "name": "stdout",
     "output_type": "stream",
     "text": [
      "Debug!!!sche {'base_lrs': [3e-05, 3e-05], 'last_epoch': 8251, '_step_count': 8252, 'verbose': False, '_get_lr_called_within_step': False, '_last_lr': [1.4159093817995649e-05, 1.4159093817995649e-05], 'lr_lambdas': [None, None]}\n"
     ]
    },
    {
     "name": "stderr",
     "output_type": "stream",
     "text": [
      "[2021-08-18 18:29:56,363][1941939902.py][line:112][INFO] Epoch:[0]\t eval_score=0.8065656171177614\n",
      " 54%|█████▎    | 8375/15626 [1:46:48<1:21:18,  1.49it/s][2021-08-18 18:31:20,466][1941939902.py][line:98][INFO] Epoch:[0/1]\t loss=0.00003\t\n"
     ]
    },
    {
     "name": "stdout",
     "output_type": "stream",
     "text": [
      "Debug!!!sche {'base_lrs': [3e-05, 3e-05], 'last_epoch': 8376, '_step_count': 8377, 'verbose': False, '_get_lr_called_within_step': False, '_last_lr': [1.391910917701267e-05, 1.391910917701267e-05], 'lr_lambdas': [None, None]}\n"
     ]
    },
    {
     "name": "stderr",
     "output_type": "stream",
     "text": [
      "[2021-08-18 18:31:29,764][1941939902.py][line:112][INFO] Epoch:[0]\t eval_score=0.8028472284306654\n",
      " 54%|█████▍    | 8500/15626 [1:48:22<1:20:22,  1.48it/s][2021-08-18 18:32:54,153][1941939902.py][line:98][INFO] Epoch:[0/1]\t loss=0.00047\t\n"
     ]
    },
    {
     "name": "stdout",
     "output_type": "stream",
     "text": [
      "Debug!!!sche {'base_lrs': [3e-05, 3e-05], 'last_epoch': 8501, '_step_count': 8502, 'verbose': False, '_get_lr_called_within_step': False, '_last_lr': [1.3679124536029695e-05, 1.3679124536029695e-05], 'lr_lambdas': [None, None]}\n"
     ]
    },
    {
     "name": "stderr",
     "output_type": "stream",
     "text": [
      "[2021-08-18 18:33:03,497][1941939902.py][line:112][INFO] Epoch:[0]\t eval_score=0.8033363515440152\n",
      " 55%|█████▌    | 8625/15626 [1:49:56<1:18:26,  1.49it/s][2021-08-18 18:34:28,092][1941939902.py][line:98][INFO] Epoch:[0/1]\t loss=0.00004\t\n"
     ]
    },
    {
     "name": "stdout",
     "output_type": "stream",
     "text": [
      "Debug!!!sche {'base_lrs': [3e-05, 3e-05], 'last_epoch': 8626, '_step_count': 8627, 'verbose': False, '_get_lr_called_within_step': False, '_last_lr': [1.3439139895046718e-05, 1.3439139895046718e-05], 'lr_lambdas': [None, None]}\n"
     ]
    },
    {
     "name": "stderr",
     "output_type": "stream",
     "text": [
      "[2021-08-18 18:34:37,369][1941939902.py][line:112][INFO] Epoch:[0]\t eval_score=0.8111946363265319\n",
      " 56%|█████▌    | 8750/15626 [1:51:29<1:17:23,  1.48it/s][2021-08-18 18:36:01,457][1941939902.py][line:98][INFO] Epoch:[0/1]\t loss=0.00005\t\n"
     ]
    },
    {
     "name": "stdout",
     "output_type": "stream",
     "text": [
      "Debug!!!sche {'base_lrs': [3e-05, 3e-05], 'last_epoch': 8751, '_step_count': 8752, 'verbose': False, '_get_lr_called_within_step': False, '_last_lr': [1.319915525406374e-05, 1.319915525406374e-05], 'lr_lambdas': [None, None]}\n"
     ]
    },
    {
     "name": "stderr",
     "output_type": "stream",
     "text": [
      "[2021-08-18 18:36:10,737][1941939902.py][line:112][INFO] Epoch:[0]\t eval_score=0.8071889714682929\n",
      " 57%|█████▋    | 8875/15626 [1:53:03<1:15:49,  1.48it/s][2021-08-18 18:37:35,267][1941939902.py][line:98][INFO] Epoch:[0/1]\t loss=0.00002\t\n"
     ]
    },
    {
     "name": "stdout",
     "output_type": "stream",
     "text": [
      "Debug!!!sche {'base_lrs': [3e-05, 3e-05], 'last_epoch': 8876, '_step_count': 8877, 'verbose': False, '_get_lr_called_within_step': False, '_last_lr': [1.2959170613080764e-05, 1.2959170613080764e-05], 'lr_lambdas': [None, None]}\n"
     ]
    },
    {
     "name": "stderr",
     "output_type": "stream",
     "text": [
      "[2021-08-18 18:37:44,608][1941939902.py][line:112][INFO] Epoch:[0]\t eval_score=0.8053402034607026\n",
      " 58%|█████▊    | 9000/15626 [1:54:37<1:14:25,  1.48it/s][2021-08-18 18:39:09,143][1941939902.py][line:98][INFO] Epoch:[0/1]\t loss=0.00008\t\n"
     ]
    },
    {
     "name": "stdout",
     "output_type": "stream",
     "text": [
      "Debug!!!sche {'base_lrs': [3e-05, 3e-05], 'last_epoch': 9001, '_step_count': 9002, 'verbose': False, '_get_lr_called_within_step': False, '_last_lr': [1.2719185972097786e-05, 1.2719185972097786e-05], 'lr_lambdas': [None, None]}\n"
     ]
    },
    {
     "name": "stderr",
     "output_type": "stream",
     "text": [
      "[2021-08-18 18:39:18,413][1941939902.py][line:112][INFO] Epoch:[0]\t eval_score=0.7806402575893834\n",
      " 58%|█████▊    | 9125/15626 [1:56:10<1:12:35,  1.49it/s][2021-08-18 18:40:42,494][1941939902.py][line:98][INFO] Epoch:[0/1]\t loss=0.00004\t\n"
     ]
    },
    {
     "name": "stdout",
     "output_type": "stream",
     "text": [
      "Debug!!!sche {'base_lrs': [3e-05, 3e-05], 'last_epoch': 9126, '_step_count': 9127, 'verbose': False, '_get_lr_called_within_step': False, '_last_lr': [1.247920133111481e-05, 1.247920133111481e-05], 'lr_lambdas': [None, None]}\n"
     ]
    },
    {
     "name": "stderr",
     "output_type": "stream",
     "text": [
      "[2021-08-18 18:40:51,760][1941939902.py][line:112][INFO] Epoch:[0]\t eval_score=0.77983246343761\n",
      " 59%|█████▉    | 9250/15626 [1:57:44<1:12:04,  1.47it/s][2021-08-18 18:42:16,286][1941939902.py][line:98][INFO] Epoch:[0/1]\t loss=0.00004\t\n"
     ]
    },
    {
     "name": "stdout",
     "output_type": "stream",
     "text": [
      "Debug!!!sche {'base_lrs': [3e-05, 3e-05], 'last_epoch': 9251, '_step_count': 9252, 'verbose': False, '_get_lr_called_within_step': False, '_last_lr': [1.2239216690131832e-05, 1.2239216690131832e-05], 'lr_lambdas': [None, None]}\n"
     ]
    },
    {
     "name": "stderr",
     "output_type": "stream",
     "text": [
      "[2021-08-18 18:42:25,622][1941939902.py][line:112][INFO] Epoch:[0]\t eval_score=0.7840077794863\n",
      " 60%|█████▉    | 9375/15626 [1:59:18<1:10:15,  1.48it/s][2021-08-18 18:43:50,170][1941939902.py][line:98][INFO] Epoch:[0/1]\t loss=0.00003\t\n"
     ]
    },
    {
     "name": "stdout",
     "output_type": "stream",
     "text": [
      "Debug!!!sche {'base_lrs': [3e-05, 3e-05], 'last_epoch': 9376, '_step_count': 9377, 'verbose': False, '_get_lr_called_within_step': False, '_last_lr': [1.1999232049148856e-05, 1.1999232049148856e-05], 'lr_lambdas': [None, None]}\n"
     ]
    },
    {
     "name": "stderr",
     "output_type": "stream",
     "text": [
      "[2021-08-18 18:43:59,487][1941939902.py][line:112][INFO] Epoch:[0]\t eval_score=0.7934530226593675\n",
      " 61%|██████    | 9500/15626 [2:00:52<1:08:46,  1.48it/s][2021-08-18 18:45:23,562][1941939902.py][line:98][INFO] Epoch:[0/1]\t loss=0.00003\t\n"
     ]
    },
    {
     "name": "stdout",
     "output_type": "stream",
     "text": [
      "Debug!!!sche {'base_lrs': [3e-05, 3e-05], 'last_epoch': 9501, '_step_count': 9502, 'verbose': False, '_get_lr_called_within_step': False, '_last_lr': [1.1759247408165878e-05, 1.1759247408165878e-05], 'lr_lambdas': [None, None]}\n"
     ]
    },
    {
     "name": "stderr",
     "output_type": "stream",
     "text": [
      "[2021-08-18 18:45:32,829][1941939902.py][line:112][INFO] Epoch:[0]\t eval_score=0.793350801763775\n",
      " 62%|██████▏   | 9625/15626 [2:02:25<1:07:35,  1.48it/s][2021-08-18 18:46:56,982][1941939902.py][line:98][INFO] Epoch:[0/1]\t loss=0.00003\t\n"
     ]
    },
    {
     "name": "stdout",
     "output_type": "stream",
     "text": [
      "Debug!!!sche {'base_lrs': [3e-05, 3e-05], 'last_epoch': 9626, '_step_count': 9627, 'verbose': False, '_get_lr_called_within_step': False, '_last_lr': [1.15192627671829e-05, 1.15192627671829e-05], 'lr_lambdas': [None, None]}\n"
     ]
    },
    {
     "name": "stderr",
     "output_type": "stream",
     "text": [
      "[2021-08-18 18:47:06,301][1941939902.py][line:112][INFO] Epoch:[0]\t eval_score=0.8124162474898634\n",
      " 62%|██████▏   | 9750/15626 [2:03:59<1:06:06,  1.48it/s][2021-08-18 18:48:30,921][1941939902.py][line:98][INFO] Epoch:[0/1]\t loss=0.00004\t\n"
     ]
    },
    {
     "name": "stdout",
     "output_type": "stream",
     "text": [
      "Debug!!!sche {'base_lrs': [3e-05, 3e-05], 'last_epoch': 9751, '_step_count': 9752, 'verbose': False, '_get_lr_called_within_step': False, '_last_lr': [1.1279278126199922e-05, 1.1279278126199922e-05], 'lr_lambdas': [None, None]}\n"
     ]
    },
    {
     "name": "stderr",
     "output_type": "stream",
     "text": [
      "[2021-08-18 18:48:40,266][1941939902.py][line:112][INFO] Epoch:[0]\t eval_score=0.8098971639008832\n",
      " 63%|██████▎   | 9875/15626 [2:05:33<1:04:34,  1.48it/s][2021-08-18 18:50:04,707][1941939902.py][line:98][INFO] Epoch:[0/1]\t loss=0.00006\t\n"
     ]
    },
    {
     "name": "stdout",
     "output_type": "stream",
     "text": [
      "Debug!!!sche {'base_lrs': [3e-05, 3e-05], 'last_epoch': 9876, '_step_count': 9877, 'verbose': False, '_get_lr_called_within_step': False, '_last_lr': [1.1039293485216946e-05, 1.1039293485216946e-05], 'lr_lambdas': [None, None]}\n"
     ]
    },
    {
     "name": "stderr",
     "output_type": "stream",
     "text": [
      "[2021-08-18 18:50:13,954][1941939902.py][line:112][INFO] Epoch:[0]\t eval_score=0.8022038756735135\n",
      " 64%|██████▍   | 10000/15626 [2:07:06<1:03:16,  1.48it/s][2021-08-18 18:51:38,157][1941939902.py][line:98][INFO] Epoch:[0/1]\t loss=0.00003\t\n"
     ]
    },
    {
     "name": "stdout",
     "output_type": "stream",
     "text": [
      "Debug!!!sche {'base_lrs': [3e-05, 3e-05], 'last_epoch': 10001, '_step_count': 10002, 'verbose': False, '_get_lr_called_within_step': False, '_last_lr': [1.079930884423397e-05, 1.079930884423397e-05], 'lr_lambdas': [None, None]}\n"
     ]
    },
    {
     "name": "stderr",
     "output_type": "stream",
     "text": [
      "[2021-08-18 18:51:47,467][1941939902.py][line:112][INFO] Epoch:[0]\t eval_score=0.8022727814150161\n",
      " 65%|██████▍   | 10125/15626 [2:08:40<1:02:06,  1.48it/s][2021-08-18 18:53:12,122][1941939902.py][line:98][INFO] Epoch:[0/1]\t loss=0.00004\t\n"
     ]
    },
    {
     "name": "stdout",
     "output_type": "stream",
     "text": [
      "Debug!!!sche {'base_lrs': [3e-05, 3e-05], 'last_epoch': 10126, '_step_count': 10127, 'verbose': False, '_get_lr_called_within_step': False, '_last_lr': [1.0559324203250992e-05, 1.0559324203250992e-05], 'lr_lambdas': [None, None]}\n"
     ]
    },
    {
     "name": "stderr",
     "output_type": "stream",
     "text": [
      "[2021-08-18 18:53:21,464][1941939902.py][line:112][INFO] Epoch:[0]\t eval_score=0.8029831776368244\n",
      " 66%|██████▌   | 10250/15626 [2:10:14<1:00:20,  1.48it/s][2021-08-18 18:54:45,869][1941939902.py][line:98][INFO] Epoch:[0/1]\t loss=0.00008\t\n"
     ]
    },
    {
     "name": "stdout",
     "output_type": "stream",
     "text": [
      "Debug!!!sche {'base_lrs': [3e-05, 3e-05], 'last_epoch': 10251, '_step_count': 10252, 'verbose': False, '_get_lr_called_within_step': False, '_last_lr': [1.0319339562268015e-05, 1.0319339562268015e-05], 'lr_lambdas': [None, None]}\n"
     ]
    },
    {
     "name": "stderr",
     "output_type": "stream",
     "text": [
      "[2021-08-18 18:54:55,142][1941939902.py][line:112][INFO] Epoch:[0]\t eval_score=0.7887888824299184\n",
      " 66%|██████▋   | 10375/15626 [2:11:47<58:38,  1.49it/s]  [2021-08-18 18:56:19,401][1941939902.py][line:98][INFO] Epoch:[0/1]\t loss=0.00002\t\n"
     ]
    },
    {
     "name": "stdout",
     "output_type": "stream",
     "text": [
      "Debug!!!sche {'base_lrs': [3e-05, 3e-05], 'last_epoch': 10376, '_step_count': 10377, 'verbose': False, '_get_lr_called_within_step': False, '_last_lr': [1.0079354921285037e-05, 1.0079354921285037e-05], 'lr_lambdas': [None, None]}\n"
     ]
    },
    {
     "name": "stderr",
     "output_type": "stream",
     "text": [
      "[2021-08-18 18:56:28,661][1941939902.py][line:112][INFO] Epoch:[0]\t eval_score=0.7906376915349826\n",
      " 67%|██████▋   | 10500/15626 [2:13:21<57:52,  1.48it/s]  [2021-08-18 18:57:52,817][1941939902.py][line:98][INFO] Epoch:[0/1]\t loss=0.00006\t\n"
     ]
    },
    {
     "name": "stdout",
     "output_type": "stream",
     "text": [
      "Debug!!!sche {'base_lrs': [3e-05, 3e-05], 'last_epoch': 10501, '_step_count': 10502, 'verbose': False, '_get_lr_called_within_step': False, '_last_lr': [9.839370280302061e-06, 9.839370280302061e-06], 'lr_lambdas': [None, None]}\n"
     ]
    },
    {
     "name": "stderr",
     "output_type": "stream",
     "text": [
      "[2021-08-18 18:58:02,132][1941939902.py][line:112][INFO] Epoch:[0]\t eval_score=0.8026757016219013\n",
      " 68%|██████▊   | 10625/15626 [2:14:55<56:23,  1.48it/s]  [2021-08-18 18:59:26,597][1941939902.py][line:98][INFO] Epoch:[0/1]\t loss=0.00004\t\n"
     ]
    },
    {
     "name": "stdout",
     "output_type": "stream",
     "text": [
      "Debug!!!sche {'base_lrs': [3e-05, 3e-05], 'last_epoch': 10626, '_step_count': 10627, 'verbose': False, '_get_lr_called_within_step': False, '_last_lr': [9.599385639319083e-06, 9.599385639319083e-06], 'lr_lambdas': [None, None]}\n"
     ]
    },
    {
     "name": "stderr",
     "output_type": "stream",
     "text": [
      "[2021-08-18 18:59:35,931][1941939902.py][line:112][INFO] Epoch:[0]\t eval_score=0.8029351840073786\n",
      " 69%|██████▉   | 10750/15626 [2:16:28<54:46,  1.48it/s]  [2021-08-18 19:01:00,423][1941939902.py][line:98][INFO] Epoch:[0/1]\t loss=0.00003\t\n"
     ]
    },
    {
     "name": "stdout",
     "output_type": "stream",
     "text": [
      "Debug!!!sche {'base_lrs': [3e-05, 3e-05], 'last_epoch': 10751, '_step_count': 10752, 'verbose': False, '_get_lr_called_within_step': False, '_last_lr': [9.359400998336107e-06, 9.359400998336107e-06], 'lr_lambdas': [None, None]}\n"
     ]
    },
    {
     "name": "stderr",
     "output_type": "stream",
     "text": [
      "[2021-08-18 19:01:09,723][1941939902.py][line:112][INFO] Epoch:[0]\t eval_score=0.7968416422542361\n",
      " 70%|██████▉   | 10875/15626 [2:18:02<53:20,  1.48it/s]  [2021-08-18 19:02:33,747][1941939902.py][line:98][INFO] Epoch:[0/1]\t loss=0.00004\t\n"
     ]
    },
    {
     "name": "stdout",
     "output_type": "stream",
     "text": [
      "Debug!!!sche {'base_lrs': [3e-05, 3e-05], 'last_epoch': 10876, '_step_count': 10877, 'verbose': False, '_get_lr_called_within_step': False, '_last_lr': [9.119416357353129e-06, 9.119416357353129e-06], 'lr_lambdas': [None, None]}\n"
     ]
    },
    {
     "name": "stderr",
     "output_type": "stream",
     "text": [
      "[2021-08-18 19:02:42,985][1941939902.py][line:112][INFO] Epoch:[0]\t eval_score=0.7993394466504771\n",
      " 70%|███████   | 11000/15626 [2:19:35<51:56,  1.48it/s]  [2021-08-18 19:04:07,011][1941939902.py][line:98][INFO] Epoch:[0/1]\t loss=0.00002\t\n"
     ]
    },
    {
     "name": "stdout",
     "output_type": "stream",
     "text": [
      "Debug!!!sche {'base_lrs': [3e-05, 3e-05], 'last_epoch': 11001, '_step_count': 11002, 'verbose': False, '_get_lr_called_within_step': False, '_last_lr': [8.879431716370153e-06, 8.879431716370153e-06], 'lr_lambdas': [None, None]}\n"
     ]
    },
    {
     "name": "stderr",
     "output_type": "stream",
     "text": [
      "[2021-08-18 19:04:16,313][1941939902.py][line:112][INFO] Epoch:[0]\t eval_score=0.8128384417314023\n",
      " 71%|███████   | 11125/15626 [2:21:09<51:08,  1.47it/s]  [2021-08-18 19:05:40,795][1941939902.py][line:98][INFO] Epoch:[0/1]\t loss=0.00005\t\n"
     ]
    },
    {
     "name": "stdout",
     "output_type": "stream",
     "text": [
      "Debug!!!sche {'base_lrs': [3e-05, 3e-05], 'last_epoch': 11126, '_step_count': 11127, 'verbose': False, '_get_lr_called_within_step': False, '_last_lr': [8.639447075387175e-06, 8.639447075387175e-06], 'lr_lambdas': [None, None]}\n"
     ]
    },
    {
     "name": "stderr",
     "output_type": "stream",
     "text": [
      "[2021-08-18 19:05:50,119][1941939902.py][line:112][INFO] Epoch:[0]\t eval_score=0.7920949309748029\n",
      " 72%|███████▏  | 11250/15626 [2:22:42<49:03,  1.49it/s]  [2021-08-18 19:07:14,495][1941939902.py][line:98][INFO] Epoch:[0/1]\t loss=0.00007\t\n"
     ]
    },
    {
     "name": "stdout",
     "output_type": "stream",
     "text": [
      "Debug!!!sche {'base_lrs': [3e-05, 3e-05], 'last_epoch': 11251, '_step_count': 11252, 'verbose': False, '_get_lr_called_within_step': False, '_last_lr': [8.399462434404199e-06, 8.399462434404199e-06], 'lr_lambdas': [None, None]}\n"
     ]
    },
    {
     "name": "stderr",
     "output_type": "stream",
     "text": [
      "[2021-08-18 19:07:23,818][1941939902.py][line:112][INFO] Epoch:[0]\t eval_score=0.7904052287411056\n",
      " 73%|███████▎  | 11375/15626 [2:24:16<47:45,  1.48it/s]  [2021-08-18 19:08:48,059][1941939902.py][line:98][INFO] Epoch:[0/1]\t loss=0.00007\t\n"
     ]
    },
    {
     "name": "stdout",
     "output_type": "stream",
     "text": [
      "Debug!!!sche {'base_lrs': [3e-05, 3e-05], 'last_epoch': 11376, '_step_count': 11377, 'verbose': False, '_get_lr_called_within_step': False, '_last_lr': [8.159477793421222e-06, 8.159477793421222e-06], 'lr_lambdas': [None, None]}\n"
     ]
    },
    {
     "name": "stderr",
     "output_type": "stream",
     "text": [
      "[2021-08-18 19:08:57,364][1941939902.py][line:112][INFO] Epoch:[0]\t eval_score=0.7918523365013359\n",
      " 74%|███████▎  | 11500/15626 [2:25:50<46:29,  1.48it/s]  [2021-08-18 19:10:21,718][1941939902.py][line:98][INFO] Epoch:[0/1]\t loss=0.00006\t\n"
     ]
    },
    {
     "name": "stdout",
     "output_type": "stream",
     "text": [
      "Debug!!!sche {'base_lrs': [3e-05, 3e-05], 'last_epoch': 11501, '_step_count': 11502, 'verbose': False, '_get_lr_called_within_step': False, '_last_lr': [7.919493152438245e-06, 7.919493152438245e-06], 'lr_lambdas': [None, None]}\n"
     ]
    },
    {
     "name": "stderr",
     "output_type": "stream",
     "text": [
      "[2021-08-18 19:10:31,044][1941939902.py][line:112][INFO] Epoch:[0]\t eval_score=0.8047112083647046\n",
      " 74%|███████▍  | 11625/15626 [2:27:23<45:00,  1.48it/s]  [2021-08-18 19:11:55,437][1941939902.py][line:98][INFO] Epoch:[0/1]\t loss=0.00004\t\n"
     ]
    },
    {
     "name": "stdout",
     "output_type": "stream",
     "text": [
      "Debug!!!sche {'base_lrs': [3e-05, 3e-05], 'last_epoch': 11626, '_step_count': 11627, 'verbose': False, '_get_lr_called_within_step': False, '_last_lr': [7.679508511455268e-06, 7.679508511455268e-06], 'lr_lambdas': [None, None]}\n"
     ]
    },
    {
     "name": "stderr",
     "output_type": "stream",
     "text": [
      "[2021-08-18 19:12:04,764][1941939902.py][line:112][INFO] Epoch:[0]\t eval_score=0.8036831720680571\n",
      " 75%|███████▌  | 11750/15626 [2:28:57<43:36,  1.48it/s]  [2021-08-18 19:13:29,174][1941939902.py][line:98][INFO] Epoch:[0/1]\t loss=0.00004\t\n"
     ]
    },
    {
     "name": "stdout",
     "output_type": "stream",
     "text": [
      "Debug!!!sche {'base_lrs': [3e-05, 3e-05], 'last_epoch': 11751, '_step_count': 11752, 'verbose': False, '_get_lr_called_within_step': False, '_last_lr': [7.4395238704722895e-06, 7.4395238704722895e-06], 'lr_lambdas': [None, None]}\n"
     ]
    },
    {
     "name": "stderr",
     "output_type": "stream",
     "text": [
      "[2021-08-18 19:13:38,472][1941939902.py][line:112][INFO] Epoch:[0]\t eval_score=0.7873955896534456\n",
      " 76%|███████▌  | 11875/15626 [2:30:31<42:13,  1.48it/s]  [2021-08-18 19:15:02,908][1941939902.py][line:98][INFO] Epoch:[0/1]\t loss=0.00004\t\n"
     ]
    },
    {
     "name": "stdout",
     "output_type": "stream",
     "text": [
      "Debug!!!sche {'base_lrs': [3e-05, 3e-05], 'last_epoch': 11876, '_step_count': 11877, 'verbose': False, '_get_lr_called_within_step': False, '_last_lr': [7.1995392294893125e-06, 7.1995392294893125e-06], 'lr_lambdas': [None, None]}\n"
     ]
    },
    {
     "name": "stderr",
     "output_type": "stream",
     "text": [
      "[2021-08-18 19:15:12,223][1941939902.py][line:112][INFO] Epoch:[0]\t eval_score=0.7990574108686526\n",
      " 77%|███████▋  | 12000/15626 [2:32:05<40:54,  1.48it/s]  [2021-08-18 19:16:36,613][1941939902.py][line:98][INFO] Epoch:[0/1]\t loss=0.00002\t\n"
     ]
    },
    {
     "name": "stdout",
     "output_type": "stream",
     "text": [
      "Debug!!!sche {'base_lrs': [3e-05, 3e-05], 'last_epoch': 12001, '_step_count': 12002, 'verbose': False, '_get_lr_called_within_step': False, '_last_lr': [6.959554588506335e-06, 6.959554588506335e-06], 'lr_lambdas': [None, None]}\n"
     ]
    },
    {
     "name": "stderr",
     "output_type": "stream",
     "text": [
      "[2021-08-18 19:16:45,902][1941939902.py][line:112][INFO] Epoch:[0]\t eval_score=0.7966492793135367\n",
      " 78%|███████▊  | 12125/15626 [2:33:38<39:28,  1.48it/s]  [2021-08-18 19:18:10,300][1941939902.py][line:98][INFO] Epoch:[0/1]\t loss=0.00003\t\n"
     ]
    },
    {
     "name": "stdout",
     "output_type": "stream",
     "text": [
      "Debug!!!sche {'base_lrs': [3e-05, 3e-05], 'last_epoch': 12126, '_step_count': 12127, 'verbose': False, '_get_lr_called_within_step': False, '_last_lr': [6.719569947523359e-06, 6.719569947523359e-06], 'lr_lambdas': [None, None]}\n"
     ]
    },
    {
     "name": "stderr",
     "output_type": "stream",
     "text": [
      "[2021-08-18 19:18:19,606][1941939902.py][line:112][INFO] Epoch:[0]\t eval_score=0.797726981124886\n",
      " 78%|███████▊  | 12250/15626 [2:35:12<38:12,  1.47it/s]  [2021-08-18 19:19:44,055][1941939902.py][line:98][INFO] Epoch:[0/1]\t loss=0.00002\t\n"
     ]
    },
    {
     "name": "stdout",
     "output_type": "stream",
     "text": [
      "Debug!!!sche {'base_lrs': [3e-05, 3e-05], 'last_epoch': 12251, '_step_count': 12252, 'verbose': False, '_get_lr_called_within_step': False, '_last_lr': [6.479585306540382e-06, 6.479585306540382e-06], 'lr_lambdas': [None, None]}\n"
     ]
    },
    {
     "name": "stderr",
     "output_type": "stream",
     "text": [
      "[2021-08-18 19:19:53,371][1941939902.py][line:112][INFO] Epoch:[0]\t eval_score=0.7970250340212477\n",
      " 79%|███████▉  | 12375/15626 [2:36:46<36:25,  1.49it/s]  [2021-08-18 19:21:17,786][1941939902.py][line:98][INFO] Epoch:[0/1]\t loss=0.00002\t\n"
     ]
    },
    {
     "name": "stdout",
     "output_type": "stream",
     "text": [
      "Debug!!!sche {'base_lrs': [3e-05, 3e-05], 'last_epoch': 12376, '_step_count': 12377, 'verbose': False, '_get_lr_called_within_step': False, '_last_lr': [6.239600665557405e-06, 6.239600665557405e-06], 'lr_lambdas': [None, None]}\n"
     ]
    },
    {
     "name": "stderr",
     "output_type": "stream",
     "text": [
      "[2021-08-18 19:21:27,087][1941939902.py][line:112][INFO] Epoch:[0]\t eval_score=0.7898837888794752\n",
      " 80%|███████▉  | 12500/15626 [2:38:19<35:05,  1.48it/s]  [2021-08-18 19:22:51,415][1941939902.py][line:98][INFO] Epoch:[0/1]\t loss=0.00005\t\n"
     ]
    },
    {
     "name": "stdout",
     "output_type": "stream",
     "text": [
      "Debug!!!sche {'base_lrs': [3e-05, 3e-05], 'last_epoch': 12501, '_step_count': 12502, 'verbose': False, '_get_lr_called_within_step': False, '_last_lr': [5.999616024574428e-06, 5.999616024574428e-06], 'lr_lambdas': [None, None]}\n"
     ]
    },
    {
     "name": "stderr",
     "output_type": "stream",
     "text": [
      "[2021-08-18 19:23:00,727][1941939902.py][line:112][INFO] Epoch:[0]\t eval_score=0.7892875607100046\n",
      " 81%|████████  | 12625/15626 [2:39:53<33:41,  1.48it/s]  [2021-08-18 19:24:25,179][1941939902.py][line:98][INFO] Epoch:[0/1]\t loss=0.00002\t\n"
     ]
    },
    {
     "name": "stdout",
     "output_type": "stream",
     "text": [
      "Debug!!!sche {'base_lrs': [3e-05, 3e-05], 'last_epoch': 12626, '_step_count': 12627, 'verbose': False, '_get_lr_called_within_step': False, '_last_lr': [5.75963138359145e-06, 5.75963138359145e-06], 'lr_lambdas': [None, None]}\n"
     ]
    },
    {
     "name": "stderr",
     "output_type": "stream",
     "text": [
      "[2021-08-18 19:24:34,491][1941939902.py][line:112][INFO] Epoch:[0]\t eval_score=0.7909097468828734\n",
      " 82%|████████▏ | 12750/15626 [2:41:27<32:27,  1.48it/s]  [2021-08-18 19:25:58,928][1941939902.py][line:98][INFO] Epoch:[0/1]\t loss=0.00002\t\n"
     ]
    },
    {
     "name": "stdout",
     "output_type": "stream",
     "text": [
      "Debug!!!sche {'base_lrs': [3e-05, 3e-05], 'last_epoch': 12751, '_step_count': 12752, 'verbose': False, '_get_lr_called_within_step': False, '_last_lr': [5.519646742608473e-06, 5.519646742608473e-06], 'lr_lambdas': [None, None]}\n"
     ]
    },
    {
     "name": "stderr",
     "output_type": "stream",
     "text": [
      "[2021-08-18 19:26:08,263][1941939902.py][line:112][INFO] Epoch:[0]\t eval_score=0.791226270232982\n",
      " 82%|████████▏ | 12875/15626 [2:43:01<30:53,  1.48it/s]  [2021-08-18 19:27:32,649][1941939902.py][line:98][INFO] Epoch:[0/1]\t loss=0.00002\t\n"
     ]
    },
    {
     "name": "stdout",
     "output_type": "stream",
     "text": [
      "Debug!!!sche {'base_lrs': [3e-05, 3e-05], 'last_epoch': 12876, '_step_count': 12877, 'verbose': False, '_get_lr_called_within_step': False, '_last_lr': [5.279662101625496e-06, 5.279662101625496e-06], 'lr_lambdas': [None, None]}\n"
     ]
    },
    {
     "name": "stderr",
     "output_type": "stream",
     "text": [
      "[2021-08-18 19:27:41,937][1941939902.py][line:112][INFO] Epoch:[0]\t eval_score=0.7918938721171889\n",
      " 83%|████████▎ | 13000/15626 [2:44:34<29:24,  1.49it/s]  [2021-08-18 19:29:05,991][1941939902.py][line:98][INFO] Epoch:[0/1]\t loss=0.00003\t\n"
     ]
    },
    {
     "name": "stdout",
     "output_type": "stream",
     "text": [
      "Debug!!!sche {'base_lrs': [3e-05, 3e-05], 'last_epoch': 13001, '_step_count': 13002, 'verbose': False, '_get_lr_called_within_step': False, '_last_lr': [5.039677460642519e-06, 5.039677460642519e-06], 'lr_lambdas': [None, None]}\n"
     ]
    },
    {
     "name": "stderr",
     "output_type": "stream",
     "text": [
      "[2021-08-18 19:29:15,258][1941939902.py][line:112][INFO] Epoch:[0]\t eval_score=0.8022512529304082\n",
      " 84%|████████▍ | 13125/15626 [2:46:07<28:05,  1.48it/s]  [2021-08-18 19:30:39,356][1941939902.py][line:98][INFO] Epoch:[0/1]\t loss=0.00003\t\n"
     ]
    },
    {
     "name": "stdout",
     "output_type": "stream",
     "text": [
      "Debug!!!sche {'base_lrs': [3e-05, 3e-05], 'last_epoch': 13126, '_step_count': 13127, 'verbose': False, '_get_lr_called_within_step': False, '_last_lr': [4.799692819659542e-06, 4.799692819659542e-06], 'lr_lambdas': [None, None]}\n"
     ]
    },
    {
     "name": "stderr",
     "output_type": "stream",
     "text": [
      "[2021-08-18 19:30:48,663][1941939902.py][line:112][INFO] Epoch:[0]\t eval_score=0.8055581253192778\n",
      " 85%|████████▍ | 13250/15626 [2:47:41<26:38,  1.49it/s]  [2021-08-18 19:32:13,135][1941939902.py][line:98][INFO] Epoch:[0/1]\t loss=0.00004\t\n"
     ]
    },
    {
     "name": "stdout",
     "output_type": "stream",
     "text": [
      "Debug!!!sche {'base_lrs': [3e-05, 3e-05], 'last_epoch': 13251, '_step_count': 13252, 'verbose': False, '_get_lr_called_within_step': False, '_last_lr': [4.5597081786765646e-06, 4.5597081786765646e-06], 'lr_lambdas': [None, None]}\n"
     ]
    },
    {
     "name": "stderr",
     "output_type": "stream",
     "text": [
      "[2021-08-18 19:32:22,490][1941939902.py][line:112][INFO] Epoch:[0]\t eval_score=0.8118218271508221\n",
      " 86%|████████▌ | 13375/15626 [2:49:15<25:07,  1.49it/s]  [2021-08-18 19:33:46,745][1941939902.py][line:98][INFO] Epoch:[0/1]\t loss=0.00002\t\n"
     ]
    },
    {
     "name": "stdout",
     "output_type": "stream",
     "text": [
      "Debug!!!sche {'base_lrs': [3e-05, 3e-05], 'last_epoch': 13376, '_step_count': 13377, 'verbose': False, '_get_lr_called_within_step': False, '_last_lr': [4.3197235376935875e-06, 4.3197235376935875e-06], 'lr_lambdas': [None, None]}\n"
     ]
    },
    {
     "name": "stderr",
     "output_type": "stream",
     "text": [
      "[2021-08-18 19:33:56,009][1941939902.py][line:112][INFO] Epoch:[0]\t eval_score=0.8129029702456848\n",
      " 86%|████████▋ | 13500/15626 [2:50:48<23:49,  1.49it/s]  [2021-08-18 19:35:19,981][1941939902.py][line:98][INFO] Epoch:[0/1]\t loss=0.00003\t\n"
     ]
    },
    {
     "name": "stdout",
     "output_type": "stream",
     "text": [
      "Debug!!!sche {'base_lrs': [3e-05, 3e-05], 'last_epoch': 13501, '_step_count': 13502, 'verbose': False, '_get_lr_called_within_step': False, '_last_lr': [4.079738896710611e-06, 4.079738896710611e-06], 'lr_lambdas': [None, None]}\n"
     ]
    },
    {
     "name": "stderr",
     "output_type": "stream",
     "text": [
      "[2021-08-18 19:35:29,273][1941939902.py][line:112][INFO] Epoch:[0]\t eval_score=0.8108694314757702\n",
      " 87%|████████▋ | 13625/15626 [2:52:22<22:33,  1.48it/s]  [2021-08-18 19:36:53,690][1941939902.py][line:98][INFO] Epoch:[0/1]\t loss=0.00004\t\n"
     ]
    },
    {
     "name": "stdout",
     "output_type": "stream",
     "text": [
      "Debug!!!sche {'base_lrs': [3e-05, 3e-05], 'last_epoch': 13626, '_step_count': 13627, 'verbose': False, '_get_lr_called_within_step': False, '_last_lr': [3.839754255727634e-06, 3.839754255727634e-06], 'lr_lambdas': [None, None]}\n"
     ]
    },
    {
     "name": "stderr",
     "output_type": "stream",
     "text": [
      "[2021-08-18 19:37:03,023][1941939902.py][line:112][INFO] Epoch:[0]\t eval_score=0.8104841180426013\n",
      " 88%|████████▊ | 13750/15626 [2:53:55<20:59,  1.49it/s]  [2021-08-18 19:38:27,488][1941939902.py][line:98][INFO] Epoch:[0/1]\t loss=0.00002\t\n"
     ]
    },
    {
     "name": "stdout",
     "output_type": "stream",
     "text": [
      "Debug!!!sche {'base_lrs': [3e-05, 3e-05], 'last_epoch': 13751, '_step_count': 13752, 'verbose': False, '_get_lr_called_within_step': False, '_last_lr': [3.5997696147446562e-06, 3.5997696147446562e-06], 'lr_lambdas': [None, None]}\n"
     ]
    },
    {
     "name": "stderr",
     "output_type": "stream",
     "text": [
      "[2021-08-18 19:38:36,791][1941939902.py][line:112][INFO] Epoch:[0]\t eval_score=0.8096272775936354\n",
      " 89%|████████▉ | 13875/15626 [2:55:29<19:41,  1.48it/s]  [2021-08-18 19:40:00,810][1941939902.py][line:98][INFO] Epoch:[0/1]\t loss=0.00001\t\n"
     ]
    },
    {
     "name": "stdout",
     "output_type": "stream",
     "text": [
      "Debug!!!sche {'base_lrs': [3e-05, 3e-05], 'last_epoch': 13876, '_step_count': 13877, 'verbose': False, '_get_lr_called_within_step': False, '_last_lr': [3.3597849737616796e-06, 3.3597849737616796e-06], 'lr_lambdas': [None, None]}\n"
     ]
    },
    {
     "name": "stderr",
     "output_type": "stream",
     "text": [
      "[2021-08-18 19:40:10,085][1941939902.py][line:112][INFO] Epoch:[0]\t eval_score=0.8088372823865296\n",
      " 90%|████████▉ | 14000/15626 [2:57:03<18:22,  1.47it/s]  [2021-08-18 19:41:35,173][1941939902.py][line:98][INFO] Epoch:[0/1]\t loss=0.00009\t\n"
     ]
    },
    {
     "name": "stdout",
     "output_type": "stream",
     "text": [
      "Debug!!!sche {'base_lrs': [3e-05, 3e-05], 'last_epoch': 14001, '_step_count': 14002, 'verbose': False, '_get_lr_called_within_step': False, '_last_lr': [3.1198003327787025e-06, 3.1198003327787025e-06], 'lr_lambdas': [None, None]}\n"
     ]
    },
    {
     "name": "stderr",
     "output_type": "stream",
     "text": [
      "[2021-08-18 19:41:44,508][1941939902.py][line:112][INFO] Epoch:[0]\t eval_score=0.8020587846493148\n",
      " 90%|█████████ | 14076/15626 [2:58:04<17:39,  1.46it/s]  "
     ]
    }
   ],
   "source": [
    "\n",
    "writer = SummaryWriter('./log/stsb/对比对抗')\n",
    "PATH = './log/stsb/对比对抗/best_model1.pth'\n",
    "loss_list_val = []\n",
    "logger.info('start training')\n",
    "min_score = 0\n",
    "max_f1 = 0\n",
    "#print('Debug optimi',optimizer.state_dict())\n",
    "\n",
    "\n",
    "for epoch in range(num_epochs):\n",
    "    #model.train()\n",
    "    #for i, batch in enumerate(tqdm(dataset)):\n",
    "    for i, batch in enumerate(tqdm(train_loader)):\n",
    "        model.train()\n",
    "        #mlp.train()\n",
    "        batch = {k: v.to(device) for k, v in batch.items()}\n",
    "        #不同dropout输出\n",
    "        #print(batch['input_ids'].shape)\n",
    "        _, z = model(**batch)\n",
    "        z_1, z_2 = z[:,0], z[:,1]\n",
    "        #_, z_2 = model(**batch)\n",
    "        \n",
    "        #gradient = autograd.grad(loss_clean, \n",
    "              #embedding_out, retain_graph=True,allow_unused=True)[0]\n",
    "        #loss_adv, logit, embedding_out, encoder_cls2 = model(flag=True, gradient=gradient, **batch)\n",
    "        #经过MLP层\n",
    "        #print(encoder_cls1.size())\n",
    "        z_1.to(device)\n",
    "        #z_1 = mlp(z_1)\n",
    "        z_2.to(device)\n",
    "        #print('z',z.shape)\n",
    "        #print('z1',z_1.shape)\n",
    "        #print('z2',z_2.shape)\n",
    "        #z_2 = mlp(z_2)\n",
    "        #print(z_1.unsqueeze(1).size())\n",
    "        #pool1 = z_1[:64,:]\n",
    "        #pool2 = z_1[64:,:]\n",
    "        #print(pool1.size())        \n",
    "        #计算相似度\n",
    "        #loss = compute_loss(z_1, tao=0.05, device=device)\n",
    "\n",
    "        cos_sim = compute_similarity(z_1.unsqueeze(1), z_2.unsqueeze(0), 0.05)\n",
    "        label_ctr = torch.arange(cos_sim.size(0)).long().to(device)\n",
    "        #print(label_ctr.size())\n",
    "        #print(cos_sim.size())\n",
    "        \n",
    "        loss_ctr = loss_fct(cos_sim, label_ctr)\n",
    "        loss = loss_ctr\n",
    "\n",
    "        loss.backward() \n",
    "        #optimizer.clip_grad_norm(1.0)\n",
    "        torch.nn.utils.clip_grad_norm_(model.parameters(),1.0)\n",
    "        optimizer.step()\n",
    "        lr_scheduler.step()\n",
    "        \n",
    "        \n",
    "        #optimizer.zero_grad()\n",
    "        model.zero_grad()  \n",
    "        if  i % 125 == 0:\n",
    "            print('Debug!!!sche',lr_scheduler.state_dict())\n",
    "            writer.add_scalar(\"Train/Loss\", loss.item(), epoch*len(dataset)+i)\n",
    "            logger.info('Epoch:[{}/{}]\\t loss={:.5f}\\t'.format(epoch , num_epochs, loss))\n",
    "            model.eval()\n",
    "            eval_score = eval(dev_data, model, device)\n",
    "            writer.add_scalar(\"dev/score\", eval_score, epoch+1)\n",
    "\n",
    "            if eval_score > min_score:\n",
    "                min_score = eval_score\n",
    "                torch.save({\n",
    "                    'epoch': epoch,\n",
    "                    'model_state_dict': model.state_dict(),\n",
    "                    'optimizer_state_dict': optimizer.state_dict(),\n",
    "                    'loss': loss,\n",
    "                    }, PATH)\n",
    "\n",
    "            logger.info('Epoch:[{}]\\t eval_score={}'.format(epoch , eval_score))\n"
   ]
  },
  {
   "cell_type": "code",
   "execution_count": null,
   "id": "994637e6",
   "metadata": {},
   "outputs": [],
   "source": [
    "tokenizer.batch_encode_plus?"
   ]
  },
  {
   "cell_type": "code",
   "execution_count": null,
   "id": "a870c427",
   "metadata": {},
   "outputs": [],
   "source": [
    "tokenizer?"
   ]
  },
  {
   "cell_type": "code",
   "execution_count": null,
   "id": "51f2bfdb",
   "metadata": {},
   "outputs": [],
   "source": []
  }
 ],
 "metadata": {
  "kernelspec": {
   "display_name": "Python 3 (ipykernel)",
   "language": "python",
   "name": "python3"
  },
  "language_info": {
   "codemirror_mode": {
    "name": "ipython",
    "version": 3
   },
   "file_extension": ".py",
   "mimetype": "text/x-python",
   "name": "python",
   "nbconvert_exporter": "python",
   "pygments_lexer": "ipython3",
   "version": "3.9.5"
  }
 },
 "nbformat": 4,
 "nbformat_minor": 5
}
